{
 "cells": [
  {
   "cell_type": "markdown",
   "metadata": {},
   "source": [
    "# **Data & Design: Code for Design**\n",
    "\n",
    "#### Introduction to Computation for Design: Numerical descriptions as Design tools\n",
    "\n",
    "\n",
    "**KEYWORD:**\n",
    "Computational Design, Computer-Aided Design, Data-Driven Design, AI-aided Design, ML-driven Design, Parametric design, Agent-Based / multi-agent based design system, Rule-Based, Generative Design System, Automation, Optimization, \n",
    "Numerical descriptions, Explicit design process, Parameterize issues, Relationship, Dependency, Hierarchy, Complex system in design\n",
    "Vector, Raster, Urban Data, GIS, Data Processing, Data Mining, Machine Learning, Artificial Intelligence, Visualization, Mapping, Design Decision-Making ..."
   ]
  },
  {
   "cell_type": "markdown",
   "metadata": {},
   "source": [
    "**SHORT DESCRIPTION:**\n",
    "This course contains several lectures and hands-on workshops for those who want to use data as design materials in the development of the design process. This course was basically designed for one semester. However, for six days, we will gently visit the critical concepts and implementations of the topics: Code, Data and processing, Geometry data, Vector, Raster, Regression, Classification, Pattern, Data Representation, Dimensionality Reduction, Machine Learning, Deep Learning, Implementation, Mapping, and Visualization Methodologies. From the designer's perspective, we will better understand and implement the use of data and tools, finally, gain the holistic high-level concepts to expand that knowledge and technology further. The concepts and contents you will learn in this course would become a map for those who want to learn how to use data and digital medium in design."
   ]
  },
  {
   "cell_type": "markdown",
   "metadata": {},
   "source": [
    "-----\n",
    "#### Instructor : NJ Namju Lee / nj.namju@gmail.com  \n",
    "###### * Linkedin - https://www.linkedin.com/in/nj-namju-lee-926b3252/    * Git - https://github.com/NamjuLee  \n",
    "\n",
    "###### * Web - https://namjulee.github.io/njs-lab-public/\n",
    "\n",
    "###### * Video(English) - https://www.youtube.com/c/njnamjulee            * Writing(English) - https://medium.com/@nj-namju  \n",
    "\n",
    "###### * Video(Korean) - https://www.youtube.com/c/CodeforDesign          * Writing(Korean) - https://brunch.co.kr/@njnamju  \n",
    "-----"
   ]
  },
  {
   "cell_type": "markdown",
   "metadata": {},
   "source": [
    "# 1. Data & Design: Code for Design\n",
    "Introduction to Computation for Design 1 & 2\n",
    "\n",
    "![Data in Design](https://raw.githubusercontent.com/NamjuLee/Data-Design-AI-for-Urban-Data-and-Viz-Harvard-GSD-public/main/public/reference/img/dataDesignSequence.jpg)\n",
    "\n",
    "### LECTURE:\n",
    "* Introduction Computation for Design\n",
    "* Data as Materials for design\n",
    "* [Book] [Computational Design, Software as tools](https://docs.google.com/presentation/d/1Z-jSy-nD18ifqefktrEHQGW4SjpJehAqX6nfcwGcnRQ/edit#slide=id.g2e7a1a6a41f_1_30)\n",
    "* Code for design\n",
    "---\n",
    "### SEMINAR:\n",
    "* [Book] Computational Design - https://brunch.co.kr/@njnamju/144  \n",
    "\n",
    "#### CHAPTER 1 재료, 도구, 디자인 Material & Tool & Design - [link](https://youtu.be/Sq1jF7Chd_s)\n",
    "**1 재료, 도구 그리고 디자인** Material & Tool & Design - [link](https://youtu.be/Sq1jF7Chd_s?t=57)  \n",
    "    1.1 도구와 기술의 발달 Tool & Technology - [link](https://youtu.be/Sq1jF7Chd_s?t=61)  \n",
    "    1.2 재료와 도구 그리고 디자인 Materials & Tool & Design - [link](https://youtu.be/Sq1jF7Chd_s?t=296)  \n",
    "    1.3 데이터 Data as Materials - [link](https://youtu.be/Sq1jF7Chd_s?t=420)  \n",
    "    1.4 데이터: 현상의 압축 & 통찰의 향연 - [link](https://youtu.be/Sq1jF7Chd_s?t=538)  \n",
    "! 4차 산업, 디자인, 코딩 - [link](https://youtu.be/Sq1jF7Chd_s?t=768)  \n",
    "! 데이터를 위한 코딩 - [link](https://youtu.be/Sq1jF7Chd_s?t=877)  \n",
    "! 고 수준: 하이 레벨 High-level & 저 수준: 로우 레벨 Low-level - [link](https://youtu.be/Sq1jF7Chd_s?t=1012)  \n",
    "\n",
    "**2 도구 : 컴퓨터 & 소프트웨어 Tool: Software** \\- [link](https://youtu.be/dhDJXLLzPaA)  \n",
    "    2.1 속도 Performance - [link](https://youtu.be/dhDJXLLzPaA?t=69)  \n",
    "    2.2 지식과 기술의 합, 소프트웨어 Knowledge + Technology : Software - [link](https://youtu.be/dhDJXLLzPaA?t=353)  \n",
    "    2.3 실제 도구에서 가상 도구 Physical Tool to Digital media - [link](https://youtu.be/dhDJXLLzPaA?t=707)  \n",
    "    2.4 현상에서 시스템 Phenomenon to System - [link](https://youtu.be/dhDJXLLzPaA?t=795)  \n",
    "    2.5 애플리케이션에서 퍼스널라이제이션 Application to Personalization - [link](https://youtu.be/dhDJXLLzPaA?t=936)  \n",
    "    2.6 소프트웨어에서 커스터마이제이션 Software to Customization - [link](https://youtu.be/dhDJXLLzPaA?t=1077)  \n",
    "! [지식의 빈익빈 부익부](https://brunch.co.kr/@njnamju/63)  - [link](https://youtu.be/dhDJXLLzPaA?t=1360)  \n",
    "! GUI: 볼 수 있는 것은(것만) 조작할 수 있다. - [link](https://youtu.be/dhDJXLLzPaA?t=1480)\n",
    "\n",
    "#### CHAPTER 2 디자이너에게 코딩이란 Coding for Designers - [link](https://youtu.be/RcZcLn2Wqjw?list=PLweNVwGgDKEbH7RWcAPFd2uvDk3Lwel63)\n",
    "**3 디자이너가 왜 코딩을 해야 할까?** \\- [link](https://youtu.be/RcZcLn2Wqjw?list=PLweNVwGgDKEbH7RWcAPFd2uvDk3Lwel63&t=45)  \n",
    "    3.1 창의성의 도구? Code for Creativity - [link](https://youtu.be/RcZcLn2Wqjw?list=PLweNVwGgDKEbH7RWcAPFd2uvDk3Lwel63&t=48)  \n",
    "    3.2 자동화의 도구? Code for Automation - [link](https://youtu.be/RcZcLn2Wqjw?list=PLweNVwGgDKEbH7RWcAPFd2uvDk3Lwel63&t=171)  \n",
    "    3.3 최적화의 도구? Code for Optimization - [link](https://youtu.be/RcZcLn2Wqjw?list=PLweNVwGgDKEbH7RWcAPFd2uvDk3Lwel63&t=305)  \n",
    "    3.4 데이터 때문에? Code for Data - [link](https://youtu.be/RcZcLn2Wqjw?list=PLweNVwGgDKEbH7RWcAPFd2uvDk3Lwel63&t=457)  \n",
    "    3.5 디자인 방법론 때문에? Code for Design Methodologies - [link](https://youtu.be/RcZcLn2Wqjw?list=PLweNVwGgDKEbH7RWcAPFd2uvDk3Lwel63&t=614)  \n",
    "! 컴퓨터를 사용하는 것은 창의적이지 못하다? - [link](https://youtu.be/RcZcLn2Wqjw?list=PLweNVwGgDKEbH7RWcAPFd2uvDk3Lwel63&t=859)  \n",
    "! 쉽고 간단한 소프트웨어의 함정 & 공부 방법 - [link](https://youtu.be/RcZcLn2Wqjw?list=PLweNVwGgDKEbH7RWcAPFd2uvDk3Lwel63&t=999)  \n",
    "\n",
    "**4 디자이너가 코딩을 해야 하는 이유** - [link](https://youtu.be/M5CqJzxxrOk?list=PLweNVwGgDKEbH7RWcAPFd2uvDk3Lwel63)\n",
    "    4.1 일 할 수 있는 일꾼을 만든다 Code for Automation - [link](https://youtu.be/M5CqJzxxrOk?list=PLweNVwGgDKEbH7RWcAPFd2uvDk3Lwel63&t=51)  \n",
    "    4.2 균일한 품질 유지를 도와준다 Code for Quality Assurance - [link](https://youtu.be/M5CqJzxxrOk?list=PLweNVwGgDKEbH7RWcAPFd2uvDk3Lwel63&t=232)  \n",
    "    4.3 실험적 작업 Code for Experimentations - [link](https://youtu.be/M5CqJzxxrOk?list=PLweNVwGgDKEbH7RWcAPFd2uvDk3Lwel63&t=297)  \n",
    "    4.4 문제로서의 디자인 Code for Design Issues - [link](https://youtu.be/M5CqJzxxrOk?list=PLweNVwGgDKEbH7RWcAPFd2uvDk3Lwel63&t=451)  \n",
    "    4.5 솔루션으로서의 디자인 Code for Design Solution - [link](https://youtu.be/M5CqJzxxrOk?list=PLweNVwGgDKEbH7RWcAPFd2uvDk3Lwel63&t=572)  \n",
    "    4.6 데이터로의 디자인 Data-Driven Design Process - [link](https://youtu.be/M5CqJzxxrOk?list=PLweNVwGgDKEbH7RWcAPFd2uvDk3Lwel63&t=732)  \n",
    "    4.7 다양한 커리어 패스를 만들 수 있다 - [link](https://youtu.be/M5CqJzxxrOk?list=PLweNVwGgDKEbH7RWcAPFd2uvDk3Lwel63&t=897)  \n",
    "    4.8 진입 장벽을 높여준다 - [link](https://youtu.be/M5CqJzxxrOk?list=PLweNVwGgDKEbH7RWcAPFd2uvDk3Lwel63&t=1058)  \n",
    "    4.9 경쟁력을 준다 - [link](https://youtu.be/M5CqJzxxrOk?list=PLweNVwGgDKEbH7RWcAPFd2uvDk3Lwel63&t=1187)  \n",
    "    4.10 컴퓨테이셔널 사고 Computational Thinking - [link](https://youtu.be/M5CqJzxxrOk?list=PLweNVwGgDKEbH7RWcAPFd2uvDk3Lwel63&t=1415)  \n",
    "! 실력 그리고 경쟁력이란? - [link](https://youtu.be/M5CqJzxxrOk?list=PLweNVwGgDKEbH7RWcAPFd2uvDk3Lwel63&t=1617)  \n",
    "! [미래를 예측할  때, 펀더멘탈(fundamental)의 이해 / 변할 것과 변하지 않을 것](https://brunch.co.kr/@njnamju/108) - [link](https://youtu.be/M5CqJzxxrOk?list=PLweNVwGgDKEbH7RWcAPFd2uvDk3Lwel63&t=1831)\n",
    "\n",
    "### LAB:\n",
    "* Software Installation: https://namjulee.github.io/njs-lab-public/installation  \n",
    "    *  Rhino 8 / Github desktop  \n",
    "    Miniconda env  \n",
    "    Visual Studio Code / Visual Studio Community 2022  \n",
    "\t\n",
    "\n",
    "* Python Programming\n",
    "    * Basic Syntax, Execution, Variable   \n",
    "\tData Type & Condition & Loops & Exceptions & function  \n",
    "    Data Structure: List, Tuple, Set, Dictionary\n",
    "\t* [Python basics](https://colab.research.google.com/drive/1kBWOL81OG0u1VRYOQonZJzcP7Yi9YLgl) / \n",
    "\t[basic Data processing](https://colab.research.google.com/drive/1ifYtJ4X36jRf_qws4EXr0vRg8hVyDXwO)\n",
    "\n",
    "---\n",
    "### Reference:\n",
    "Lecture\n",
    "* The introduction to the key topic: Data in Design, helps you understand the meaning of using data in the design process through several examples. \n",
    "  [Data in Design](https://medium.com/@nj-namju/data-design-c21457dc8dc)  \n",
    "\n",
    "* Computational Design: https://youtu.be/ggBVX5W-28c  \n",
    "  Parametric Design: https://youtu.be/LVybPm_VUhs   \n",
    "  Computational Thinking: https://youtu.be/B7MaKoxpH8Q  \n",
    "\n",
    "Workshop\n",
    "* Computational Design: https://youtu.be/ggBVX5W-28c  \n",
    "  Parametric Design: https://youtu.be/LVybPm_VUhs  \n",
    "\n",
    "---"
   ]
  },
  {
   "attachments": {},
   "cell_type": "markdown",
   "metadata": {},
   "source": [
    "# PART 1 - Data in Design & Code for Design\n",
    "\n",
    "link: https://namjulee.github.io/Data-Design-AI-for-Urban-Data-and-Viz-Harvard-GSD-public/lab/design-and-data"
   ]
  },
  {
   "attachments": {},
   "cell_type": "markdown",
   "metadata": {},
   "source": [
    "<iframe\n",
    "  src=\"https://namjulee.github.io/njs-lab-public/data-in-design?ui=0\"\n",
    "  style=\"width:100%; height:800px; background:#fff; border:none\"\n",
    "></iframe>"
   ]
  },
  {
   "attachments": {},
   "cell_type": "markdown",
   "metadata": {},
   "source": [
    "<iframe\n",
    "  src=\"https://namjulee.github.io/data-in-design/\"\n",
    "  style=\"width:100%; height:800px; background:#fff; border:none\"\n",
    "></iframe>"
   ]
  },
  {
   "attachments": {},
   "cell_type": "markdown",
   "metadata": {},
   "source": [
    "Page : https://namjulee.github.io/data-in-design/\n",
    "\n",
    "Git : https://github.com/NamjuLee/data-in-design\n"
   ]
  },
  {
   "cell_type": "markdown",
   "metadata": {},
   "source": []
  }
 ],
 "metadata": {
  "kernelspec": {
   "display_name": "tf-gpu-2022",
   "language": "python",
   "name": "python3"
  },
  "language_info": {
   "name": "python",
   "version": "3.9.12 (main, Apr  4 2022, 05:22:27) [MSC v.1916 64 bit (AMD64)]"
  },
  "orig_nbformat": 4,
  "vscode": {
   "interpreter": {
    "hash": "72bc0f943a863b7fcc9ff0d11405a78faecbd3bfafd8f122065908abfcb424a6"
   }
  }
 },
 "nbformat": 4,
 "nbformat_minor": 2
}
