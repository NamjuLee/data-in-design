{
 "cells": [
  {
   "attachments": {},
   "cell_type": "markdown",
   "metadata": {},
   "source": [
    "# **Data in Design**\n",
    "\n",
    "Design Science, AI ML Data-Driven, Agent-based, Parametric, Generative, Algorithmic Design\n",
    "\n",
    "This course is designed for designers who aim to use data as design materials. Throughout the coursework, students will explore the foundational concepts of design data, such as vectors and rasters, across various scales—from urban and architectural levels to product design. The course emphasizes the integration of computational thinking into the design process, positioning it as a core methodology for utilizing data as a creative resource. Software and code are introduced as essential tools for this approach.\n",
    "\n",
    "-----\n",
    "\n",
    "#### Instructor : NJ Namju Lee / nj.namju@gmail.com  \n",
    "###### * Linkedin - https://www.linkedin.com/in/nj-namju-lee-926b3252/    * Git - https://github.com/NamjuLee  \n",
    "\n",
    "###### * Web - https://namjulee.github.io/njs-lab-public/\n",
    "\n",
    "###### * Video(English) - https://www.youtube.com/c/njnamjulee            * Writing(English) - https://medium.com/@nj-namju  \n",
    "\n",
    "###### * Video(Korean) - https://www.youtube.com/c/CodeforDesign          * Writing(Korean) - https://brunch.co.kr/@njnamju  \n",
    "-----\n",
    "\n",
    "Installation - https://namjulee.github.io/njs-lab-public/installation"
   ]
  },
  {
   "attachments": {},
   "cell_type": "markdown",
   "metadata": {
    "colab_type": "text",
    "id": "usSEinGXfn4G"
   },
   "source": [
    "--- \n",
    "\n",
    "# Vector\n",
    "\n",
    "slider - https://docs.google.com/presentation/d/1GleNkuu6Uuif7y8EXv9ArdqGaEJs9s-5cK8O9SN3AeI/edit#slide=id.g2a49b8a7a81_0_9  \n",
    "tistory - https://computationaldesign.tistory.com/39  \n",
    "\n",
    "\n",
    "https://github.com/NamjuLee/NJS/blob/master/NVector.cs  \n",
    "https://github.com/NamjuLee/NJS/blob/master/NVector.py  \n"
   ]
  },
  {
   "cell_type": "code",
   "execution_count": 2,
   "metadata": {},
   "outputs": [],
   "source": [
    "# https://plotly.com/python-api-reference/\n",
    "import plotly.graph_objects as go\n",
    "def rendering3D(pts, line=False):\n",
    "    fig = go.Figure()\n",
    "    fig.add_trace(go.Scatter3d(\n",
    "        x=[p[0] for p in pts], \n",
    "        y=[p[1] for p in pts], \n",
    "        z=[p[2] for p in pts], \n",
    "        mode='lines+markers' if line else 'markers',\n",
    "        name='Vector',\n",
    "        marker=dict(color='blue', size=3),\n",
    "        line=dict(color='red', width=2),\n",
    "        showlegend=False \n",
    "    ))\n",
    "    fig.update_layout(\n",
    "        scene=dict(\n",
    "            camera=dict(\n",
    "                eye=dict(x=1.5, y=-1.5, z=1.5), \n",
    "                center=dict(x=0, y=0, z=0),\n",
    "                up=dict(x=0, y=0, z=1)\n",
    "            )\n",
    "        )\n",
    "    )\n",
    "    fig.show()\n",
    "\n",
    "import matplotlib.pyplot as plt\n",
    "def rendering2D(pts, line=False):\n",
    "    plt.scatter([p[0] for p in pts], [p[1] for p in pts], c='r', marker='o')\n",
    "    plt.xlabel('X Label')\n",
    "    plt.ylabel('Y Label')\n",
    "    plt.title('2D Point Cloud')\n",
    "    plt.axis('equal')\n",
    "    plt.show()\n"
   ]
  },
  {
   "cell_type": "markdown",
   "metadata": {},
   "source": [
    "## Testing Renders"
   ]
  },
  {
   "cell_type": "code",
   "execution_count": 3,
   "metadata": {},
   "outputs": [
    {
     "data": {
      "image/png": "[encoded data removed]",
      "text/plain": [
       "<Figure size 640x480 with 1 Axes>"
      ]
     },
     "metadata": {},
     "output_type": "display_data"
    },
    {
     "data": {
      "application/vnd.plotly.v1+json": {
       "config": {
        "plotlyServerURL": "https://plot.ly"
       },
       "data": [
        {
         "line": {
          "color": "red",
          "width": 2
         },
         "marker": {
          "color": "blue",
          "size": 3
         },
         "mode": "markers",
         "name": "Vector",
         "showlegend": false,
         "type": "scatter3d",
         "x": [
          0
         ],
         "y": [
          0
         ],
         "z": [
          0
         ]
        }
       ],
       "layout": {
        "scene": {
         "camera": {
          "center": {
           "x": 0,
           "y": 0,
           "z": 0
          },
          "eye": {
           "x": 1.5,
           "y": -1.5,
           "z": 1.5
          },
          "up": {
           "x": 0,
           "y": 0,
           "z": 1
          }
         }
        },
        "template": {
         "data": {
          "bar": [
           {
            "error_x": {
             "color": "#2a3f5f"
            },
            "error_y": {
             "color": "#2a3f5f"
            },
            "marker": {
             "line": {
              "color": "#E5ECF6",
              "width": 0.5
             },
             "pattern": {
              "fillmode": "overlay",
              "size": 10,
              "solidity": 0.2
             }
            },
            "type": "bar"
           }
          ],
          "barpolar": [
           {
            "marker": {
             "line": {
              "color": "#E5ECF6",
              "width": 0.5
             },
             "pattern": {
              "fillmode": "overlay",
              "size": 10,
              "solidity": 0.2
             }
            },
            "type": "barpolar"
           }
          ],
          "carpet": [
           {
            "aaxis": {
             "endlinecolor": "#2a3f5f",
             "gridcolor": "white",
             "linecolor": "white",
             "minorgridcolor": "white",
             "startlinecolor": "#2a3f5f"
            },
            "baxis": {
             "endlinecolor": "#2a3f5f",
             "gridcolor": "white",
             "linecolor": "white",
             "minorgridcolor": "white",
             "startlinecolor": "#2a3f5f"
            },
            "type": "carpet"
           }
          ],
          "choropleth": [
           {
            "colorbar": {
             "outlinewidth": 0,
             "ticks": ""
            },
            "type": "choropleth"
           }
          ],
          "contour": [
           {
            "colorbar": {
             "outlinewidth": 0,
             "ticks": ""
            },
            "colorscale": [
             [
              0,
              "#0d0887"
             ],
             [
              0.1111111111111111,
              "#46039f"
             ],
             [
              0.2222222222222222,
              "#7201a8"
             ],
             [
              0.3333333333333333,
              "#9c179e"
             ],
             [
              0.4444444444444444,
              "#bd3786"
             ],
             [
              0.5555555555555556,
              "#d8576b"
             ],
             [
              0.6666666666666666,
              "#ed7953"
             ],
             [
              0.7777777777777778,
              "#fb9f3a"
             ],
             [
              0.8888888888888888,
              "#fdca26"
             ],
             [
              1,
              "#f0f921"
             ]
            ],
            "type": "contour"
           }
          ],
          "contourcarpet": [
           {
            "colorbar": {
             "outlinewidth": 0,
             "ticks": ""
            },
            "type": "contourcarpet"
           }
          ],
          "heatmap": [
           {
            "colorbar": {
             "outlinewidth": 0,
             "ticks": ""
            },
            "colorscale": [
             [
              0,
              "#0d0887"
             ],
             [
              0.1111111111111111,
              "#46039f"
             ],
             [
              0.2222222222222222,
              "#7201a8"
             ],
             [
              0.3333333333333333,
              "#9c179e"
             ],
             [
              0.4444444444444444,
              "#bd3786"
             ],
             [
              0.5555555555555556,
              "#d8576b"
             ],
             [
              0.6666666666666666,
              "#ed7953"
             ],
             [
              0.7777777777777778,
              "#fb9f3a"
             ],
             [
              0.8888888888888888,
              "#fdca26"
             ],
             [
              1,
              "#f0f921"
             ]
            ],
            "type": "heatmap"
           }
          ],
          "heatmapgl": [
           {
            "colorbar": {
             "outlinewidth": 0,
             "ticks": ""
            },
            "colorscale": [
             [
              0,
              "#0d0887"
             ],
             [
              0.1111111111111111,
              "#46039f"
             ],
             [
              0.2222222222222222,
              "#7201a8"
             ],
             [
              0.3333333333333333,
              "#9c179e"
             ],
             [
              0.4444444444444444,
              "#bd3786"
             ],
             [
              0.5555555555555556,
              "#d8576b"
             ],
             [
              0.6666666666666666,
              "#ed7953"
             ],
             [
              0.7777777777777778,
              "#fb9f3a"
             ],
             [
              0.8888888888888888,
              "#fdca26"
             ],
             [
              1,
              "#f0f921"
             ]
            ],
            "type": "heatmapgl"
           }
          ],
          "histogram": [
           {
            "marker": {
             "pattern": {
              "fillmode": "overlay",
              "size": 10,
              "solidity": 0.2
             }
            },
            "type": "histogram"
           }
          ],
          "histogram2d": [
           {
            "colorbar": {
             "outlinewidth": 0,
             "ticks": ""
            },
            "colorscale": [
             [
              0,
              "#0d0887"
             ],
             [
              0.1111111111111111,
              "#46039f"
             ],
             [
              0.2222222222222222,
              "#7201a8"
             ],
             [
              0.3333333333333333,
              "#9c179e"
             ],
             [
              0.4444444444444444,
              "#bd3786"
             ],
             [
              0.5555555555555556,
              "#d8576b"
             ],
             [
              0.6666666666666666,
              "#ed7953"
             ],
             [
              0.7777777777777778,
              "#fb9f3a"
             ],
             [
              0.8888888888888888,
              "#fdca26"
             ],
             [
              1,
              "#f0f921"
             ]
            ],
            "type": "histogram2d"
           }
          ],
          "histogram2dcontour": [
           {
            "colorbar": {
             "outlinewidth": 0,
             "ticks": ""
            },
            "colorscale": [
             [
              0,
              "#0d0887"
             ],
             [
              0.1111111111111111,
              "#46039f"
             ],
             [
              0.2222222222222222,
              "#7201a8"
             ],
             [
              0.3333333333333333,
              "#9c179e"
             ],
             [
              0.4444444444444444,
              "#bd3786"
             ],
             [
              0.5555555555555556,
              "#d8576b"
             ],
             [
              0.6666666666666666,
              "#ed7953"
             ],
             [
              0.7777777777777778,
              "#fb9f3a"
             ],
             [
              0.8888888888888888,
              "#fdca26"
             ],
             [
              1,
              "#f0f921"
             ]
            ],
            "type": "histogram2dcontour"
           }
          ],
          "mesh3d": [
           {
            "colorbar": {
             "outlinewidth": 0,
             "ticks": ""
            },
            "type": "mesh3d"
           }
          ],
          "parcoords": [
           {
            "line": {
             "colorbar": {
              "outlinewidth": 0,
              "ticks": ""
             }
            },
            "type": "parcoords"
           }
          ],
          "pie": [
           {
            "automargin": true,
            "type": "pie"
           }
          ],
          "scatter": [
           {
            "fillpattern": {
             "fillmode": "overlay",
             "size": 10,
             "solidity": 0.2
            },
            "type": "scatter"
           }
          ],
          "scatter3d": [
           {
            "line": {
             "colorbar": {
              "outlinewidth": 0,
              "ticks": ""
             }
            },
            "marker": {
             "colorbar": {
              "outlinewidth": 0,
              "ticks": ""
             }
            },
            "type": "scatter3d"
           }
          ],
          "scattercarpet": [
           {
            "marker": {
             "colorbar": {
              "outlinewidth": 0,
              "ticks": ""
             }
            },
            "type": "scattercarpet"
           }
          ],
          "scattergeo": [
           {
            "marker": {
             "colorbar": {
              "outlinewidth": 0,
              "ticks": ""
             }
            },
            "type": "scattergeo"
           }
          ],
          "scattergl": [
           {
            "marker": {
             "colorbar": {
              "outlinewidth": 0,
              "ticks": ""
             }
            },
            "type": "scattergl"
           }
          ],
          "scattermapbox": [
           {
            "marker": {
             "colorbar": {
              "outlinewidth": 0,
              "ticks": ""
             }
            },
            "type": "scattermapbox"
           }
          ],
          "scatterpolar": [
           {
            "marker": {
             "colorbar": {
              "outlinewidth": 0,
              "ticks": ""
             }
            },
            "type": "scatterpolar"
           }
          ],
          "scatterpolargl": [
           {
            "marker": {
             "colorbar": {
              "outlinewidth": 0,
              "ticks": ""
             }
            },
            "type": "scatterpolargl"
           }
          ],
          "scatterternary": [
           {
            "marker": {
             "colorbar": {
              "outlinewidth": 0,
              "ticks": ""
             }
            },
            "type": "scatterternary"
           }
          ],
          "surface": [
           {
            "colorbar": {
             "outlinewidth": 0,
             "ticks": ""
            },
            "colorscale": [
             [
              0,
              "#0d0887"
             ],
             [
              0.1111111111111111,
              "#46039f"
             ],
             [
              0.2222222222222222,
              "#7201a8"
             ],
             [
              0.3333333333333333,
              "#9c179e"
             ],
             [
              0.4444444444444444,
              "#bd3786"
             ],
             [
              0.5555555555555556,
              "#d8576b"
             ],
             [
              0.6666666666666666,
              "#ed7953"
             ],
             [
              0.7777777777777778,
              "#fb9f3a"
             ],
             [
              0.8888888888888888,
              "#fdca26"
             ],
             [
              1,
              "#f0f921"
             ]
            ],
            "type": "surface"
           }
          ],
          "table": [
           {
            "cells": {
             "fill": {
              "color": "#EBF0F8"
             },
             "line": {
              "color": "white"
             }
            },
            "header": {
             "fill": {
              "color": "#C8D4E3"
             },
             "line": {
              "color": "white"
             }
            },
            "type": "table"
           }
          ]
         },
         "layout": {
          "annotationdefaults": {
           "arrowcolor": "#2a3f5f",
           "arrowhead": 0,
           "arrowwidth": 1
          },
          "autotypenumbers": "strict",
          "coloraxis": {
           "colorbar": {
            "outlinewidth": 0,
            "ticks": ""
           }
          },
          "colorscale": {
           "diverging": [
            [
             0,
             "#8e0152"
            ],
            [
             0.1,
             "#c51b7d"
            ],
            [
             0.2,
             "#de77ae"
            ],
            [
             0.3,
             "#f1b6da"
            ],
            [
             0.4,
             "#fde0ef"
            ],
            [
             0.5,
             "#f7f7f7"
            ],
            [
             0.6,
             "#e6f5d0"
            ],
            [
             0.7,
             "#b8e186"
            ],
            [
             0.8,
             "#7fbc41"
            ],
            [
             0.9,
             "#4d9221"
            ],
            [
             1,
             "#276419"
            ]
           ],
           "sequential": [
            [
             0,
             "#0d0887"
            ],
            [
             0.1111111111111111,
             "#46039f"
            ],
            [
             0.2222222222222222,
             "#7201a8"
            ],
            [
             0.3333333333333333,
             "#9c179e"
            ],
            [
             0.4444444444444444,
             "#bd3786"
            ],
            [
             0.5555555555555556,
             "#d8576b"
            ],
            [
             0.6666666666666666,
             "#ed7953"
            ],
            [
             0.7777777777777778,
             "#fb9f3a"
            ],
            [
             0.8888888888888888,
             "#fdca26"
            ],
            [
             1,
             "#f0f921"
            ]
           ],
           "sequentialminus": [
            [
             0,
             "#0d0887"
            ],
            [
             0.1111111111111111,
             "#46039f"
            ],
            [
             0.2222222222222222,
             "#7201a8"
            ],
            [
             0.3333333333333333,
             "#9c179e"
            ],
            [
             0.4444444444444444,
             "#bd3786"
            ],
            [
             0.5555555555555556,
             "#d8576b"
            ],
            [
             0.6666666666666666,
             "#ed7953"
            ],
            [
             0.7777777777777778,
             "#fb9f3a"
            ],
            [
             0.8888888888888888,
             "#fdca26"
            ],
            [
             1,
             "#f0f921"
            ]
           ]
          },
          "colorway": [
           "#636efa",
           "#EF553B",
           "#00cc96",
           "#ab63fa",
           "#FFA15A",
           "#19d3f3",
           "#FF6692",
           "#B6E880",
           "#FF97FF",
           "#FECB52"
          ],
          "font": {
           "color": "#2a3f5f"
          },
          "geo": {
           "bgcolor": "white",
           "lakecolor": "white",
           "landcolor": "#E5ECF6",
           "showlakes": true,
           "showland": true,
           "subunitcolor": "white"
          },
          "hoverlabel": {
           "align": "left"
          },
          "hovermode": "closest",
          "mapbox": {
           "style": "light"
          },
          "paper_bgcolor": "white",
          "plot_bgcolor": "#E5ECF6",
          "polar": {
           "angularaxis": {
            "gridcolor": "white",
            "linecolor": "white",
            "ticks": ""
           },
           "bgcolor": "#E5ECF6",
           "radialaxis": {
            "gridcolor": "white",
            "linecolor": "white",
            "ticks": ""
           }
          },
          "scene": {
           "xaxis": {
            "backgroundcolor": "#E5ECF6",
            "gridcolor": "white",
            "gridwidth": 2,
            "linecolor": "white",
            "showbackground": true,
            "ticks": "",
            "zerolinecolor": "white"
           },
           "yaxis": {
            "backgroundcolor": "#E5ECF6",
            "gridcolor": "white",
            "gridwidth": 2,
            "linecolor": "white",
            "showbackground": true,
            "ticks": "",
            "zerolinecolor": "white"
           },
           "zaxis": {
            "backgroundcolor": "#E5ECF6",
            "gridcolor": "white",
            "gridwidth": 2,
            "linecolor": "white",
            "showbackground": true,
            "ticks": "",
            "zerolinecolor": "white"
           }
          },
          "shapedefaults": {
           "line": {
            "color": "#2a3f5f"
           }
          },
          "ternary": {
           "aaxis": {
            "gridcolor": "white",
            "linecolor": "white",
            "ticks": ""
           },
           "baxis": {
            "gridcolor": "white",
            "linecolor": "white",
            "ticks": ""
           },
           "bgcolor": "#E5ECF6",
           "caxis": {
            "gridcolor": "white",
            "linecolor": "white",
            "ticks": ""
           }
          },
          "title": {
           "x": 0.05
          },
          "xaxis": {
           "automargin": true,
           "gridcolor": "white",
           "linecolor": "white",
           "ticks": "",
           "title": {
            "standoff": 15
           },
           "zerolinecolor": "white",
           "zerolinewidth": 2
          },
          "yaxis": {
           "automargin": true,
           "gridcolor": "white",
           "linecolor": "white",
           "ticks": "",
           "title": {
            "standoff": 15
           },
           "zerolinecolor": "white",
           "zerolinewidth": 2
          }
         }
        }
       }
      }
     },
     "metadata": {},
     "output_type": "display_data"
    }
   ],
   "source": [
    "p = [0, 0, 0]\n",
    "\n",
    "pts = [p]\n",
    "\n",
    "rendering2D(pts)\n",
    "rendering3D(pts)"
   ]
  },
  {
   "cell_type": "code",
   "execution_count": 4,
   "metadata": {},
   "outputs": [
    {
     "data": {
      "application/vnd.plotly.v1+json": {
       "config": {
        "plotlyServerURL": "https://plot.ly"
       },
       "data": [
        {
         "line": {
          "color": "red",
          "width": 2
         },
         "marker": {
          "color": "blue",
          "size": 3
         },
         "mode": "lines+markers",
         "name": "Vector",
         "showlegend": false,
         "type": "scatter3d",
         "x": [
          0,
          1,
          2,
          3
         ],
         "y": [
          0,
          2,
          3,
          1
         ],
         "z": [
          0,
          3,
          4,
          2
         ]
        }
       ],
       "layout": {
        "scene": {
         "camera": {
          "center": {
           "x": 0,
           "y": 0,
           "z": 0
          },
          "eye": {
           "x": 1.5,
           "y": -1.5,
           "z": 1.5
          },
          "up": {
           "x": 0,
           "y": 0,
           "z": 1
          }
         }
        },
        "template": {
         "data": {
          "bar": [
           {
            "error_x": {
             "color": "#2a3f5f"
            },
            "error_y": {
             "color": "#2a3f5f"
            },
            "marker": {
             "line": {
              "color": "#E5ECF6",
              "width": 0.5
             },
             "pattern": {
              "fillmode": "overlay",
              "size": 10,
              "solidity": 0.2
             }
            },
            "type": "bar"
           }
          ],
          "barpolar": [
           {
            "marker": {
             "line": {
              "color": "#E5ECF6",
              "width": 0.5
             },
             "pattern": {
              "fillmode": "overlay",
              "size": 10,
              "solidity": 0.2
             }
            },
            "type": "barpolar"
           }
          ],
          "carpet": [
           {
            "aaxis": {
             "endlinecolor": "#2a3f5f",
             "gridcolor": "white",
             "linecolor": "white",
             "minorgridcolor": "white",
             "startlinecolor": "#2a3f5f"
            },
            "baxis": {
             "endlinecolor": "#2a3f5f",
             "gridcolor": "white",
             "linecolor": "white",
             "minorgridcolor": "white",
             "startlinecolor": "#2a3f5f"
            },
            "type": "carpet"
           }
          ],
          "choropleth": [
           {
            "colorbar": {
             "outlinewidth": 0,
             "ticks": ""
            },
            "type": "choropleth"
           }
          ],
          "contour": [
           {
            "colorbar": {
             "outlinewidth": 0,
             "ticks": ""
            },
            "colorscale": [
             [
              0,
              "#0d0887"
             ],
             [
              0.1111111111111111,
              "#46039f"
             ],
             [
              0.2222222222222222,
              "#7201a8"
             ],
             [
              0.3333333333333333,
              "#9c179e"
             ],
             [
              0.4444444444444444,
              "#bd3786"
             ],
             [
              0.5555555555555556,
              "#d8576b"
             ],
             [
              0.6666666666666666,
              "#ed7953"
             ],
             [
              0.7777777777777778,
              "#fb9f3a"
             ],
             [
              0.8888888888888888,
              "#fdca26"
             ],
             [
              1,
              "#f0f921"
             ]
            ],
            "type": "contour"
           }
          ],
          "contourcarpet": [
           {
            "colorbar": {
             "outlinewidth": 0,
             "ticks": ""
            },
            "type": "contourcarpet"
           }
          ],
          "heatmap": [
           {
            "colorbar": {
             "outlinewidth": 0,
             "ticks": ""
            },
            "colorscale": [
             [
              0,
              "#0d0887"
             ],
             [
              0.1111111111111111,
              "#46039f"
             ],
             [
              0.2222222222222222,
              "#7201a8"
             ],
             [
              0.3333333333333333,
              "#9c179e"
             ],
             [
              0.4444444444444444,
              "#bd3786"
             ],
             [
              0.5555555555555556,
              "#d8576b"
             ],
             [
              0.6666666666666666,
              "#ed7953"
             ],
             [
              0.7777777777777778,
              "#fb9f3a"
             ],
             [
              0.8888888888888888,
              "#fdca26"
             ],
             [
              1,
              "#f0f921"
             ]
            ],
            "type": "heatmap"
           }
          ],
          "heatmapgl": [
           {
            "colorbar": {
             "outlinewidth": 0,
             "ticks": ""
            },
            "colorscale": [
             [
              0,
              "#0d0887"
             ],
             [
              0.1111111111111111,
              "#46039f"
             ],
             [
              0.2222222222222222,
              "#7201a8"
             ],
             [
              0.3333333333333333,
              "#9c179e"
             ],
             [
              0.4444444444444444,
              "#bd3786"
             ],
             [
              0.5555555555555556,
              "#d8576b"
             ],
             [
              0.6666666666666666,
              "#ed7953"
             ],
             [
              0.7777777777777778,
              "#fb9f3a"
             ],
             [
              0.8888888888888888,
              "#fdca26"
             ],
             [
              1,
              "#f0f921"
             ]
            ],
            "type": "heatmapgl"
           }
          ],
          "histogram": [
           {
            "marker": {
             "pattern": {
              "fillmode": "overlay",
              "size": 10,
              "solidity": 0.2
             }
            },
            "type": "histogram"
           }
          ],
          "histogram2d": [
           {
            "colorbar": {
             "outlinewidth": 0,
             "ticks": ""
            },
            "colorscale": [
             [
              0,
              "#0d0887"
             ],
             [
              0.1111111111111111,
              "#46039f"
             ],
             [
              0.2222222222222222,
              "#7201a8"
             ],
             [
              0.3333333333333333,
              "#9c179e"
             ],
             [
              0.4444444444444444,
              "#bd3786"
             ],
             [
              0.5555555555555556,
              "#d8576b"
             ],
             [
              0.6666666666666666,
              "#ed7953"
             ],
             [
              0.7777777777777778,
              "#fb9f3a"
             ],
             [
              0.8888888888888888,
              "#fdca26"
             ],
             [
              1,
              "#f0f921"
             ]
            ],
            "type": "histogram2d"
           }
          ],
          "histogram2dcontour": [
           {
            "colorbar": {
             "outlinewidth": 0,
             "ticks": ""
            },
            "colorscale": [
             [
              0,
              "#0d0887"
             ],
             [
              0.1111111111111111,
              "#46039f"
             ],
             [
              0.2222222222222222,
              "#7201a8"
             ],
             [
              0.3333333333333333,
              "#9c179e"
             ],
             [
              0.4444444444444444,
              "#bd3786"
             ],
             [
              0.5555555555555556,
              "#d8576b"
             ],
             [
              0.6666666666666666,
              "#ed7953"
             ],
             [
              0.7777777777777778,
              "#fb9f3a"
             ],
             [
              0.8888888888888888,
              "#fdca26"
             ],
             [
              1,
              "#f0f921"
             ]
            ],
            "type": "histogram2dcontour"
           }
          ],
          "mesh3d": [
           {
            "colorbar": {
             "outlinewidth": 0,
             "ticks": ""
            },
            "type": "mesh3d"
           }
          ],
          "parcoords": [
           {
            "line": {
             "colorbar": {
              "outlinewidth": 0,
              "ticks": ""
             }
            },
            "type": "parcoords"
           }
          ],
          "pie": [
           {
            "automargin": true,
            "type": "pie"
           }
          ],
          "scatter": [
           {
            "fillpattern": {
             "fillmode": "overlay",
             "size": 10,
             "solidity": 0.2
            },
            "type": "scatter"
           }
          ],
          "scatter3d": [
           {
            "line": {
             "colorbar": {
              "outlinewidth": 0,
              "ticks": ""
             }
            },
            "marker": {
             "colorbar": {
              "outlinewidth": 0,
              "ticks": ""
             }
            },
            "type": "scatter3d"
           }
          ],
          "scattercarpet": [
           {
            "marker": {
             "colorbar": {
              "outlinewidth": 0,
              "ticks": ""
             }
            },
            "type": "scattercarpet"
           }
          ],
          "scattergeo": [
           {
            "marker": {
             "colorbar": {
              "outlinewidth": 0,
              "ticks": ""
             }
            },
            "type": "scattergeo"
           }
          ],
          "scattergl": [
           {
            "marker": {
             "colorbar": {
              "outlinewidth": 0,
              "ticks": ""
             }
            },
            "type": "scattergl"
           }
          ],
          "scattermapbox": [
           {
            "marker": {
             "colorbar": {
              "outlinewidth": 0,
              "ticks": ""
             }
            },
            "type": "scattermapbox"
           }
          ],
          "scatterpolar": [
           {
            "marker": {
             "colorbar": {
              "outlinewidth": 0,
              "ticks": ""
             }
            },
            "type": "scatterpolar"
           }
          ],
          "scatterpolargl": [
           {
            "marker": {
             "colorbar": {
              "outlinewidth": 0,
              "ticks": ""
             }
            },
            "type": "scatterpolargl"
           }
          ],
          "scatterternary": [
           {
            "marker": {
             "colorbar": {
              "outlinewidth": 0,
              "ticks": ""
             }
            },
            "type": "scatterternary"
           }
          ],
          "surface": [
           {
            "colorbar": {
             "outlinewidth": 0,
             "ticks": ""
            },
            "colorscale": [
             [
              0,
              "#0d0887"
             ],
             [
              0.1111111111111111,
              "#46039f"
             ],
             [
              0.2222222222222222,
              "#7201a8"
             ],
             [
              0.3333333333333333,
              "#9c179e"
             ],
             [
              0.4444444444444444,
              "#bd3786"
             ],
             [
              0.5555555555555556,
              "#d8576b"
             ],
             [
              0.6666666666666666,
              "#ed7953"
             ],
             [
              0.7777777777777778,
              "#fb9f3a"
             ],
             [
              0.8888888888888888,
              "#fdca26"
             ],
             [
              1,
              "#f0f921"
             ]
            ],
            "type": "surface"
           }
          ],
          "table": [
           {
            "cells": {
             "fill": {
              "color": "#EBF0F8"
             },
             "line": {
              "color": "white"
             }
            },
            "header": {
             "fill": {
              "color": "#C8D4E3"
             },
             "line": {
              "color": "white"
             }
            },
            "type": "table"
           }
          ]
         },
         "layout": {
          "annotationdefaults": {
           "arrowcolor": "#2a3f5f",
           "arrowhead": 0,
           "arrowwidth": 1
          },
          "autotypenumbers": "strict",
          "coloraxis": {
           "colorbar": {
            "outlinewidth": 0,
            "ticks": ""
           }
          },
          "colorscale": {
           "diverging": [
            [
             0,
             "#8e0152"
            ],
            [
             0.1,
             "#c51b7d"
            ],
            [
             0.2,
             "#de77ae"
            ],
            [
             0.3,
             "#f1b6da"
            ],
            [
             0.4,
             "#fde0ef"
            ],
            [
             0.5,
             "#f7f7f7"
            ],
            [
             0.6,
             "#e6f5d0"
            ],
            [
             0.7,
             "#b8e186"
            ],
            [
             0.8,
             "#7fbc41"
            ],
            [
             0.9,
             "#4d9221"
            ],
            [
             1,
             "#276419"
            ]
           ],
           "sequential": [
            [
             0,
             "#0d0887"
            ],
            [
             0.1111111111111111,
             "#46039f"
            ],
            [
             0.2222222222222222,
             "#7201a8"
            ],
            [
             0.3333333333333333,
             "#9c179e"
            ],
            [
             0.4444444444444444,
             "#bd3786"
            ],
            [
             0.5555555555555556,
             "#d8576b"
            ],
            [
             0.6666666666666666,
             "#ed7953"
            ],
            [
             0.7777777777777778,
             "#fb9f3a"
            ],
            [
             0.8888888888888888,
             "#fdca26"
            ],
            [
             1,
             "#f0f921"
            ]
           ],
           "sequentialminus": [
            [
             0,
             "#0d0887"
            ],
            [
             0.1111111111111111,
             "#46039f"
            ],
            [
             0.2222222222222222,
             "#7201a8"
            ],
            [
             0.3333333333333333,
             "#9c179e"
            ],
            [
             0.4444444444444444,
             "#bd3786"
            ],
            [
             0.5555555555555556,
             "#d8576b"
            ],
            [
             0.6666666666666666,
             "#ed7953"
            ],
            [
             0.7777777777777778,
             "#fb9f3a"
            ],
            [
             0.8888888888888888,
             "#fdca26"
            ],
            [
             1,
             "#f0f921"
            ]
           ]
          },
          "colorway": [
           "#636efa",
           "#EF553B",
           "#00cc96",
           "#ab63fa",
           "#FFA15A",
           "#19d3f3",
           "#FF6692",
           "#B6E880",
           "#FF97FF",
           "#FECB52"
          ],
          "font": {
           "color": "#2a3f5f"
          },
          "geo": {
           "bgcolor": "white",
           "lakecolor": "white",
           "landcolor": "#E5ECF6",
           "showlakes": true,
           "showland": true,
           "subunitcolor": "white"
          },
          "hoverlabel": {
           "align": "left"
          },
          "hovermode": "closest",
          "mapbox": {
           "style": "light"
          },
          "paper_bgcolor": "white",
          "plot_bgcolor": "#E5ECF6",
          "polar": {
           "angularaxis": {
            "gridcolor": "white",
            "linecolor": "white",
            "ticks": ""
           },
           "bgcolor": "#E5ECF6",
           "radialaxis": {
            "gridcolor": "white",
            "linecolor": "white",
            "ticks": ""
           }
          },
          "scene": {
           "xaxis": {
            "backgroundcolor": "#E5ECF6",
            "gridcolor": "white",
            "gridwidth": 2,
            "linecolor": "white",
            "showbackground": true,
            "ticks": "",
            "zerolinecolor": "white"
           },
           "yaxis": {
            "backgroundcolor": "#E5ECF6",
            "gridcolor": "white",
            "gridwidth": 2,
            "linecolor": "white",
            "showbackground": true,
            "ticks": "",
            "zerolinecolor": "white"
           },
           "zaxis": {
            "backgroundcolor": "#E5ECF6",
            "gridcolor": "white",
            "gridwidth": 2,
            "linecolor": "white",
            "showbackground": true,
            "ticks": "",
            "zerolinecolor": "white"
           }
          },
          "shapedefaults": {
           "line": {
            "color": "#2a3f5f"
           }
          },
          "ternary": {
           "aaxis": {
            "gridcolor": "white",
            "linecolor": "white",
            "ticks": ""
           },
           "baxis": {
            "gridcolor": "white",
            "linecolor": "white",
            "ticks": ""
           },
           "bgcolor": "#E5ECF6",
           "caxis": {
            "gridcolor": "white",
            "linecolor": "white",
            "ticks": ""
           }
          },
          "title": {
           "x": 0.05
          },
          "xaxis": {
           "automargin": true,
           "gridcolor": "white",
           "linecolor": "white",
           "ticks": "",
           "title": {
            "standoff": 15
           },
           "zerolinecolor": "white",
           "zerolinewidth": 2
          },
          "yaxis": {
           "automargin": true,
           "gridcolor": "white",
           "linecolor": "white",
           "ticks": "",
           "title": {
            "standoff": 15
           },
           "zerolinecolor": "white",
           "zerolinewidth": 2
          }
         }
        }
       }
      }
     },
     "metadata": {},
     "output_type": "display_data"
    }
   ],
   "source": [
    "points = [\n",
    "    [0, 0, 0],   # 시작점\n",
    "    [1, 2, 3],   # 끝점\n",
    "    [2, 3, 4],   # 다른 지점\n",
    "    [3, 1, 2]    # 추가 점\n",
    "]\n",
    "\n",
    "# 벡터 시각화 함수 호출\n",
    "rendering3D(points, line=True)  # 선과 점으로 시각화"
   ]
  },
  {
   "cell_type": "markdown",
   "metadata": {},
   "source": [
    "Analytical Geometry"
   ]
  },
  {
   "cell_type": "code",
   "execution_count": null,
   "metadata": {},
   "outputs": [],
   "source": []
  },
  {
   "cell_type": "code",
   "execution_count": 20,
   "metadata": {},
   "outputs": [
    {
     "data": {
      "application/vnd.plotly.v1+json": {
       "config": {
        "plotlyServerURL": "https://plot.ly"
       },
       "data": [
        {
         "colorscale": [
          [
           0,
           "blue"
          ],
          [
           1,
           "blue"
          ]
         ],
         "sizemode": "scaled",
         "sizeref": 0.2,
         "type": "cone",
         "u": [
          1
         ],
         "v": [
          1
         ],
         "w": [
          0
         ],
         "x": [
          0
         ],
         "y": [
          0
         ],
         "z": [
          0
         ]
        },
        {
         "colorscale": [
          [
           0,
           "blue"
          ],
          [
           1,
           "blue"
          ]
         ],
         "sizemode": "scaled",
         "sizeref": 0.2,
         "type": "cone",
         "u": [
          0
         ],
         "v": [
          1
         ],
         "w": [
          2
         ],
         "x": [
          0
         ],
         "y": [
          0
         ],
         "z": [
          0
         ]
        },
        {
         "colorscale": [
          [
           0,
           "blue"
          ],
          [
           1,
           "blue"
          ]
         ],
         "sizemode": "scaled",
         "sizeref": 0.2,
         "type": "cone",
         "u": [
          -1
         ],
         "v": [
          -1
         ],
         "w": [
          1
         ],
         "x": [
          0
         ],
         "y": [
          0
         ],
         "z": [
          0
         ]
        }
       ],
       "layout": {
        "scene": {
         "camera": {
          "center": {
           "x": 0,
           "y": 0,
           "z": 0
          },
          "eye": {
           "x": 1.5,
           "y": -1.5,
           "z": 1.5
          },
          "up": {
           "x": 0,
           "y": 0,
           "z": 1
          }
         }
        },
        "template": {
         "data": {
          "bar": [
           {
            "error_x": {
             "color": "#2a3f5f"
            },
            "error_y": {
             "color": "#2a3f5f"
            },
            "marker": {
             "line": {
              "color": "#E5ECF6",
              "width": 0.5
             },
             "pattern": {
              "fillmode": "overlay",
              "size": 10,
              "solidity": 0.2
             }
            },
            "type": "bar"
           }
          ],
          "barpolar": [
           {
            "marker": {
             "line": {
              "color": "#E5ECF6",
              "width": 0.5
             },
             "pattern": {
              "fillmode": "overlay",
              "size": 10,
              "solidity": 0.2
             }
            },
            "type": "barpolar"
           }
          ],
          "carpet": [
           {
            "aaxis": {
             "endlinecolor": "#2a3f5f",
             "gridcolor": "white",
             "linecolor": "white",
             "minorgridcolor": "white",
             "startlinecolor": "#2a3f5f"
            },
            "baxis": {
             "endlinecolor": "#2a3f5f",
             "gridcolor": "white",
             "linecolor": "white",
             "minorgridcolor": "white",
             "startlinecolor": "#2a3f5f"
            },
            "type": "carpet"
           }
          ],
          "choropleth": [
           {
            "colorbar": {
             "outlinewidth": 0,
             "ticks": ""
            },
            "type": "choropleth"
           }
          ],
          "contour": [
           {
            "colorbar": {
             "outlinewidth": 0,
             "ticks": ""
            },
            "colorscale": [
             [
              0,
              "#0d0887"
             ],
             [
              0.1111111111111111,
              "#46039f"
             ],
             [
              0.2222222222222222,
              "#7201a8"
             ],
             [
              0.3333333333333333,
              "#9c179e"
             ],
             [
              0.4444444444444444,
              "#bd3786"
             ],
             [
              0.5555555555555556,
              "#d8576b"
             ],
             [
              0.6666666666666666,
              "#ed7953"
             ],
             [
              0.7777777777777778,
              "#fb9f3a"
             ],
             [
              0.8888888888888888,
              "#fdca26"
             ],
             [
              1,
              "#f0f921"
             ]
            ],
            "type": "contour"
           }
          ],
          "contourcarpet": [
           {
            "colorbar": {
             "outlinewidth": 0,
             "ticks": ""
            },
            "type": "contourcarpet"
           }
          ],
          "heatmap": [
           {
            "colorbar": {
             "outlinewidth": 0,
             "ticks": ""
            },
            "colorscale": [
             [
              0,
              "#0d0887"
             ],
             [
              0.1111111111111111,
              "#46039f"
             ],
             [
              0.2222222222222222,
              "#7201a8"
             ],
             [
              0.3333333333333333,
              "#9c179e"
             ],
             [
              0.4444444444444444,
              "#bd3786"
             ],
             [
              0.5555555555555556,
              "#d8576b"
             ],
             [
              0.6666666666666666,
              "#ed7953"
             ],
             [
              0.7777777777777778,
              "#fb9f3a"
             ],
             [
              0.8888888888888888,
              "#fdca26"
             ],
             [
              1,
              "#f0f921"
             ]
            ],
            "type": "heatmap"
           }
          ],
          "heatmapgl": [
           {
            "colorbar": {
             "outlinewidth": 0,
             "ticks": ""
            },
            "colorscale": [
             [
              0,
              "#0d0887"
             ],
             [
              0.1111111111111111,
              "#46039f"
             ],
             [
              0.2222222222222222,
              "#7201a8"
             ],
             [
              0.3333333333333333,
              "#9c179e"
             ],
             [
              0.4444444444444444,
              "#bd3786"
             ],
             [
              0.5555555555555556,
              "#d8576b"
             ],
             [
              0.6666666666666666,
              "#ed7953"
             ],
             [
              0.7777777777777778,
              "#fb9f3a"
             ],
             [
              0.8888888888888888,
              "#fdca26"
             ],
             [
              1,
              "#f0f921"
             ]
            ],
            "type": "heatmapgl"
           }
          ],
          "histogram": [
           {
            "marker": {
             "pattern": {
              "fillmode": "overlay",
              "size": 10,
              "solidity": 0.2
             }
            },
            "type": "histogram"
           }
          ],
          "histogram2d": [
           {
            "colorbar": {
             "outlinewidth": 0,
             "ticks": ""
            },
            "colorscale": [
             [
              0,
              "#0d0887"
             ],
             [
              0.1111111111111111,
              "#46039f"
             ],
             [
              0.2222222222222222,
              "#7201a8"
             ],
             [
              0.3333333333333333,
              "#9c179e"
             ],
             [
              0.4444444444444444,
              "#bd3786"
             ],
             [
              0.5555555555555556,
              "#d8576b"
             ],
             [
              0.6666666666666666,
              "#ed7953"
             ],
             [
              0.7777777777777778,
              "#fb9f3a"
             ],
             [
              0.8888888888888888,
              "#fdca26"
             ],
             [
              1,
              "#f0f921"
             ]
            ],
            "type": "histogram2d"
           }
          ],
          "histogram2dcontour": [
           {
            "colorbar": {
             "outlinewidth": 0,
             "ticks": ""
            },
            "colorscale": [
             [
              0,
              "#0d0887"
             ],
             [
              0.1111111111111111,
              "#46039f"
             ],
             [
              0.2222222222222222,
              "#7201a8"
             ],
             [
              0.3333333333333333,
              "#9c179e"
             ],
             [
              0.4444444444444444,
              "#bd3786"
             ],
             [
              0.5555555555555556,
              "#d8576b"
             ],
             [
              0.6666666666666666,
              "#ed7953"
             ],
             [
              0.7777777777777778,
              "#fb9f3a"
             ],
             [
              0.8888888888888888,
              "#fdca26"
             ],
             [
              1,
              "#f0f921"
             ]
            ],
            "type": "histogram2dcontour"
           }
          ],
          "mesh3d": [
           {
            "colorbar": {
             "outlinewidth": 0,
             "ticks": ""
            },
            "type": "mesh3d"
           }
          ],
          "parcoords": [
           {
            "line": {
             "colorbar": {
              "outlinewidth": 0,
              "ticks": ""
             }
            },
            "type": "parcoords"
           }
          ],
          "pie": [
           {
            "automargin": true,
            "type": "pie"
           }
          ],
          "scatter": [
           {
            "fillpattern": {
             "fillmode": "overlay",
             "size": 10,
             "solidity": 0.2
            },
            "type": "scatter"
           }
          ],
          "scatter3d": [
           {
            "line": {
             "colorbar": {
              "outlinewidth": 0,
              "ticks": ""
             }
            },
            "marker": {
             "colorbar": {
              "outlinewidth": 0,
              "ticks": ""
             }
            },
            "type": "scatter3d"
           }
          ],
          "scattercarpet": [
           {
            "marker": {
             "colorbar": {
              "outlinewidth": 0,
              "ticks": ""
             }
            },
            "type": "scattercarpet"
           }
          ],
          "scattergeo": [
           {
            "marker": {
             "colorbar": {
              "outlinewidth": 0,
              "ticks": ""
             }
            },
            "type": "scattergeo"
           }
          ],
          "scattergl": [
           {
            "marker": {
             "colorbar": {
              "outlinewidth": 0,
              "ticks": ""
             }
            },
            "type": "scattergl"
           }
          ],
          "scattermapbox": [
           {
            "marker": {
             "colorbar": {
              "outlinewidth": 0,
              "ticks": ""
             }
            },
            "type": "scattermapbox"
           }
          ],
          "scatterpolar": [
           {
            "marker": {
             "colorbar": {
              "outlinewidth": 0,
              "ticks": ""
             }
            },
            "type": "scatterpolar"
           }
          ],
          "scatterpolargl": [
           {
            "marker": {
             "colorbar": {
              "outlinewidth": 0,
              "ticks": ""
             }
            },
            "type": "scatterpolargl"
           }
          ],
          "scatterternary": [
           {
            "marker": {
             "colorbar": {
              "outlinewidth": 0,
              "ticks": ""
             }
            },
            "type": "scatterternary"
           }
          ],
          "surface": [
           {
            "colorbar": {
             "outlinewidth": 0,
             "ticks": ""
            },
            "colorscale": [
             [
              0,
              "#0d0887"
             ],
             [
              0.1111111111111111,
              "#46039f"
             ],
             [
              0.2222222222222222,
              "#7201a8"
             ],
             [
              0.3333333333333333,
              "#9c179e"
             ],
             [
              0.4444444444444444,
              "#bd3786"
             ],
             [
              0.5555555555555556,
              "#d8576b"
             ],
             [
              0.6666666666666666,
              "#ed7953"
             ],
             [
              0.7777777777777778,
              "#fb9f3a"
             ],
             [
              0.8888888888888888,
              "#fdca26"
             ],
             [
              1,
              "#f0f921"
             ]
            ],
            "type": "surface"
           }
          ],
          "table": [
           {
            "cells": {
             "fill": {
              "color": "#EBF0F8"
             },
             "line": {
              "color": "white"
             }
            },
            "header": {
             "fill": {
              "color": "#C8D4E3"
             },
             "line": {
              "color": "white"
             }
            },
            "type": "table"
           }
          ]
         },
         "layout": {
          "annotationdefaults": {
           "arrowcolor": "#2a3f5f",
           "arrowhead": 0,
           "arrowwidth": 1
          },
          "autotypenumbers": "strict",
          "coloraxis": {
           "colorbar": {
            "outlinewidth": 0,
            "ticks": ""
           }
          },
          "colorscale": {
           "diverging": [
            [
             0,
             "#8e0152"
            ],
            [
             0.1,
             "#c51b7d"
            ],
            [
             0.2,
             "#de77ae"
            ],
            [
             0.3,
             "#f1b6da"
            ],
            [
             0.4,
             "#fde0ef"
            ],
            [
             0.5,
             "#f7f7f7"
            ],
            [
             0.6,
             "#e6f5d0"
            ],
            [
             0.7,
             "#b8e186"
            ],
            [
             0.8,
             "#7fbc41"
            ],
            [
             0.9,
             "#4d9221"
            ],
            [
             1,
             "#276419"
            ]
           ],
           "sequential": [
            [
             0,
             "#0d0887"
            ],
            [
             0.1111111111111111,
             "#46039f"
            ],
            [
             0.2222222222222222,
             "#7201a8"
            ],
            [
             0.3333333333333333,
             "#9c179e"
            ],
            [
             0.4444444444444444,
             "#bd3786"
            ],
            [
             0.5555555555555556,
             "#d8576b"
            ],
            [
             0.6666666666666666,
             "#ed7953"
            ],
            [
             0.7777777777777778,
             "#fb9f3a"
            ],
            [
             0.8888888888888888,
             "#fdca26"
            ],
            [
             1,
             "#f0f921"
            ]
           ],
           "sequentialminus": [
            [
             0,
             "#0d0887"
            ],
            [
             0.1111111111111111,
             "#46039f"
            ],
            [
             0.2222222222222222,
             "#7201a8"
            ],
            [
             0.3333333333333333,
             "#9c179e"
            ],
            [
             0.4444444444444444,
             "#bd3786"
            ],
            [
             0.5555555555555556,
             "#d8576b"
            ],
            [
             0.6666666666666666,
             "#ed7953"
            ],
            [
             0.7777777777777778,
             "#fb9f3a"
            ],
            [
             0.8888888888888888,
             "#fdca26"
            ],
            [
             1,
             "#f0f921"
            ]
           ]
          },
          "colorway": [
           "#636efa",
           "#EF553B",
           "#00cc96",
           "#ab63fa",
           "#FFA15A",
           "#19d3f3",
           "#FF6692",
           "#B6E880",
           "#FF97FF",
           "#FECB52"
          ],
          "font": {
           "color": "#2a3f5f"
          },
          "geo": {
           "bgcolor": "white",
           "lakecolor": "white",
           "landcolor": "#E5ECF6",
           "showlakes": true,
           "showland": true,
           "subunitcolor": "white"
          },
          "hoverlabel": {
           "align": "left"
          },
          "hovermode": "closest",
          "mapbox": {
           "style": "light"
          },
          "paper_bgcolor": "white",
          "plot_bgcolor": "#E5ECF6",
          "polar": {
           "angularaxis": {
            "gridcolor": "white",
            "linecolor": "white",
            "ticks": ""
           },
           "bgcolor": "#E5ECF6",
           "radialaxis": {
            "gridcolor": "white",
            "linecolor": "white",
            "ticks": ""
           }
          },
          "scene": {
           "xaxis": {
            "backgroundcolor": "#E5ECF6",
            "gridcolor": "white",
            "gridwidth": 2,
            "linecolor": "white",
            "showbackground": true,
            "ticks": "",
            "zerolinecolor": "white"
           },
           "yaxis": {
            "backgroundcolor": "#E5ECF6",
            "gridcolor": "white",
            "gridwidth": 2,
            "linecolor": "white",
            "showbackground": true,
            "ticks": "",
            "zerolinecolor": "white"
           },
           "zaxis": {
            "backgroundcolor": "#E5ECF6",
            "gridcolor": "white",
            "gridwidth": 2,
            "linecolor": "white",
            "showbackground": true,
            "ticks": "",
            "zerolinecolor": "white"
           }
          },
          "shapedefaults": {
           "line": {
            "color": "#2a3f5f"
           }
          },
          "ternary": {
           "aaxis": {
            "gridcolor": "white",
            "linecolor": "white",
            "ticks": ""
           },
           "baxis": {
            "gridcolor": "white",
            "linecolor": "white",
            "ticks": ""
           },
           "bgcolor": "#E5ECF6",
           "caxis": {
            "gridcolor": "white",
            "linecolor": "white",
            "ticks": ""
           }
          },
          "title": {
           "x": 0.05
          },
          "xaxis": {
           "automargin": true,
           "gridcolor": "white",
           "linecolor": "white",
           "ticks": "",
           "title": {
            "standoff": 15
           },
           "zerolinecolor": "white",
           "zerolinewidth": 2
          },
          "yaxis": {
           "automargin": true,
           "gridcolor": "white",
           "linecolor": "white",
           "ticks": "",
           "title": {
            "standoff": 15
           },
           "zerolinecolor": "white",
           "zerolinewidth": 2
          }
         }
        }
       }
      }
     },
     "metadata": {},
     "output_type": "display_data"
    }
   ],
   "source": [
    "import plotly.graph_objects as go\n",
    "\n",
    "def renderingVecs(pts, line=False):\n",
    "    fig = go.Figure()\n",
    "\n",
    "    # 원점에서 벡터 끝점으로의 화살표를 그리기\n",
    "    for p in pts:\n",
    "        fig.add_trace(go.Cone(\n",
    "            x=[0],  # 화살표 시작 x (원점)\n",
    "            y=[0],  # 화살표 시작 y (원점)\n",
    "            z=[0],  # 화살표 시작 z (원점)\n",
    "            u=[p[0]],  # 벡터 x 성분\n",
    "            v=[p[1]],  # 벡터 y 성분\n",
    "            w=[p[2]],  # 벡터 z 성분\n",
    "            colorscale=[[0, 'blue'], [1, 'blue']],  # 화살표 색상\n",
    "            sizemode=\"scaled\",\n",
    "            sizeref=0.2  # 화살표 크기 조정 (작게)\n",
    "        ))\n",
    "\n",
    "    # 점 및 선 추가 (선택적으로 시각화)\n",
    "    if line:\n",
    "        fig.add_trace(go.Scatter3d(\n",
    "            x=[p[0] for p in pts],\n",
    "            y=[p[1] for p in pts],\n",
    "            z=[p[2] for p in pts],\n",
    "            mode='lines+markers',\n",
    "            marker=dict(color='red', size=3),\n",
    "            line=dict(color='black', width=2),\n",
    "            showlegend=False\n",
    "        ))\n",
    "\n",
    "    fig.update_layout(\n",
    "        scene=dict(\n",
    "            camera=dict(\n",
    "                eye=dict(x=1.5, y=-1.5, z=1.5),\n",
    "                center=dict(x=0, y=0, z=0),\n",
    "                up=dict(x=0, y=0, z=1)\n",
    "            )\n",
    "        )\n",
    "    )\n",
    "    fig.show()\n",
    "\n",
    "# 벡터 데이터 정의\n",
    "vectors = [\n",
    "    [1, 1, 0],   # 벡터 1\n",
    "    [0, 1, 2],   # 벡터 2\n",
    "    [-1, -1, 1]  # 벡터 3\n",
    "]\n",
    "\n",
    "# 화살표를 포함한 3D 시각화 호출\n",
    "renderingVecs(vectors)"
   ]
  },
  {
   "cell_type": "code",
   "execution_count": null,
   "metadata": {},
   "outputs": [
    {
     "data": {
      "application/vnd.plotly.v1+json": {
       "config": {
        "plotlyServerURL": "https://plot.ly"
       },
       "data": [
        {
         "colorscale": [
          [
           0,
           "blue"
          ],
          [
           1,
           "blue"
          ]
         ],
         "sizemode": "scaled",
         "sizeref": 0.01,
         "type": "cone",
         "u": [
          1
         ],
         "v": [
          1
         ],
         "w": [
          0
         ],
         "x": [
          0
         ],
         "y": [
          0
         ],
         "z": [
          0
         ]
        },
        {
         "colorscale": [
          [
           0,
           "blue"
          ],
          [
           1,
           "blue"
          ]
         ],
         "sizemode": "scaled",
         "sizeref": 0.01,
         "type": "cone",
         "u": [
          0
         ],
         "v": [
          1
         ],
         "w": [
          2
         ],
         "x": [
          0
         ],
         "y": [
          0
         ],
         "z": [
          0
         ]
        },
        {
         "colorscale": [
          [
           0,
           "blue"
          ],
          [
           1,
           "blue"
          ]
         ],
         "sizemode": "scaled",
         "sizeref": 0.01,
         "type": "cone",
         "u": [
          -1
         ],
         "v": [
          -1
         ],
         "w": [
          1
         ],
         "x": [
          0
         ],
         "y": [
          0
         ],
         "z": [
          0
         ]
        }
       ],
       "layout": {
        "scene": {
         "camera": {
          "center": {
           "x": 0,
           "y": 0,
           "z": 0
          },
          "eye": {
           "x": 1.5,
           "y": -1.5,
           "z": 1.5
          },
          "up": {
           "x": 0,
           "y": 0,
           "z": 1
          }
         }
        },
        "template": {
         "data": {
          "bar": [
           {
            "error_x": {
             "color": "#2a3f5f"
            },
            "error_y": {
             "color": "#2a3f5f"
            },
            "marker": {
             "line": {
              "color": "#E5ECF6",
              "width": 0.5
             },
             "pattern": {
              "fillmode": "overlay",
              "size": 10,
              "solidity": 0.2
             }
            },
            "type": "bar"
           }
          ],
          "barpolar": [
           {
            "marker": {
             "line": {
              "color": "#E5ECF6",
              "width": 0.5
             },
             "pattern": {
              "fillmode": "overlay",
              "size": 10,
              "solidity": 0.2
             }
            },
            "type": "barpolar"
           }
          ],
          "carpet": [
           {
            "aaxis": {
             "endlinecolor": "#2a3f5f",
             "gridcolor": "white",
             "linecolor": "white",
             "minorgridcolor": "white",
             "startlinecolor": "#2a3f5f"
            },
            "baxis": {
             "endlinecolor": "#2a3f5f",
             "gridcolor": "white",
             "linecolor": "white",
             "minorgridcolor": "white",
             "startlinecolor": "#2a3f5f"
            },
            "type": "carpet"
           }
          ],
          "choropleth": [
           {
            "colorbar": {
             "outlinewidth": 0,
             "ticks": ""
            },
            "type": "choropleth"
           }
          ],
          "contour": [
           {
            "colorbar": {
             "outlinewidth": 0,
             "ticks": ""
            },
            "colorscale": [
             [
              0,
              "#0d0887"
             ],
             [
              0.1111111111111111,
              "#46039f"
             ],
             [
              0.2222222222222222,
              "#7201a8"
             ],
             [
              0.3333333333333333,
              "#9c179e"
             ],
             [
              0.4444444444444444,
              "#bd3786"
             ],
             [
              0.5555555555555556,
              "#d8576b"
             ],
             [
              0.6666666666666666,
              "#ed7953"
             ],
             [
              0.7777777777777778,
              "#fb9f3a"
             ],
             [
              0.8888888888888888,
              "#fdca26"
             ],
             [
              1,
              "#f0f921"
             ]
            ],
            "type": "contour"
           }
          ],
          "contourcarpet": [
           {
            "colorbar": {
             "outlinewidth": 0,
             "ticks": ""
            },
            "type": "contourcarpet"
           }
          ],
          "heatmap": [
           {
            "colorbar": {
             "outlinewidth": 0,
             "ticks": ""
            },
            "colorscale": [
             [
              0,
              "#0d0887"
             ],
             [
              0.1111111111111111,
              "#46039f"
             ],
             [
              0.2222222222222222,
              "#7201a8"
             ],
             [
              0.3333333333333333,
              "#9c179e"
             ],
             [
              0.4444444444444444,
              "#bd3786"
             ],
             [
              0.5555555555555556,
              "#d8576b"
             ],
             [
              0.6666666666666666,
              "#ed7953"
             ],
             [
              0.7777777777777778,
              "#fb9f3a"
             ],
             [
              0.8888888888888888,
              "#fdca26"
             ],
             [
              1,
              "#f0f921"
             ]
            ],
            "type": "heatmap"
           }
          ],
          "heatmapgl": [
           {
            "colorbar": {
             "outlinewidth": 0,
             "ticks": ""
            },
            "colorscale": [
             [
              0,
              "#0d0887"
             ],
             [
              0.1111111111111111,
              "#46039f"
             ],
             [
              0.2222222222222222,
              "#7201a8"
             ],
             [
              0.3333333333333333,
              "#9c179e"
             ],
             [
              0.4444444444444444,
              "#bd3786"
             ],
             [
              0.5555555555555556,
              "#d8576b"
             ],
             [
              0.6666666666666666,
              "#ed7953"
             ],
             [
              0.7777777777777778,
              "#fb9f3a"
             ],
             [
              0.8888888888888888,
              "#fdca26"
             ],
             [
              1,
              "#f0f921"
             ]
            ],
            "type": "heatmapgl"
           }
          ],
          "histogram": [
           {
            "marker": {
             "pattern": {
              "fillmode": "overlay",
              "size": 10,
              "solidity": 0.2
             }
            },
            "type": "histogram"
           }
          ],
          "histogram2d": [
           {
            "colorbar": {
             "outlinewidth": 0,
             "ticks": ""
            },
            "colorscale": [
             [
              0,
              "#0d0887"
             ],
             [
              0.1111111111111111,
              "#46039f"
             ],
             [
              0.2222222222222222,
              "#7201a8"
             ],
             [
              0.3333333333333333,
              "#9c179e"
             ],
             [
              0.4444444444444444,
              "#bd3786"
             ],
             [
              0.5555555555555556,
              "#d8576b"
             ],
             [
              0.6666666666666666,
              "#ed7953"
             ],
             [
              0.7777777777777778,
              "#fb9f3a"
             ],
             [
              0.8888888888888888,
              "#fdca26"
             ],
             [
              1,
              "#f0f921"
             ]
            ],
            "type": "histogram2d"
           }
          ],
          "histogram2dcontour": [
           {
            "colorbar": {
             "outlinewidth": 0,
             "ticks": ""
            },
            "colorscale": [
             [
              0,
              "#0d0887"
             ],
             [
              0.1111111111111111,
              "#46039f"
             ],
             [
              0.2222222222222222,
              "#7201a8"
             ],
             [
              0.3333333333333333,
              "#9c179e"
             ],
             [
              0.4444444444444444,
              "#bd3786"
             ],
             [
              0.5555555555555556,
              "#d8576b"
             ],
             [
              0.6666666666666666,
              "#ed7953"
             ],
             [
              0.7777777777777778,
              "#fb9f3a"
             ],
             [
              0.8888888888888888,
              "#fdca26"
             ],
             [
              1,
              "#f0f921"
             ]
            ],
            "type": "histogram2dcontour"
           }
          ],
          "mesh3d": [
           {
            "colorbar": {
             "outlinewidth": 0,
             "ticks": ""
            },
            "type": "mesh3d"
           }
          ],
          "parcoords": [
           {
            "line": {
             "colorbar": {
              "outlinewidth": 0,
              "ticks": ""
             }
            },
            "type": "parcoords"
           }
          ],
          "pie": [
           {
            "automargin": true,
            "type": "pie"
           }
          ],
          "scatter": [
           {
            "fillpattern": {
             "fillmode": "overlay",
             "size": 10,
             "solidity": 0.2
            },
            "type": "scatter"
           }
          ],
          "scatter3d": [
           {
            "line": {
             "colorbar": {
              "outlinewidth": 0,
              "ticks": ""
             }
            },
            "marker": {
             "colorbar": {
              "outlinewidth": 0,
              "ticks": ""
             }
            },
            "type": "scatter3d"
           }
          ],
          "scattercarpet": [
           {
            "marker": {
             "colorbar": {
              "outlinewidth": 0,
              "ticks": ""
             }
            },
            "type": "scattercarpet"
           }
          ],
          "scattergeo": [
           {
            "marker": {
             "colorbar": {
              "outlinewidth": 0,
              "ticks": ""
             }
            },
            "type": "scattergeo"
           }
          ],
          "scattergl": [
           {
            "marker": {
             "colorbar": {
              "outlinewidth": 0,
              "ticks": ""
             }
            },
            "type": "scattergl"
           }
          ],
          "scattermapbox": [
           {
            "marker": {
             "colorbar": {
              "outlinewidth": 0,
              "ticks": ""
             }
            },
            "type": "scattermapbox"
           }
          ],
          "scatterpolar": [
           {
            "marker": {
             "colorbar": {
              "outlinewidth": 0,
              "ticks": ""
             }
            },
            "type": "scatterpolar"
           }
          ],
          "scatterpolargl": [
           {
            "marker": {
             "colorbar": {
              "outlinewidth": 0,
              "ticks": ""
             }
            },
            "type": "scatterpolargl"
           }
          ],
          "scatterternary": [
           {
            "marker": {
             "colorbar": {
              "outlinewidth": 0,
              "ticks": ""
             }
            },
            "type": "scatterternary"
           }
          ],
          "surface": [
           {
            "colorbar": {
             "outlinewidth": 0,
             "ticks": ""
            },
            "colorscale": [
             [
              0,
              "#0d0887"
             ],
             [
              0.1111111111111111,
              "#46039f"
             ],
             [
              0.2222222222222222,
              "#7201a8"
             ],
             [
              0.3333333333333333,
              "#9c179e"
             ],
             [
              0.4444444444444444,
              "#bd3786"
             ],
             [
              0.5555555555555556,
              "#d8576b"
             ],
             [
              0.6666666666666666,
              "#ed7953"
             ],
             [
              0.7777777777777778,
              "#fb9f3a"
             ],
             [
              0.8888888888888888,
              "#fdca26"
             ],
             [
              1,
              "#f0f921"
             ]
            ],
            "type": "surface"
           }
          ],
          "table": [
           {
            "cells": {
             "fill": {
              "color": "#EBF0F8"
             },
             "line": {
              "color": "white"
             }
            },
            "header": {
             "fill": {
              "color": "#C8D4E3"
             },
             "line": {
              "color": "white"
             }
            },
            "type": "table"
           }
          ]
         },
         "layout": {
          "annotationdefaults": {
           "arrowcolor": "#2a3f5f",
           "arrowhead": 0,
           "arrowwidth": 1
          },
          "autotypenumbers": "strict",
          "coloraxis": {
           "colorbar": {
            "outlinewidth": 0,
            "ticks": ""
           }
          },
          "colorscale": {
           "diverging": [
            [
             0,
             "#8e0152"
            ],
            [
             0.1,
             "#c51b7d"
            ],
            [
             0.2,
             "#de77ae"
            ],
            [
             0.3,
             "#f1b6da"
            ],
            [
             0.4,
             "#fde0ef"
            ],
            [
             0.5,
             "#f7f7f7"
            ],
            [
             0.6,
             "#e6f5d0"
            ],
            [
             0.7,
             "#b8e186"
            ],
            [
             0.8,
             "#7fbc41"
            ],
            [
             0.9,
             "#4d9221"
            ],
            [
             1,
             "#276419"
            ]
           ],
           "sequential": [
            [
             0,
             "#0d0887"
            ],
            [
             0.1111111111111111,
             "#46039f"
            ],
            [
             0.2222222222222222,
             "#7201a8"
            ],
            [
             0.3333333333333333,
             "#9c179e"
            ],
            [
             0.4444444444444444,
             "#bd3786"
            ],
            [
             0.5555555555555556,
             "#d8576b"
            ],
            [
             0.6666666666666666,
             "#ed7953"
            ],
            [
             0.7777777777777778,
             "#fb9f3a"
            ],
            [
             0.8888888888888888,
             "#fdca26"
            ],
            [
             1,
             "#f0f921"
            ]
           ],
           "sequentialminus": [
            [
             0,
             "#0d0887"
            ],
            [
             0.1111111111111111,
             "#46039f"
            ],
            [
             0.2222222222222222,
             "#7201a8"
            ],
            [
             0.3333333333333333,
             "#9c179e"
            ],
            [
             0.4444444444444444,
             "#bd3786"
            ],
            [
             0.5555555555555556,
             "#d8576b"
            ],
            [
             0.6666666666666666,
             "#ed7953"
            ],
            [
             0.7777777777777778,
             "#fb9f3a"
            ],
            [
             0.8888888888888888,
             "#fdca26"
            ],
            [
             1,
             "#f0f921"
            ]
           ]
          },
          "colorway": [
           "#636efa",
           "#EF553B",
           "#00cc96",
           "#ab63fa",
           "#FFA15A",
           "#19d3f3",
           "#FF6692",
           "#B6E880",
           "#FF97FF",
           "#FECB52"
          ],
          "font": {
           "color": "#2a3f5f"
          },
          "geo": {
           "bgcolor": "white",
           "lakecolor": "white",
           "landcolor": "#E5ECF6",
           "showlakes": true,
           "showland": true,
           "subunitcolor": "white"
          },
          "hoverlabel": {
           "align": "left"
          },
          "hovermode": "closest",
          "mapbox": {
           "style": "light"
          },
          "paper_bgcolor": "white",
          "plot_bgcolor": "#E5ECF6",
          "polar": {
           "angularaxis": {
            "gridcolor": "white",
            "linecolor": "white",
            "ticks": ""
           },
           "bgcolor": "#E5ECF6",
           "radialaxis": {
            "gridcolor": "white",
            "linecolor": "white",
            "ticks": ""
           }
          },
          "scene": {
           "xaxis": {
            "backgroundcolor": "#E5ECF6",
            "gridcolor": "white",
            "gridwidth": 2,
            "linecolor": "white",
            "showbackground": true,
            "ticks": "",
            "zerolinecolor": "white"
           },
           "yaxis": {
            "backgroundcolor": "#E5ECF6",
            "gridcolor": "white",
            "gridwidth": 2,
            "linecolor": "white",
            "showbackground": true,
            "ticks": "",
            "zerolinecolor": "white"
           },
           "zaxis": {
            "backgroundcolor": "#E5ECF6",
            "gridcolor": "white",
            "gridwidth": 2,
            "linecolor": "white",
            "showbackground": true,
            "ticks": "",
            "zerolinecolor": "white"
           }
          },
          "shapedefaults": {
           "line": {
            "color": "#2a3f5f"
           }
          },
          "ternary": {
           "aaxis": {
            "gridcolor": "white",
            "linecolor": "white",
            "ticks": ""
           },
           "baxis": {
            "gridcolor": "white",
            "linecolor": "white",
            "ticks": ""
           },
           "bgcolor": "#E5ECF6",
           "caxis": {
            "gridcolor": "white",
            "linecolor": "white",
            "ticks": ""
           }
          },
          "title": {
           "x": 0.05
          },
          "xaxis": {
           "automargin": true,
           "gridcolor": "white",
           "linecolor": "white",
           "ticks": "",
           "title": {
            "standoff": 15
           },
           "zerolinecolor": "white",
           "zerolinewidth": 2
          },
          "yaxis": {
           "automargin": true,
           "gridcolor": "white",
           "linecolor": "white",
           "ticks": "",
           "title": {
            "standoff": 15
           },
           "zerolinecolor": "white",
           "zerolinewidth": 2
          }
         }
        }
       }
      }
     },
     "metadata": {},
     "output_type": "display_data"
    }
   ],
   "source": []
  },
  {
   "cell_type": "code",
   "execution_count": null,
   "metadata": {},
   "outputs": [],
   "source": []
  },
  {
   "cell_type": "code",
   "execution_count": 22,
   "metadata": {},
   "outputs": [
    {
     "data": {
      "image/png": "[encoded data removed]",
      "text/plain": [
       "<Figure size 1000x1000 with 1 Axes>"
      ]
     },
     "metadata": {},
     "output_type": "display_data"
    }
   ],
   "source": [
    "import numpy as np\n",
    "import matplotlib.pyplot as plt\n",
    "\n",
    "# 벡터 데이터 생성 (예시)\n",
    "vector = np.array([3, 4])  # 시각화할 벡터\n",
    "origin = np.zeros(2)  # 원점\n",
    "\n",
    "# 그래프 설정\n",
    "fig, ax = plt.subplots(figsize=(10, 10))\n",
    "\n",
    "# 벡터 그리기\n",
    "ax.quiver(origin[0], origin[1],\n",
    "          vector[0], vector[1],\n",
    "          angles='xy', scale_units='xy', scale=1,\n",
    "          color='r', width=0.005)\n",
    "\n",
    "# 축 범위 설정\n",
    "max_range = np.array([vector[0], vector[1]]).max() * 1.2\n",
    "ax.set_xlim([-max_range, max_range])\n",
    "ax.set_ylim([-max_range, max_range])\n",
    "\n",
    "# 축 레이블 설정\n",
    "ax.set_xlabel('X')\n",
    "ax.set_ylabel('Y')\n",
    "\n",
    "# 그리드 추가\n",
    "ax.grid(True)\n",
    "\n",
    "# 원점 통과하는 축 추가\n",
    "ax.axhline(y=0, color='k', linestyle='-', linewidth=0.5)\n",
    "ax.axvline(x=0, color='k', linestyle='-', linewidth=0.5)\n",
    "\n",
    "# 타이틀 설정\n",
    "plt.title('2D Vector Visualization')\n",
    "\n",
    "# 종횡비 1:1로 설정\n",
    "ax.set_aspect('equal')\n",
    "\n",
    "# 인터랙티브 모드 활성화\n",
    "plt.ion()\n",
    "\n",
    "# 줌 기능 활성화\n",
    "plt.connect('scroll_event', lambda event: plt.gcf().canvas.toolbar.zoom())\n",
    "\n",
    "# 그래프 표시\n",
    "plt.show()"
   ]
  },
  {
   "cell_type": "code",
   "execution_count": null,
   "metadata": {},
   "outputs": [],
   "source": []
  },
  {
   "cell_type": "code",
   "execution_count": 28,
   "metadata": {},
   "outputs": [
    {
     "data": {
      "application/vnd.plotly.v1+json": {
       "config": {
        "plotlyServerURL": "https://plot.ly"
       },
       "data": [
        {
         "line": {
          "color": "red",
          "width": 6
         },
         "marker": {
          "size": 0
         },
         "name": "Vector (1, 0, 0)",
         "type": "scatter3d",
         "x": [
          0,
          1
         ],
         "y": [
          0,
          0
         ],
         "z": [
          0,
          0
         ]
        },
        {
         "colorscale": [
          [
           0,
           "red"
          ],
          [
           1,
           "red"
          ]
         ],
         "showscale": false,
         "sizeref": 0.08,
         "type": "cone",
         "u": [
          0.2
         ],
         "v": [
          0
         ],
         "w": [
          0
         ],
         "x": [
          0.9
         ],
         "y": [
          0
         ],
         "z": [
          0
         ]
        },
        {
         "line": {
          "color": "green",
          "width": 6
         },
         "marker": {
          "size": 0
         },
         "name": "Vector (0, 1, 0)",
         "type": "scatter3d",
         "x": [
          0,
          0
         ],
         "y": [
          0,
          1
         ],
         "z": [
          0,
          0
         ]
        },
        {
         "colorscale": [
          [
           0,
           "green"
          ],
          [
           1,
           "green"
          ]
         ],
         "showscale": false,
         "sizeref": 0.08,
         "type": "cone",
         "u": [
          0
         ],
         "v": [
          0.2
         ],
         "w": [
          0
         ],
         "x": [
          0
         ],
         "y": [
          0.9
         ],
         "z": [
          0
         ]
        },
        {
         "line": {
          "color": "blue",
          "width": 6
         },
         "marker": {
          "size": 0
         },
         "name": "Vector (0, 0, 1)",
         "type": "scatter3d",
         "x": [
          0,
          0
         ],
         "y": [
          0,
          0
         ],
         "z": [
          0,
          1
         ]
        },
        {
         "colorscale": [
          [
           0,
           "blue"
          ],
          [
           1,
           "blue"
          ]
         ],
         "showscale": false,
         "sizeref": 0.08,
         "type": "cone",
         "u": [
          0
         ],
         "v": [
          0
         ],
         "w": [
          0.2
         ],
         "x": [
          0
         ],
         "y": [
          0
         ],
         "z": [
          0.9
         ]
        },
        {
         "marker": {
          "color": "black",
          "size": 6
         },
         "mode": "markers",
         "name": "Origin",
         "type": "scatter3d",
         "x": [
          0
         ],
         "y": [
          0
         ],
         "z": [
          0
         ]
        }
       ],
       "layout": {
        "height": 800,
        "scene": {
         "aspectmode": "cube",
         "xaxis": {
          "range": [
           -1.5,
           1.5
          ]
         },
         "yaxis": {
          "range": [
           -1.5,
           1.5
          ]
         },
         "zaxis": {
          "range": [
           -1.5,
           1.5
          ]
         }
        },
        "template": {
         "data": {
          "bar": [
           {
            "error_x": {
             "color": "#2a3f5f"
            },
            "error_y": {
             "color": "#2a3f5f"
            },
            "marker": {
             "line": {
              "color": "#E5ECF6",
              "width": 0.5
             },
             "pattern": {
              "fillmode": "overlay",
              "size": 10,
              "solidity": 0.2
             }
            },
            "type": "bar"
           }
          ],
          "barpolar": [
           {
            "marker": {
             "line": {
              "color": "#E5ECF6",
              "width": 0.5
             },
             "pattern": {
              "fillmode": "overlay",
              "size": 10,
              "solidity": 0.2
             }
            },
            "type": "barpolar"
           }
          ],
          "carpet": [
           {
            "aaxis": {
             "endlinecolor": "#2a3f5f",
             "gridcolor": "white",
             "linecolor": "white",
             "minorgridcolor": "white",
             "startlinecolor": "#2a3f5f"
            },
            "baxis": {
             "endlinecolor": "#2a3f5f",
             "gridcolor": "white",
             "linecolor": "white",
             "minorgridcolor": "white",
             "startlinecolor": "#2a3f5f"
            },
            "type": "carpet"
           }
          ],
          "choropleth": [
           {
            "colorbar": {
             "outlinewidth": 0,
             "ticks": ""
            },
            "type": "choropleth"
           }
          ],
          "contour": [
           {
            "colorbar": {
             "outlinewidth": 0,
             "ticks": ""
            },
            "colorscale": [
             [
              0,
              "#0d0887"
             ],
             [
              0.1111111111111111,
              "#46039f"
             ],
             [
              0.2222222222222222,
              "#7201a8"
             ],
             [
              0.3333333333333333,
              "#9c179e"
             ],
             [
              0.4444444444444444,
              "#bd3786"
             ],
             [
              0.5555555555555556,
              "#d8576b"
             ],
             [
              0.6666666666666666,
              "#ed7953"
             ],
             [
              0.7777777777777778,
              "#fb9f3a"
             ],
             [
              0.8888888888888888,
              "#fdca26"
             ],
             [
              1,
              "#f0f921"
             ]
            ],
            "type": "contour"
           }
          ],
          "contourcarpet": [
           {
            "colorbar": {
             "outlinewidth": 0,
             "ticks": ""
            },
            "type": "contourcarpet"
           }
          ],
          "heatmap": [
           {
            "colorbar": {
             "outlinewidth": 0,
             "ticks": ""
            },
            "colorscale": [
             [
              0,
              "#0d0887"
             ],
             [
              0.1111111111111111,
              "#46039f"
             ],
             [
              0.2222222222222222,
              "#7201a8"
             ],
             [
              0.3333333333333333,
              "#9c179e"
             ],
             [
              0.4444444444444444,
              "#bd3786"
             ],
             [
              0.5555555555555556,
              "#d8576b"
             ],
             [
              0.6666666666666666,
              "#ed7953"
             ],
             [
              0.7777777777777778,
              "#fb9f3a"
             ],
             [
              0.8888888888888888,
              "#fdca26"
             ],
             [
              1,
              "#f0f921"
             ]
            ],
            "type": "heatmap"
           }
          ],
          "heatmapgl": [
           {
            "colorbar": {
             "outlinewidth": 0,
             "ticks": ""
            },
            "colorscale": [
             [
              0,
              "#0d0887"
             ],
             [
              0.1111111111111111,
              "#46039f"
             ],
             [
              0.2222222222222222,
              "#7201a8"
             ],
             [
              0.3333333333333333,
              "#9c179e"
             ],
             [
              0.4444444444444444,
              "#bd3786"
             ],
             [
              0.5555555555555556,
              "#d8576b"
             ],
             [
              0.6666666666666666,
              "#ed7953"
             ],
             [
              0.7777777777777778,
              "#fb9f3a"
             ],
             [
              0.8888888888888888,
              "#fdca26"
             ],
             [
              1,
              "#f0f921"
             ]
            ],
            "type": "heatmapgl"
           }
          ],
          "histogram": [
           {
            "marker": {
             "pattern": {
              "fillmode": "overlay",
              "size": 10,
              "solidity": 0.2
             }
            },
            "type": "histogram"
           }
          ],
          "histogram2d": [
           {
            "colorbar": {
             "outlinewidth": 0,
             "ticks": ""
            },
            "colorscale": [
             [
              0,
              "#0d0887"
             ],
             [
              0.1111111111111111,
              "#46039f"
             ],
             [
              0.2222222222222222,
              "#7201a8"
             ],
             [
              0.3333333333333333,
              "#9c179e"
             ],
             [
              0.4444444444444444,
              "#bd3786"
             ],
             [
              0.5555555555555556,
              "#d8576b"
             ],
             [
              0.6666666666666666,
              "#ed7953"
             ],
             [
              0.7777777777777778,
              "#fb9f3a"
             ],
             [
              0.8888888888888888,
              "#fdca26"
             ],
             [
              1,
              "#f0f921"
             ]
            ],
            "type": "histogram2d"
           }
          ],
          "histogram2dcontour": [
           {
            "colorbar": {
             "outlinewidth": 0,
             "ticks": ""
            },
            "colorscale": [
             [
              0,
              "#0d0887"
             ],
             [
              0.1111111111111111,
              "#46039f"
             ],
             [
              0.2222222222222222,
              "#7201a8"
             ],
             [
              0.3333333333333333,
              "#9c179e"
             ],
             [
              0.4444444444444444,
              "#bd3786"
             ],
             [
              0.5555555555555556,
              "#d8576b"
             ],
             [
              0.6666666666666666,
              "#ed7953"
             ],
             [
              0.7777777777777778,
              "#fb9f3a"
             ],
             [
              0.8888888888888888,
              "#fdca26"
             ],
             [
              1,
              "#f0f921"
             ]
            ],
            "type": "histogram2dcontour"
           }
          ],
          "mesh3d": [
           {
            "colorbar": {
             "outlinewidth": 0,
             "ticks": ""
            },
            "type": "mesh3d"
           }
          ],
          "parcoords": [
           {
            "line": {
             "colorbar": {
              "outlinewidth": 0,
              "ticks": ""
             }
            },
            "type": "parcoords"
           }
          ],
          "pie": [
           {
            "automargin": true,
            "type": "pie"
           }
          ],
          "scatter": [
           {
            "fillpattern": {
             "fillmode": "overlay",
             "size": 10,
             "solidity": 0.2
            },
            "type": "scatter"
           }
          ],
          "scatter3d": [
           {
            "line": {
             "colorbar": {
              "outlinewidth": 0,
              "ticks": ""
             }
            },
            "marker": {
             "colorbar": {
              "outlinewidth": 0,
              "ticks": ""
             }
            },
            "type": "scatter3d"
           }
          ],
          "scattercarpet": [
           {
            "marker": {
             "colorbar": {
              "outlinewidth": 0,
              "ticks": ""
             }
            },
            "type": "scattercarpet"
           }
          ],
          "scattergeo": [
           {
            "marker": {
             "colorbar": {
              "outlinewidth": 0,
              "ticks": ""
             }
            },
            "type": "scattergeo"
           }
          ],
          "scattergl": [
           {
            "marker": {
             "colorbar": {
              "outlinewidth": 0,
              "ticks": ""
             }
            },
            "type": "scattergl"
           }
          ],
          "scattermapbox": [
           {
            "marker": {
             "colorbar": {
              "outlinewidth": 0,
              "ticks": ""
             }
            },
            "type": "scattermapbox"
           }
          ],
          "scatterpolar": [
           {
            "marker": {
             "colorbar": {
              "outlinewidth": 0,
              "ticks": ""
             }
            },
            "type": "scatterpolar"
           }
          ],
          "scatterpolargl": [
           {
            "marker": {
             "colorbar": {
              "outlinewidth": 0,
              "ticks": ""
             }
            },
            "type": "scatterpolargl"
           }
          ],
          "scatterternary": [
           {
            "marker": {
             "colorbar": {
              "outlinewidth": 0,
              "ticks": ""
             }
            },
            "type": "scatterternary"
           }
          ],
          "surface": [
           {
            "colorbar": {
             "outlinewidth": 0,
             "ticks": ""
            },
            "colorscale": [
             [
              0,
              "#0d0887"
             ],
             [
              0.1111111111111111,
              "#46039f"
             ],
             [
              0.2222222222222222,
              "#7201a8"
             ],
             [
              0.3333333333333333,
              "#9c179e"
             ],
             [
              0.4444444444444444,
              "#bd3786"
             ],
             [
              0.5555555555555556,
              "#d8576b"
             ],
             [
              0.6666666666666666,
              "#ed7953"
             ],
             [
              0.7777777777777778,
              "#fb9f3a"
             ],
             [
              0.8888888888888888,
              "#fdca26"
             ],
             [
              1,
              "#f0f921"
             ]
            ],
            "type": "surface"
           }
          ],
          "table": [
           {
            "cells": {
             "fill": {
              "color": "#EBF0F8"
             },
             "line": {
              "color": "white"
             }
            },
            "header": {
             "fill": {
              "color": "#C8D4E3"
             },
             "line": {
              "color": "white"
             }
            },
            "type": "table"
           }
          ]
         },
         "layout": {
          "annotationdefaults": {
           "arrowcolor": "#2a3f5f",
           "arrowhead": 0,
           "arrowwidth": 1
          },
          "autotypenumbers": "strict",
          "coloraxis": {
           "colorbar": {
            "outlinewidth": 0,
            "ticks": ""
           }
          },
          "colorscale": {
           "diverging": [
            [
             0,
             "#8e0152"
            ],
            [
             0.1,
             "#c51b7d"
            ],
            [
             0.2,
             "#de77ae"
            ],
            [
             0.3,
             "#f1b6da"
            ],
            [
             0.4,
             "#fde0ef"
            ],
            [
             0.5,
             "#f7f7f7"
            ],
            [
             0.6,
             "#e6f5d0"
            ],
            [
             0.7,
             "#b8e186"
            ],
            [
             0.8,
             "#7fbc41"
            ],
            [
             0.9,
             "#4d9221"
            ],
            [
             1,
             "#276419"
            ]
           ],
           "sequential": [
            [
             0,
             "#0d0887"
            ],
            [
             0.1111111111111111,
             "#46039f"
            ],
            [
             0.2222222222222222,
             "#7201a8"
            ],
            [
             0.3333333333333333,
             "#9c179e"
            ],
            [
             0.4444444444444444,
             "#bd3786"
            ],
            [
             0.5555555555555556,
             "#d8576b"
            ],
            [
             0.6666666666666666,
             "#ed7953"
            ],
            [
             0.7777777777777778,
             "#fb9f3a"
            ],
            [
             0.8888888888888888,
             "#fdca26"
            ],
            [
             1,
             "#f0f921"
            ]
           ],
           "sequentialminus": [
            [
             0,
             "#0d0887"
            ],
            [
             0.1111111111111111,
             "#46039f"
            ],
            [
             0.2222222222222222,
             "#7201a8"
            ],
            [
             0.3333333333333333,
             "#9c179e"
            ],
            [
             0.4444444444444444,
             "#bd3786"
            ],
            [
             0.5555555555555556,
             "#d8576b"
            ],
            [
             0.6666666666666666,
             "#ed7953"
            ],
            [
             0.7777777777777778,
             "#fb9f3a"
            ],
            [
             0.8888888888888888,
             "#fdca26"
            ],
            [
             1,
             "#f0f921"
            ]
           ]
          },
          "colorway": [
           "#636efa",
           "#EF553B",
           "#00cc96",
           "#ab63fa",
           "#FFA15A",
           "#19d3f3",
           "#FF6692",
           "#B6E880",
           "#FF97FF",
           "#FECB52"
          ],
          "font": {
           "color": "#2a3f5f"
          },
          "geo": {
           "bgcolor": "white",
           "lakecolor": "white",
           "landcolor": "#E5ECF6",
           "showlakes": true,
           "showland": true,
           "subunitcolor": "white"
          },
          "hoverlabel": {
           "align": "left"
          },
          "hovermode": "closest",
          "mapbox": {
           "style": "light"
          },
          "paper_bgcolor": "white",
          "plot_bgcolor": "#E5ECF6",
          "polar": {
           "angularaxis": {
            "gridcolor": "white",
            "linecolor": "white",
            "ticks": ""
           },
           "bgcolor": "#E5ECF6",
           "radialaxis": {
            "gridcolor": "white",
            "linecolor": "white",
            "ticks": ""
           }
          },
          "scene": {
           "xaxis": {
            "backgroundcolor": "#E5ECF6",
            "gridcolor": "white",
            "gridwidth": 2,
            "linecolor": "white",
            "showbackground": true,
            "ticks": "",
            "zerolinecolor": "white"
           },
           "yaxis": {
            "backgroundcolor": "#E5ECF6",
            "gridcolor": "white",
            "gridwidth": 2,
            "linecolor": "white",
            "showbackground": true,
            "ticks": "",
            "zerolinecolor": "white"
           },
           "zaxis": {
            "backgroundcolor": "#E5ECF6",
            "gridcolor": "white",
            "gridwidth": 2,
            "linecolor": "white",
            "showbackground": true,
            "ticks": "",
            "zerolinecolor": "white"
           }
          },
          "shapedefaults": {
           "line": {
            "color": "#2a3f5f"
           }
          },
          "ternary": {
           "aaxis": {
            "gridcolor": "white",
            "linecolor": "white",
            "ticks": ""
           },
           "baxis": {
            "gridcolor": "white",
            "linecolor": "white",
            "ticks": ""
           },
           "bgcolor": "#E5ECF6",
           "caxis": {
            "gridcolor": "white",
            "linecolor": "white",
            "ticks": ""
           }
          },
          "title": {
           "x": 0.05
          },
          "xaxis": {
           "automargin": true,
           "gridcolor": "white",
           "linecolor": "white",
           "ticks": "",
           "title": {
            "standoff": 15
           },
           "zerolinecolor": "white",
           "zerolinewidth": 2
          },
          "yaxis": {
           "automargin": true,
           "gridcolor": "white",
           "linecolor": "white",
           "ticks": "",
           "title": {
            "standoff": 15
           },
           "zerolinecolor": "white",
           "zerolinewidth": 2
          }
         }
        },
        "title": {
         "text": "Multiple 3D Vectors Visualization with Arrows"
        },
        "width": 800
       }
      }
     },
     "metadata": {},
     "output_type": "display_data"
    }
   ],
   "source": [
    "import plotly.graph_objects as go\n",
    "import numpy as np\n",
    "\n",
    "def plot_3d_vector(vector, color='red'):\n",
    "    # 벡터 데이터 생성\n",
    "    x = [0, vector[0]]\n",
    "    y = [0, vector[1]]\n",
    "    z = [0, vector[2]]\n",
    "    \n",
    "    # 벡터의 길이 계산\n",
    "    vector_length = np.sqrt(vector[0]**2 + vector[1]**2 + vector[2]**2)\n",
    "    \n",
    "    # 벡터의 방향 (정규화된 벡터)\n",
    "    direction = vector / vector_length\n",
    "    \n",
    "    # 화살표 크기 설정 (벡터 길이에 비례)\n",
    "    arrow_length = vector_length * 0.2\n",
    "    arrow_radius = vector_length * 0.08\n",
    "    \n",
    "    # 축 범위 설정\n",
    "    max_range = max(abs(np.array(vector))) * 1.5\n",
    "    \n",
    "    # 그래프 생성\n",
    "    fig = go.Figure()\n",
    "    \n",
    "    # 벡터 선 추가\n",
    "    fig.add_trace(go.Scatter3d(\n",
    "        x=x, y=y, z=z,\n",
    "        line=dict(color=color, width=6),\n",
    "        marker=dict(size=0),\n",
    "        name=f'Vector ({vector[0]}, {vector[1]}, {vector[2]})'\n",
    "    ))\n",
    "    \n",
    "    # 화살표 끝 (원뿔) 추가\n",
    "    fig.add_trace(go.Cone(\n",
    "        x=[vector[0] - direction[0]*arrow_length/2],\n",
    "        y=[vector[1] - direction[1]*arrow_length/2],\n",
    "        z=[vector[2] - direction[2]*arrow_length/2],\n",
    "        u=[direction[0]*arrow_length],\n",
    "        v=[direction[1]*arrow_length],\n",
    "        w=[direction[2]*arrow_length],\n",
    "        sizeref=arrow_radius,\n",
    "        colorscale=[[0, color], [1, color]],\n",
    "        showscale=False\n",
    "    ))\n",
    "    \n",
    "    # 레이아웃 설정\n",
    "    fig.update_layout(\n",
    "        scene = dict(\n",
    "            xaxis = dict(range=[-max_range, max_range]),\n",
    "            yaxis = dict(range=[-max_range, max_range]),\n",
    "            zaxis = dict(range=[-max_range, max_range]),\n",
    "            aspectmode='cube',\n",
    "            camera=dict(\n",
    "                up=dict(x=0, y=0, z=1),\n",
    "                center=dict(x=0, y=0, z=0),\n",
    "                eye=dict(x=1.5, y=1.5, z=1.5)\n",
    "            )\n",
    "        ),\n",
    "        title='3D Vector Visualization with Arrows',\n",
    "        showlegend=True,\n",
    "        width=800,\n",
    "        height=800\n",
    "    )\n",
    "    \n",
    "    # 원점 추가\n",
    "    fig.add_trace(go.Scatter3d(\n",
    "        x=[0], y=[0], z=[0],\n",
    "        mode='markers',\n",
    "        marker=dict(size=6, color='black'),\n",
    "        name='Origin'\n",
    "    ))\n",
    "    \n",
    "    return fig\n",
    "\n",
    "# 여러 벡터를 동시에 표시하는 함수\n",
    "def plot_multiple_vectors(vectors):\n",
    "    fig = go.Figure()\n",
    "    max_range = max(abs(np.array([v[0] for v in vectors]).flatten())) * 1.5\n",
    "    \n",
    "    for vector, color in vectors:\n",
    "        # 벡터 데이터\n",
    "        x = [0, vector[0]]\n",
    "        y = [0, vector[1]]\n",
    "        z = [0, vector[2]]\n",
    "        \n",
    "        # 벡터의 길이와 방향 계산\n",
    "        vector_length = np.sqrt(vector[0]**2 + vector[1]**2 + vector[2]**2)\n",
    "        direction = vector / vector_length\n",
    "        \n",
    "        # 화살표 크기 설정\n",
    "        arrow_length = vector_length * 0.2\n",
    "        arrow_radius = vector_length * 0.08\n",
    "        \n",
    "        # 벡터 선 추가\n",
    "        fig.add_trace(go.Scatter3d(\n",
    "            x=x, y=y, z=z,\n",
    "            line=dict(color=color, width=6),\n",
    "            marker=dict(size=0),\n",
    "            name=f'Vector ({vector[0]}, {vector[1]}, {vector[2]})'\n",
    "        ))\n",
    "        \n",
    "        # 화살표 끝 추가\n",
    "        fig.add_trace(go.Cone(\n",
    "            x=[vector[0] - direction[0]*arrow_length/2],\n",
    "            y=[vector[1] - direction[1]*arrow_length/2],\n",
    "            z=[vector[2] - direction[2]*arrow_length/2],\n",
    "            u=[direction[0]*arrow_length],\n",
    "            v=[direction[1]*arrow_length],\n",
    "            w=[direction[2]*arrow_length],\n",
    "            sizeref=arrow_radius,\n",
    "            colorscale=[[0, color], [1, color]],\n",
    "            showscale=False\n",
    "        ))\n",
    "    \n",
    "    # 레이아웃 설정\n",
    "    fig.update_layout(\n",
    "        scene = dict(\n",
    "            xaxis = dict(range=[-max_range, max_range]),\n",
    "            yaxis = dict(range=[-max_range, max_range]),\n",
    "            zaxis = dict(range=[-max_range, max_range]),\n",
    "            aspectmode='cube'\n",
    "        ),\n",
    "        title='Multiple 3D Vectors Visualization with Arrows',\n",
    "        width=800,\n",
    "        height=800\n",
    "    )\n",
    "    \n",
    "    # 원점 추가\n",
    "    fig.add_trace(go.Scatter3d(\n",
    "        x=[0], y=[0], z=[0],\n",
    "        mode='markers',\n",
    "        marker=dict(size=6, color='black'),\n",
    "        name='Origin'\n",
    "    ))\n",
    "    \n",
    "    return fig\n",
    "\n",
    "# # 예시 실행\n",
    "# # 단일 벡터\n",
    "# vector = np.array([2, 3, 4])\n",
    "# fig = plot_3d_vector(vector)\n",
    "# fig.show()\n",
    "\n",
    "# 여러 벡터\n",
    "vectors = [\n",
    "    (np.array([1, 0, 0]), 'red'),\n",
    "    (np.array([0, 1, 0]), 'green'),\n",
    "    (np.array([0, 0, 1]), 'blue'),\n",
    "]\n",
    "fig = plot_multiple_vectors(vectors)\n",
    "fig.show()"
   ]
  },
  {
   "cell_type": "code",
   "execution_count": null,
   "metadata": {},
   "outputs": [],
   "source": []
  },
  {
   "cell_type": "code",
   "execution_count": null,
   "metadata": {},
   "outputs": [],
   "source": []
  },
  {
   "cell_type": "code",
   "execution_count": null,
   "metadata": {},
   "outputs": [],
   "source": []
  },
  {
   "cell_type": "markdown",
   "metadata": {},
   "source": [
    "## Mathematical Curve (Explicit Curve)\n",
    "\n",
    "### function 1D, curve\n",
    "\n",
    "https://docs.google.com/presentation/d/1GleNkuu6Uuif7y8EXv9ArdqGaEJs9s-5cK8O9SN3AeI/edit#slide=id.g1726d89b8d3_0_0"
   ]
  },
  {
   "cell_type": "code",
   "execution_count": 114,
   "metadata": {},
   "outputs": [],
   "source": []
  },
  {
   "cell_type": "code",
   "execution_count": 4,
   "metadata": {},
   "outputs": [],
   "source": [
    "import math"
   ]
  },
  {
   "cell_type": "code",
   "execution_count": 5,
   "metadata": {},
   "outputs": [
    {
     "data": {
      "image/png": "[encoded data removed]",
      "text/plain": [
       "<Figure size 640x480 with 1 Axes>"
      ]
     },
     "metadata": {},
     "output_type": "display_data"
    }
   ],
   "source": [
    "pts = []\n",
    "for i in range(-50, 50):\n",
    "    x = i * 0.02\n",
    "    y = 0\n",
    "    z = 0\n",
    "    pts.append([x, 0, 0])\n",
    "\n",
    "rendering2D(pts)"
   ]
  },
  {
   "cell_type": "code",
   "execution_count": null,
   "metadata": {},
   "outputs": [],
   "source": []
  },
  {
   "cell_type": "code",
   "execution_count": 6,
   "metadata": {},
   "outputs": [
    {
     "data": {
      "image/png": "[encoded data removed]",
      "text/plain": [
       "<Figure size 640x480 with 1 Axes>"
      ]
     },
     "metadata": {},
     "output_type": "display_data"
    }
   ],
   "source": [
    "a = 2 # 2, 4, 8\n",
    "\n",
    "pts = []\n",
    "for i in range(-50, 50):\n",
    "    x = i * 0.02\n",
    "    y = 0\n",
    "    z = 0\n",
    "    pts.append([ x , math.pow(x, a), 0])\n",
    "\n",
    "rendering2D(pts)\n"
   ]
  },
  {
   "cell_type": "code",
   "execution_count": 7,
   "metadata": {},
   "outputs": [
    {
     "data": {
      "image/png": "[encoded data removed]",
      "text/plain": [
       "<Figure size 640x480 with 1 Axes>"
      ]
     },
     "metadata": {},
     "output_type": "display_data"
    }
   ],
   "source": [
    "a = 7 # 3, 5, 7\n",
    "\n",
    "pts = []\n",
    "for i in range(-50, 50):\n",
    "    x = i * 0.02\n",
    "    y = 0\n",
    "    z = 0\n",
    "    pts.append([ x , math.pow(x, a), 0])\n",
    "\n",
    "rendering2D(pts)\n"
   ]
  },
  {
   "cell_type": "code",
   "execution_count": 8,
   "metadata": {},
   "outputs": [
    {
     "data": {
      "image/png": "[encoded data removed]",
      "text/plain": [
       "<Figure size 800x600 with 1 Axes>"
      ]
     },
     "metadata": {},
     "output_type": "display_data"
    }
   ],
   "source": [
    "a = 4 # 2, 4, 8\n",
    "\n",
    "pts = []\n",
    "for i in range(0, 100):\n",
    "    x = i * 0.02\n",
    "    y = 0\n",
    "    z = 0\n",
    "    pts.append([ x , math.sqrt(x), 0])\n",
    "\n",
    "renderingCurve(pts)\n"
   ]
  },
  {
   "cell_type": "code",
   "execution_count": 9,
   "metadata": {},
   "outputs": [
    {
     "data": {
      "image/png": "[encoded data removed]",
      "text/plain": [
       "<Figure size 800x600 with 1 Axes>"
      ]
     },
     "metadata": {},
     "output_type": "display_data"
    }
   ],
   "source": [
    "a = 1\n",
    "\n",
    "pts = []\n",
    "for i in range(-50, 50):\n",
    "    x = i * 0.02\n",
    "    y = 0\n",
    "    z = 0\n",
    "    pts.append([ x , math.sqrt(math.pow(a, 2)-math.pow(x, 2)), 0])\n",
    "\n",
    "renderingCurve(pts)\n"
   ]
  },
  {
   "cell_type": "code",
   "execution_count": null,
   "metadata": {},
   "outputs": [],
   "source": []
  },
  {
   "cell_type": "code",
   "execution_count": 10,
   "metadata": {},
   "outputs": [
    {
     "data": {
      "image/png": "[encoded data removed]",
      "text/plain": [
       "<Figure size 800x600 with 1 Axes>"
      ]
     },
     "metadata": {},
     "output_type": "display_data"
    }
   ],
   "source": [
    "a = 0.5 # 0.5, 1 , 2 , \n",
    "b = 0\n",
    "\n",
    "pts = []\n",
    "for i in range(-50, 50):\n",
    "    x = i * 0.02\n",
    "    y = 0\n",
    "    z = 0\n",
    "    pts.append([ x , math.cos(2 * math.pi * x * a + b), 0])\n",
    "\n",
    "renderingCurve(pts)\n"
   ]
  },
  {
   "cell_type": "code",
   "execution_count": 11,
   "metadata": {},
   "outputs": [
    {
     "data": {
      "image/png": "[encoded data removed]",
      "text/plain": [
       "<Figure size 800x600 with 1 Axes>"
      ]
     },
     "metadata": {},
     "output_type": "display_data"
    }
   ],
   "source": [
    "a = 0.5 \n",
    "b = math.pi / 2 # 0, math.pi / 2 , math.pi / 3\n",
    "\n",
    "pts = []\n",
    "for i in range(-50, 50):\n",
    "    x = i * 0.02\n",
    "    y = 0\n",
    "    z = 0\n",
    "    pts.append([ x , math.cos(2 * math.pi * x * a + b), 0])\n",
    "\n",
    "renderingCurve(pts)\n"
   ]
  },
  {
   "cell_type": "code",
   "execution_count": null,
   "metadata": {},
   "outputs": [],
   "source": []
  },
  {
   "cell_type": "markdown",
   "metadata": {},
   "source": [
    "## Parametric Curve (Explicit Curve)"
   ]
  },
  {
   "cell_type": "code",
   "execution_count": 12,
   "metadata": {},
   "outputs": [
    {
     "data": {
      "text/plain": [
       "[5.0, 5.0, 25.0]"
      ]
     },
     "execution_count": 12,
     "metadata": {},
     "output_type": "execute_result"
    }
   ],
   "source": [
    "def linear_interpolation(p0, p1, t):\n",
    "    x = p0[0]+(p1[0]-p0[0])*t\n",
    "    y = p0[1]+(p1[1]-p0[1])*t\n",
    "    z = p0[2]+(p1[2]-p0[2])*t\n",
    "    return [x,y,z]\n",
    "\n",
    "p0 = [0,0,0]\n",
    "p1 = [10,10,50]\n",
    "\n",
    "mp = linear_interpolation(p0, p1, 0.5)\n",
    "mp"
   ]
  },
  {
   "cell_type": "code",
   "execution_count": 13,
   "metadata": {},
   "outputs": [
    {
     "data": {
      "application/vnd.plotly.v1+json": {
       "config": {
        "plotlyServerURL": "https://plot.ly"
       },
       "data": [
        {
         "line": {
          "color": "red",
          "width": 2
         },
         "marker": {
          "color": "blue",
          "size": 3
         },
         "mode": "markers",
         "name": "Vector",
         "showlegend": false,
         "type": "scatter3d",
         "x": [
          0,
          0.1,
          0.2,
          0.3,
          0.4,
          0.5,
          0.6,
          0.7000000000000001,
          0.8,
          0.8999999999999999,
          1,
          1.1,
          1.2,
          1.3,
          1.4000000000000001,
          1.5,
          1.6,
          1.7000000000000002,
          1.7999999999999998,
          1.9,
          2,
          2.1,
          2.2,
          2.3000000000000003,
          2.4,
          2.5,
          2.6,
          2.7,
          2.8000000000000003,
          2.9,
          3,
          3.1,
          3.2,
          3.3000000000000003,
          3.4000000000000004,
          3.5000000000000004,
          3.5999999999999996,
          3.7,
          3.8,
          3.9000000000000004,
          4,
          4.1000000000000005,
          4.2,
          4.3,
          4.4,
          4.5,
          4.6000000000000005,
          4.7,
          4.8,
          4.9,
          5,
          5.1,
          5.2,
          5.300000000000001,
          5.4,
          5.5,
          5.6000000000000005,
          5.700000000000001,
          5.8,
          5.8999999999999995,
          6,
          6.1,
          6.2,
          6.3,
          6.4,
          6.5,
          6.6000000000000005,
          6.7,
          6.800000000000001,
          6.9,
          7.000000000000001,
          7.1,
          7.199999999999999,
          7.3,
          7.4,
          7.5,
          7.6,
          7.7,
          7.800000000000001,
          7.9,
          8,
          8.100000000000001,
          8.200000000000001,
          8.3,
          8.4,
          8.5,
          8.6,
          8.7,
          8.8,
          8.9,
          9,
          9.1,
          9.200000000000001,
          9.3,
          9.4,
          9.5,
          9.6,
          9.7,
          9.8,
          9.9
         ],
         "y": [
          0,
          0.1,
          0.2,
          0.3,
          0.4,
          0.5,
          0.6,
          0.7000000000000001,
          0.8,
          0.8999999999999999,
          1,
          1.1,
          1.2,
          1.3,
          1.4000000000000001,
          1.5,
          1.6,
          1.7000000000000002,
          1.7999999999999998,
          1.9,
          2,
          2.1,
          2.2,
          2.3000000000000003,
          2.4,
          2.5,
          2.6,
          2.7,
          2.8000000000000003,
          2.9,
          3,
          3.1,
          3.2,
          3.3000000000000003,
          3.4000000000000004,
          3.5000000000000004,
          3.5999999999999996,
          3.7,
          3.8,
          3.9000000000000004,
          4,
          4.1000000000000005,
          4.2,
          4.3,
          4.4,
          4.5,
          4.6000000000000005,
          4.7,
          4.8,
          4.9,
          5,
          5.1,
          5.2,
          5.300000000000001,
          5.4,
          5.5,
          5.6000000000000005,
          5.700000000000001,
          5.8,
          5.8999999999999995,
          6,
          6.1,
          6.2,
          6.3,
          6.4,
          6.5,
          6.6000000000000005,
          6.7,
          6.800000000000001,
          6.9,
          7.000000000000001,
          7.1,
          7.199999999999999,
          7.3,
          7.4,
          7.5,
          7.6,
          7.7,
          7.800000000000001,
          7.9,
          8,
          8.100000000000001,
          8.200000000000001,
          8.3,
          8.4,
          8.5,
          8.6,
          8.7,
          8.8,
          8.9,
          9,
          9.1,
          9.200000000000001,
          9.3,
          9.4,
          9.5,
          9.6,
          9.7,
          9.8,
          9.9
         ],
         "z": [
          0,
          0.5,
          1,
          1.5,
          2,
          2.5,
          3,
          3.5000000000000004,
          4,
          4.5,
          5,
          5.5,
          6,
          6.5,
          7.000000000000001,
          7.5,
          8,
          8.5,
          9,
          9.5,
          10,
          10.5,
          11,
          11.5,
          12,
          12.5,
          13,
          13.5,
          14.000000000000002,
          14.499999999999998,
          15,
          15.5,
          16,
          16.5,
          17,
          17.5,
          18,
          18.5,
          19,
          19.5,
          20,
          20.5,
          21,
          21.5,
          22,
          22.5,
          23,
          23.5,
          24,
          24.5,
          25,
          25.5,
          26,
          26.5,
          27,
          27.500000000000004,
          28.000000000000004,
          28.500000000000004,
          28.999999999999996,
          29.5,
          30,
          30.5,
          31,
          31.5,
          32,
          32.5,
          33,
          33.5,
          34,
          34.5,
          35,
          35.5,
          36,
          36.5,
          37,
          37.5,
          38,
          38.5,
          39,
          39.5,
          40,
          40.5,
          41,
          41.5,
          42,
          42.5,
          43,
          43.5,
          44,
          44.5,
          45,
          45.5,
          46,
          46.5,
          47,
          47.5,
          48,
          48.5,
          49,
          49.5
         ]
        }
       ],
       "layout": {
        "scene": {
         "camera": {
          "center": {
           "x": 0,
           "y": 0,
           "z": 0
          },
          "eye": {
           "x": 1.5,
           "y": -1.5,
           "z": 1.5
          },
          "up": {
           "x": 0,
           "y": 0,
           "z": 1
          }
         }
        },
        "template": {
         "data": {
          "bar": [
           {
            "error_x": {
             "color": "#2a3f5f"
            },
            "error_y": {
             "color": "#2a3f5f"
            },
            "marker": {
             "line": {
              "color": "#E5ECF6",
              "width": 0.5
             },
             "pattern": {
              "fillmode": "overlay",
              "size": 10,
              "solidity": 0.2
             }
            },
            "type": "bar"
           }
          ],
          "barpolar": [
           {
            "marker": {
             "line": {
              "color": "#E5ECF6",
              "width": 0.5
             },
             "pattern": {
              "fillmode": "overlay",
              "size": 10,
              "solidity": 0.2
             }
            },
            "type": "barpolar"
           }
          ],
          "carpet": [
           {
            "aaxis": {
             "endlinecolor": "#2a3f5f",
             "gridcolor": "white",
             "linecolor": "white",
             "minorgridcolor": "white",
             "startlinecolor": "#2a3f5f"
            },
            "baxis": {
             "endlinecolor": "#2a3f5f",
             "gridcolor": "white",
             "linecolor": "white",
             "minorgridcolor": "white",
             "startlinecolor": "#2a3f5f"
            },
            "type": "carpet"
           }
          ],
          "choropleth": [
           {
            "colorbar": {
             "outlinewidth": 0,
             "ticks": ""
            },
            "type": "choropleth"
           }
          ],
          "contour": [
           {
            "colorbar": {
             "outlinewidth": 0,
             "ticks": ""
            },
            "colorscale": [
             [
              0,
              "#0d0887"
             ],
             [
              0.1111111111111111,
              "#46039f"
             ],
             [
              0.2222222222222222,
              "#7201a8"
             ],
             [
              0.3333333333333333,
              "#9c179e"
             ],
             [
              0.4444444444444444,
              "#bd3786"
             ],
             [
              0.5555555555555556,
              "#d8576b"
             ],
             [
              0.6666666666666666,
              "#ed7953"
             ],
             [
              0.7777777777777778,
              "#fb9f3a"
             ],
             [
              0.8888888888888888,
              "#fdca26"
             ],
             [
              1,
              "#f0f921"
             ]
            ],
            "type": "contour"
           }
          ],
          "contourcarpet": [
           {
            "colorbar": {
             "outlinewidth": 0,
             "ticks": ""
            },
            "type": "contourcarpet"
           }
          ],
          "heatmap": [
           {
            "colorbar": {
             "outlinewidth": 0,
             "ticks": ""
            },
            "colorscale": [
             [
              0,
              "#0d0887"
             ],
             [
              0.1111111111111111,
              "#46039f"
             ],
             [
              0.2222222222222222,
              "#7201a8"
             ],
             [
              0.3333333333333333,
              "#9c179e"
             ],
             [
              0.4444444444444444,
              "#bd3786"
             ],
             [
              0.5555555555555556,
              "#d8576b"
             ],
             [
              0.6666666666666666,
              "#ed7953"
             ],
             [
              0.7777777777777778,
              "#fb9f3a"
             ],
             [
              0.8888888888888888,
              "#fdca26"
             ],
             [
              1,
              "#f0f921"
             ]
            ],
            "type": "heatmap"
           }
          ],
          "heatmapgl": [
           {
            "colorbar": {
             "outlinewidth": 0,
             "ticks": ""
            },
            "colorscale": [
             [
              0,
              "#0d0887"
             ],
             [
              0.1111111111111111,
              "#46039f"
             ],
             [
              0.2222222222222222,
              "#7201a8"
             ],
             [
              0.3333333333333333,
              "#9c179e"
             ],
             [
              0.4444444444444444,
              "#bd3786"
             ],
             [
              0.5555555555555556,
              "#d8576b"
             ],
             [
              0.6666666666666666,
              "#ed7953"
             ],
             [
              0.7777777777777778,
              "#fb9f3a"
             ],
             [
              0.8888888888888888,
              "#fdca26"
             ],
             [
              1,
              "#f0f921"
             ]
            ],
            "type": "heatmapgl"
           }
          ],
          "histogram": [
           {
            "marker": {
             "pattern": {
              "fillmode": "overlay",
              "size": 10,
              "solidity": 0.2
             }
            },
            "type": "histogram"
           }
          ],
          "histogram2d": [
           {
            "colorbar": {
             "outlinewidth": 0,
             "ticks": ""
            },
            "colorscale": [
             [
              0,
              "#0d0887"
             ],
             [
              0.1111111111111111,
              "#46039f"
             ],
             [
              0.2222222222222222,
              "#7201a8"
             ],
             [
              0.3333333333333333,
              "#9c179e"
             ],
             [
              0.4444444444444444,
              "#bd3786"
             ],
             [
              0.5555555555555556,
              "#d8576b"
             ],
             [
              0.6666666666666666,
              "#ed7953"
             ],
             [
              0.7777777777777778,
              "#fb9f3a"
             ],
             [
              0.8888888888888888,
              "#fdca26"
             ],
             [
              1,
              "#f0f921"
             ]
            ],
            "type": "histogram2d"
           }
          ],
          "histogram2dcontour": [
           {
            "colorbar": {
             "outlinewidth": 0,
             "ticks": ""
            },
            "colorscale": [
             [
              0,
              "#0d0887"
             ],
             [
              0.1111111111111111,
              "#46039f"
             ],
             [
              0.2222222222222222,
              "#7201a8"
             ],
             [
              0.3333333333333333,
              "#9c179e"
             ],
             [
              0.4444444444444444,
              "#bd3786"
             ],
             [
              0.5555555555555556,
              "#d8576b"
             ],
             [
              0.6666666666666666,
              "#ed7953"
             ],
             [
              0.7777777777777778,
              "#fb9f3a"
             ],
             [
              0.8888888888888888,
              "#fdca26"
             ],
             [
              1,
              "#f0f921"
             ]
            ],
            "type": "histogram2dcontour"
           }
          ],
          "mesh3d": [
           {
            "colorbar": {
             "outlinewidth": 0,
             "ticks": ""
            },
            "type": "mesh3d"
           }
          ],
          "parcoords": [
           {
            "line": {
             "colorbar": {
              "outlinewidth": 0,
              "ticks": ""
             }
            },
            "type": "parcoords"
           }
          ],
          "pie": [
           {
            "automargin": true,
            "type": "pie"
           }
          ],
          "scatter": [
           {
            "fillpattern": {
             "fillmode": "overlay",
             "size": 10,
             "solidity": 0.2
            },
            "type": "scatter"
           }
          ],
          "scatter3d": [
           {
            "line": {
             "colorbar": {
              "outlinewidth": 0,
              "ticks": ""
             }
            },
            "marker": {
             "colorbar": {
              "outlinewidth": 0,
              "ticks": ""
             }
            },
            "type": "scatter3d"
           }
          ],
          "scattercarpet": [
           {
            "marker": {
             "colorbar": {
              "outlinewidth": 0,
              "ticks": ""
             }
            },
            "type": "scattercarpet"
           }
          ],
          "scattergeo": [
           {
            "marker": {
             "colorbar": {
              "outlinewidth": 0,
              "ticks": ""
             }
            },
            "type": "scattergeo"
           }
          ],
          "scattergl": [
           {
            "marker": {
             "colorbar": {
              "outlinewidth": 0,
              "ticks": ""
             }
            },
            "type": "scattergl"
           }
          ],
          "scattermapbox": [
           {
            "marker": {
             "colorbar": {
              "outlinewidth": 0,
              "ticks": ""
             }
            },
            "type": "scattermapbox"
           }
          ],
          "scatterpolar": [
           {
            "marker": {
             "colorbar": {
              "outlinewidth": 0,
              "ticks": ""
             }
            },
            "type": "scatterpolar"
           }
          ],
          "scatterpolargl": [
           {
            "marker": {
             "colorbar": {
              "outlinewidth": 0,
              "ticks": ""
             }
            },
            "type": "scatterpolargl"
           }
          ],
          "scatterternary": [
           {
            "marker": {
             "colorbar": {
              "outlinewidth": 0,
              "ticks": ""
             }
            },
            "type": "scatterternary"
           }
          ],
          "surface": [
           {
            "colorbar": {
             "outlinewidth": 0,
             "ticks": ""
            },
            "colorscale": [
             [
              0,
              "#0d0887"
             ],
             [
              0.1111111111111111,
              "#46039f"
             ],
             [
              0.2222222222222222,
              "#7201a8"
             ],
             [
              0.3333333333333333,
              "#9c179e"
             ],
             [
              0.4444444444444444,
              "#bd3786"
             ],
             [
              0.5555555555555556,
              "#d8576b"
             ],
             [
              0.6666666666666666,
              "#ed7953"
             ],
             [
              0.7777777777777778,
              "#fb9f3a"
             ],
             [
              0.8888888888888888,
              "#fdca26"
             ],
             [
              1,
              "#f0f921"
             ]
            ],
            "type": "surface"
           }
          ],
          "table": [
           {
            "cells": {
             "fill": {
              "color": "#EBF0F8"
             },
             "line": {
              "color": "white"
             }
            },
            "header": {
             "fill": {
              "color": "#C8D4E3"
             },
             "line": {
              "color": "white"
             }
            },
            "type": "table"
           }
          ]
         },
         "layout": {
          "annotationdefaults": {
           "arrowcolor": "#2a3f5f",
           "arrowhead": 0,
           "arrowwidth": 1
          },
          "autotypenumbers": "strict",
          "coloraxis": {
           "colorbar": {
            "outlinewidth": 0,
            "ticks": ""
           }
          },
          "colorscale": {
           "diverging": [
            [
             0,
             "#8e0152"
            ],
            [
             0.1,
             "#c51b7d"
            ],
            [
             0.2,
             "#de77ae"
            ],
            [
             0.3,
             "#f1b6da"
            ],
            [
             0.4,
             "#fde0ef"
            ],
            [
             0.5,
             "#f7f7f7"
            ],
            [
             0.6,
             "#e6f5d0"
            ],
            [
             0.7,
             "#b8e186"
            ],
            [
             0.8,
             "#7fbc41"
            ],
            [
             0.9,
             "#4d9221"
            ],
            [
             1,
             "#276419"
            ]
           ],
           "sequential": [
            [
             0,
             "#0d0887"
            ],
            [
             0.1111111111111111,
             "#46039f"
            ],
            [
             0.2222222222222222,
             "#7201a8"
            ],
            [
             0.3333333333333333,
             "#9c179e"
            ],
            [
             0.4444444444444444,
             "#bd3786"
            ],
            [
             0.5555555555555556,
             "#d8576b"
            ],
            [
             0.6666666666666666,
             "#ed7953"
            ],
            [
             0.7777777777777778,
             "#fb9f3a"
            ],
            [
             0.8888888888888888,
             "#fdca26"
            ],
            [
             1,
             "#f0f921"
            ]
           ],
           "sequentialminus": [
            [
             0,
             "#0d0887"
            ],
            [
             0.1111111111111111,
             "#46039f"
            ],
            [
             0.2222222222222222,
             "#7201a8"
            ],
            [
             0.3333333333333333,
             "#9c179e"
            ],
            [
             0.4444444444444444,
             "#bd3786"
            ],
            [
             0.5555555555555556,
             "#d8576b"
            ],
            [
             0.6666666666666666,
             "#ed7953"
            ],
            [
             0.7777777777777778,
             "#fb9f3a"
            ],
            [
             0.8888888888888888,
             "#fdca26"
            ],
            [
             1,
             "#f0f921"
            ]
           ]
          },
          "colorway": [
           "#636efa",
           "#EF553B",
           "#00cc96",
           "#ab63fa",
           "#FFA15A",
           "#19d3f3",
           "#FF6692",
           "#B6E880",
           "#FF97FF",
           "#FECB52"
          ],
          "font": {
           "color": "#2a3f5f"
          },
          "geo": {
           "bgcolor": "white",
           "lakecolor": "white",
           "landcolor": "#E5ECF6",
           "showlakes": true,
           "showland": true,
           "subunitcolor": "white"
          },
          "hoverlabel": {
           "align": "left"
          },
          "hovermode": "closest",
          "mapbox": {
           "style": "light"
          },
          "paper_bgcolor": "white",
          "plot_bgcolor": "#E5ECF6",
          "polar": {
           "angularaxis": {
            "gridcolor": "white",
            "linecolor": "white",
            "ticks": ""
           },
           "bgcolor": "#E5ECF6",
           "radialaxis": {
            "gridcolor": "white",
            "linecolor": "white",
            "ticks": ""
           }
          },
          "scene": {
           "xaxis": {
            "backgroundcolor": "#E5ECF6",
            "gridcolor": "white",
            "gridwidth": 2,
            "linecolor": "white",
            "showbackground": true,
            "ticks": "",
            "zerolinecolor": "white"
           },
           "yaxis": {
            "backgroundcolor": "#E5ECF6",
            "gridcolor": "white",
            "gridwidth": 2,
            "linecolor": "white",
            "showbackground": true,
            "ticks": "",
            "zerolinecolor": "white"
           },
           "zaxis": {
            "backgroundcolor": "#E5ECF6",
            "gridcolor": "white",
            "gridwidth": 2,
            "linecolor": "white",
            "showbackground": true,
            "ticks": "",
            "zerolinecolor": "white"
           }
          },
          "shapedefaults": {
           "line": {
            "color": "#2a3f5f"
           }
          },
          "ternary": {
           "aaxis": {
            "gridcolor": "white",
            "linecolor": "white",
            "ticks": ""
           },
           "baxis": {
            "gridcolor": "white",
            "linecolor": "white",
            "ticks": ""
           },
           "bgcolor": "#E5ECF6",
           "caxis": {
            "gridcolor": "white",
            "linecolor": "white",
            "ticks": ""
           }
          },
          "title": {
           "x": 0.05
          },
          "xaxis": {
           "automargin": true,
           "gridcolor": "white",
           "linecolor": "white",
           "ticks": "",
           "title": {
            "standoff": 15
           },
           "zerolinecolor": "white",
           "zerolinewidth": 2
          },
          "yaxis": {
           "automargin": true,
           "gridcolor": "white",
           "linecolor": "white",
           "ticks": "",
           "title": {
            "standoff": 15
           },
           "zerolinecolor": "white",
           "zerolinewidth": 2
          }
         }
        }
       }
      }
     },
     "metadata": {},
     "output_type": "display_data"
    }
   ],
   "source": [
    "pts = []\n",
    "for i in range(100):\n",
    "    t = i * 0.01\n",
    "    pts.append(linear_interpolation(p0, p1, t))\n",
    "\n",
    "rendering3D(pts)"
   ]
  },
  {
   "cell_type": "code",
   "execution_count": null,
   "metadata": {},
   "outputs": [],
   "source": []
  },
  {
   "cell_type": "code",
   "execution_count": 14,
   "metadata": {},
   "outputs": [
    {
     "data": {
      "application/vnd.plotly.v1+json": {
       "config": {
        "plotlyServerURL": "https://plot.ly"
       },
       "data": [
        {
         "line": {
          "color": "red",
          "width": 2
         },
         "marker": {
          "color": "blue",
          "size": 3
         },
         "mode": "markers",
         "name": "Vector",
         "showlegend": false,
         "type": "scatter3d",
         "x": [
          10,
          9.991228300988585,
          9.964928592495044,
          9.921147013144779,
          9.85996037070505,
          9.781476007338057,
          9.685831611286313,
          9.573194975320673,
          9.443763702374811,
          9.297764858882514,
          9.135454576426008,
          8.95711760239413,
          8.763066800438637,
          8.553642601605066,
          8.329212407100995,
          8.090169943749475,
          7.836934573258398,
          7.569950556517565,
          7.289686274214116,
          6.996633405133656,
          6.691306063588582,
          6.3742398974868975,
          6.04599114862375,
          5.707135676844318,
          5.358267949789967,
          5.000000000000001,
          4.6329603511986175,
          4.257792915650728,
          3.875155864521031,
          3.485720473218153,
          3.0901699437494745,
          2.689198206152659,
          2.283508701106559,
          1.8738131458572473,
          1.4608302856241187,
          1.0452846326765368,
          0.6279051952931353,
          0.2094241988335705,
          -0.20942419883356705,
          -0.6279051952931318,
          -1.0452846326765333,
          -1.460830285624113,
          -1.8738131458572438,
          -2.2835087011065553,
          -2.689198206152656,
          -3.090169943749471,
          -3.48572047321815,
          -3.8751558645210284,
          -4.2577929156507235,
          -4.632960351198615,
          -4.999999999999998,
          -5.358267949789965,
          -5.707135676844316,
          -6.045991148623749,
          -6.374239897486894,
          -6.691306063588579,
          -6.996633405133652,
          -7.289686274214113,
          -7.569950556517563,
          -7.8369345732583975,
          -8.090169943749473,
          -8.329212407100993,
          -8.553642601605064,
          -8.763066800438633,
          -8.957117602394128,
          -9.135454576426007,
          -9.297764858882513,
          -9.44376370237481,
          -9.573194975320671,
          -9.685831611286309,
          -9.781476007338055,
          -9.859960370705048,
          -9.921147013144777,
          -9.964928592495044,
          -9.991228300988585,
          -10,
          -9.991228300988585,
          -9.964928592495044,
          -9.921147013144779,
          -9.85996037070505,
          -9.781476007338057,
          -9.685831611286313,
          -9.573194975320675,
          -9.443763702374813,
          -9.297764858882516,
          -9.13545457642601,
          -8.95711760239413,
          -8.763066800438637,
          -8.553642601605066,
          -8.329212407100998,
          -8.090169943749478,
          -7.836934573258402,
          -7.5699505565175675,
          -7.289686274214119,
          -6.9966334051336565,
          -6.691306063588584,
          -6.374239897486902,
          -6.045991148623754,
          -5.707135676844322,
          -5.358267949789971,
          -5.000000000000004,
          -4.632960351198621,
          -4.25779291565073,
          -3.875155864521033,
          -3.4857204732181546,
          -3.0901699437494754,
          -2.6891982061526583,
          -2.2835087011065665,
          -1.873813145857255,
          -1.4608302856241242,
          -1.0452846326765424,
          -0.6279051952931409,
          -0.20942419883357616,
          0.2094241988335636,
          0.6279051952931283,
          1.04528463267653,
          1.460830285624112,
          1.8738131458572427,
          2.2835087011065545,
          2.6891982061526547,
          3.0901699437494723,
          3.4857204732181426,
          3.875155864521021,
          4.257792915650718,
          4.6329603511986095,
          4.999999999999993,
          5.35826794978996,
          5.707135676844311,
          6.045991148623743,
          6.374239897486893,
          6.691306063588578,
          6.996633405133651,
          7.289686274214113,
          7.569950556517561,
          7.836934573258397,
          8.090169943749473,
          8.32921240710099,
          8.55364260160506,
          8.763066800438631,
          8.957117602394124,
          9.135454576426005,
          9.29776485888251,
          9.443763702374808,
          9.573194975320671,
          9.685831611286309,
          9.781476007338055,
          9.859960370705048,
          9.921147013144777,
          9.964928592495042,
          9.991228300988585
         ],
         "y": [
          0,
          0.41875653729199624,
          0.8367784333231548,
          1.2533323356430424,
          1.6676874671610227,
          2.079116908177593,
          2.486898871648547,
          2.8903179694447156,
          3.288666467385832,
          3.681245526846779,
          4.0673664307580015,
          4.446351791849274,
          4.817536741017152,
          5.180270093731302,
          5.53391549243344,
          5.877852522924732,
          6.211477802783103,
          6.534206039901054,
          6.845471059286886,
          7.144726796328032,
          7.431448254773942,
          7.705132427757891,
          7.965299180241963,
          8.211492091337039,
          8.44327925502015,
          8.660254037844386,
          8.862035792312145,
          9.048270524660195,
          9.218631515885004,
          9.372819894918914,
          9.510565162951535,
          9.63162566797658,
          9.735789028731602,
          9.822872507286887,
          9.892723329629883,
          9.945218953682733,
          9.980267284282716,
          9.997806834748456,
          9.997806834748456,
          9.980267284282716,
          9.945218953682733,
          9.892723329629883,
          9.822872507286887,
          9.735789028731602,
          9.631625667976582,
          9.510565162951536,
          9.372819894918916,
          9.218631515885006,
          9.048270524660197,
          8.862035792312149,
          8.660254037844387,
          8.443279255020151,
          8.21149209133704,
          7.965299180241963,
          7.705132427757895,
          7.431448254773945,
          7.144726796328036,
          6.845471059286888,
          6.534206039901056,
          6.211477802783105,
          5.877852522924733,
          5.533915492433445,
          5.180270093731306,
          4.817536741017156,
          4.446351791849278,
          4.067366430758004,
          3.6812455268467814,
          3.288666467385834,
          2.8903179694447214,
          2.4868988716485525,
          2.079116908177597,
          1.6676874671610262,
          1.2533323356430452,
          0.8367784333231574,
          0.41875653729199813,
          5.665538897647979e-15,
          -0.41875653729199125,
          -0.8367784333231504,
          -1.2533323356430384,
          -1.6676874671610196,
          -2.079116908177591,
          -2.486898871648546,
          -2.89031796944471,
          -3.2886664673858275,
          -3.6812455268467748,
          -4.067366430757998,
          -4.446351791849271,
          -4.81753674101715,
          -5.180270093731299,
          -5.533915492433436,
          -5.8778525229247265,
          -6.2114778027831,
          -6.534206039901051,
          -6.845471059286884,
          -7.144726796328031,
          -7.43144825477394,
          -7.7051324277578885,
          -7.965299180241959,
          -8.211492091337037,
          -8.443279255020148,
          -8.660254037844384,
          -8.862035792312145,
          -9.048270524660193,
          -9.218631515885004,
          -9.372819894918914,
          -9.510565162951535,
          -9.63162566797658,
          -9.7357890287316,
          -9.822872507286885,
          -9.892723329629883,
          -9.945218953682733,
          -9.980267284282716,
          -9.997806834748456,
          -9.997806834748456,
          -9.980267284282716,
          -9.945218953682733,
          -9.892723329629883,
          -9.822872507286887,
          -9.735789028731602,
          -9.631625667976582,
          -9.510565162951536,
          -9.37281989491892,
          -9.218631515885008,
          -9.048270524660198,
          -8.86203579231215,
          -8.66025403784439,
          -8.443279255020155,
          -8.211492091337044,
          -7.965299180241967,
          -7.705132427757896,
          -7.4314482547739455,
          -7.144726796328037,
          -6.84547105928689,
          -6.534206039901057,
          -6.211477802783106,
          -5.877852522924734,
          -5.53391549243345,
          -5.180270093731311,
          -4.817536741017161,
          -4.446351791849283,
          -4.0673664307580095,
          -3.681245526846787,
          -3.288666467385839,
          -2.8903179694447223,
          -2.4868988716485534,
          -2.079116908177599,
          -1.6676874671610273,
          -1.2533323356430466,
          -0.8367784333231585,
          -0.4187565372919993
         ],
         "z": [
          0,
          0,
          0,
          0,
          0,
          0,
          0,
          0,
          0,
          0,
          0,
          0,
          0,
          0,
          0,
          0,
          0,
          0,
          0,
          0,
          0,
          0,
          0,
          0,
          0,
          0,
          0,
          0,
          0,
          0,
          0,
          0,
          0,
          0,
          0,
          0,
          0,
          0,
          0,
          0,
          0,
          0,
          0,
          0,
          0,
          0,
          0,
          0,
          0,
          0,
          0,
          0,
          0,
          0,
          0,
          0,
          0,
          0,
          0,
          0,
          0,
          0,
          0,
          0,
          0,
          0,
          0,
          0,
          0,
          0,
          0,
          0,
          0,
          0,
          0,
          0,
          0,
          0,
          0,
          0,
          0,
          0,
          0,
          0,
          0,
          0,
          0,
          0,
          0,
          0,
          0,
          0,
          0,
          0,
          0,
          0,
          0,
          0,
          0,
          0,
          0,
          0,
          0,
          0,
          0,
          0,
          0,
          0,
          0,
          0,
          0,
          0,
          0,
          0,
          0,
          0,
          0,
          0,
          0,
          0,
          0,
          0,
          0,
          0,
          0,
          0,
          0,
          0,
          0,
          0,
          0,
          0,
          0,
          0,
          0,
          0,
          0,
          0,
          0,
          0,
          0,
          0,
          0,
          0,
          0,
          0,
          0,
          0,
          0,
          0
         ]
        }
       ],
       "layout": {
        "scene": {
         "camera": {
          "center": {
           "x": 0,
           "y": 0,
           "z": 0
          },
          "eye": {
           "x": 1.5,
           "y": -1.5,
           "z": 1.5
          },
          "up": {
           "x": 0,
           "y": 0,
           "z": 1
          }
         }
        },
        "template": {
         "data": {
          "bar": [
           {
            "error_x": {
             "color": "#2a3f5f"
            },
            "error_y": {
             "color": "#2a3f5f"
            },
            "marker": {
             "line": {
              "color": "#E5ECF6",
              "width": 0.5
             },
             "pattern": {
              "fillmode": "overlay",
              "size": 10,
              "solidity": 0.2
             }
            },
            "type": "bar"
           }
          ],
          "barpolar": [
           {
            "marker": {
             "line": {
              "color": "#E5ECF6",
              "width": 0.5
             },
             "pattern": {
              "fillmode": "overlay",
              "size": 10,
              "solidity": 0.2
             }
            },
            "type": "barpolar"
           }
          ],
          "carpet": [
           {
            "aaxis": {
             "endlinecolor": "#2a3f5f",
             "gridcolor": "white",
             "linecolor": "white",
             "minorgridcolor": "white",
             "startlinecolor": "#2a3f5f"
            },
            "baxis": {
             "endlinecolor": "#2a3f5f",
             "gridcolor": "white",
             "linecolor": "white",
             "minorgridcolor": "white",
             "startlinecolor": "#2a3f5f"
            },
            "type": "carpet"
           }
          ],
          "choropleth": [
           {
            "colorbar": {
             "outlinewidth": 0,
             "ticks": ""
            },
            "type": "choropleth"
           }
          ],
          "contour": [
           {
            "colorbar": {
             "outlinewidth": 0,
             "ticks": ""
            },
            "colorscale": [
             [
              0,
              "#0d0887"
             ],
             [
              0.1111111111111111,
              "#46039f"
             ],
             [
              0.2222222222222222,
              "#7201a8"
             ],
             [
              0.3333333333333333,
              "#9c179e"
             ],
             [
              0.4444444444444444,
              "#bd3786"
             ],
             [
              0.5555555555555556,
              "#d8576b"
             ],
             [
              0.6666666666666666,
              "#ed7953"
             ],
             [
              0.7777777777777778,
              "#fb9f3a"
             ],
             [
              0.8888888888888888,
              "#fdca26"
             ],
             [
              1,
              "#f0f921"
             ]
            ],
            "type": "contour"
           }
          ],
          "contourcarpet": [
           {
            "colorbar": {
             "outlinewidth": 0,
             "ticks": ""
            },
            "type": "contourcarpet"
           }
          ],
          "heatmap": [
           {
            "colorbar": {
             "outlinewidth": 0,
             "ticks": ""
            },
            "colorscale": [
             [
              0,
              "#0d0887"
             ],
             [
              0.1111111111111111,
              "#46039f"
             ],
             [
              0.2222222222222222,
              "#7201a8"
             ],
             [
              0.3333333333333333,
              "#9c179e"
             ],
             [
              0.4444444444444444,
              "#bd3786"
             ],
             [
              0.5555555555555556,
              "#d8576b"
             ],
             [
              0.6666666666666666,
              "#ed7953"
             ],
             [
              0.7777777777777778,
              "#fb9f3a"
             ],
             [
              0.8888888888888888,
              "#fdca26"
             ],
             [
              1,
              "#f0f921"
             ]
            ],
            "type": "heatmap"
           }
          ],
          "heatmapgl": [
           {
            "colorbar": {
             "outlinewidth": 0,
             "ticks": ""
            },
            "colorscale": [
             [
              0,
              "#0d0887"
             ],
             [
              0.1111111111111111,
              "#46039f"
             ],
             [
              0.2222222222222222,
              "#7201a8"
             ],
             [
              0.3333333333333333,
              "#9c179e"
             ],
             [
              0.4444444444444444,
              "#bd3786"
             ],
             [
              0.5555555555555556,
              "#d8576b"
             ],
             [
              0.6666666666666666,
              "#ed7953"
             ],
             [
              0.7777777777777778,
              "#fb9f3a"
             ],
             [
              0.8888888888888888,
              "#fdca26"
             ],
             [
              1,
              "#f0f921"
             ]
            ],
            "type": "heatmapgl"
           }
          ],
          "histogram": [
           {
            "marker": {
             "pattern": {
              "fillmode": "overlay",
              "size": 10,
              "solidity": 0.2
             }
            },
            "type": "histogram"
           }
          ],
          "histogram2d": [
           {
            "colorbar": {
             "outlinewidth": 0,
             "ticks": ""
            },
            "colorscale": [
             [
              0,
              "#0d0887"
             ],
             [
              0.1111111111111111,
              "#46039f"
             ],
             [
              0.2222222222222222,
              "#7201a8"
             ],
             [
              0.3333333333333333,
              "#9c179e"
             ],
             [
              0.4444444444444444,
              "#bd3786"
             ],
             [
              0.5555555555555556,
              "#d8576b"
             ],
             [
              0.6666666666666666,
              "#ed7953"
             ],
             [
              0.7777777777777778,
              "#fb9f3a"
             ],
             [
              0.8888888888888888,
              "#fdca26"
             ],
             [
              1,
              "#f0f921"
             ]
            ],
            "type": "histogram2d"
           }
          ],
          "histogram2dcontour": [
           {
            "colorbar": {
             "outlinewidth": 0,
             "ticks": ""
            },
            "colorscale": [
             [
              0,
              "#0d0887"
             ],
             [
              0.1111111111111111,
              "#46039f"
             ],
             [
              0.2222222222222222,
              "#7201a8"
             ],
             [
              0.3333333333333333,
              "#9c179e"
             ],
             [
              0.4444444444444444,
              "#bd3786"
             ],
             [
              0.5555555555555556,
              "#d8576b"
             ],
             [
              0.6666666666666666,
              "#ed7953"
             ],
             [
              0.7777777777777778,
              "#fb9f3a"
             ],
             [
              0.8888888888888888,
              "#fdca26"
             ],
             [
              1,
              "#f0f921"
             ]
            ],
            "type": "histogram2dcontour"
           }
          ],
          "mesh3d": [
           {
            "colorbar": {
             "outlinewidth": 0,
             "ticks": ""
            },
            "type": "mesh3d"
           }
          ],
          "parcoords": [
           {
            "line": {
             "colorbar": {
              "outlinewidth": 0,
              "ticks": ""
             }
            },
            "type": "parcoords"
           }
          ],
          "pie": [
           {
            "automargin": true,
            "type": "pie"
           }
          ],
          "scatter": [
           {
            "fillpattern": {
             "fillmode": "overlay",
             "size": 10,
             "solidity": 0.2
            },
            "type": "scatter"
           }
          ],
          "scatter3d": [
           {
            "line": {
             "colorbar": {
              "outlinewidth": 0,
              "ticks": ""
             }
            },
            "marker": {
             "colorbar": {
              "outlinewidth": 0,
              "ticks": ""
             }
            },
            "type": "scatter3d"
           }
          ],
          "scattercarpet": [
           {
            "marker": {
             "colorbar": {
              "outlinewidth": 0,
              "ticks": ""
             }
            },
            "type": "scattercarpet"
           }
          ],
          "scattergeo": [
           {
            "marker": {
             "colorbar": {
              "outlinewidth": 0,
              "ticks": ""
             }
            },
            "type": "scattergeo"
           }
          ],
          "scattergl": [
           {
            "marker": {
             "colorbar": {
              "outlinewidth": 0,
              "ticks": ""
             }
            },
            "type": "scattergl"
           }
          ],
          "scattermapbox": [
           {
            "marker": {
             "colorbar": {
              "outlinewidth": 0,
              "ticks": ""
             }
            },
            "type": "scattermapbox"
           }
          ],
          "scatterpolar": [
           {
            "marker": {
             "colorbar": {
              "outlinewidth": 0,
              "ticks": ""
             }
            },
            "type": "scatterpolar"
           }
          ],
          "scatterpolargl": [
           {
            "marker": {
             "colorbar": {
              "outlinewidth": 0,
              "ticks": ""
             }
            },
            "type": "scatterpolargl"
           }
          ],
          "scatterternary": [
           {
            "marker": {
             "colorbar": {
              "outlinewidth": 0,
              "ticks": ""
             }
            },
            "type": "scatterternary"
           }
          ],
          "surface": [
           {
            "colorbar": {
             "outlinewidth": 0,
             "ticks": ""
            },
            "colorscale": [
             [
              0,
              "#0d0887"
             ],
             [
              0.1111111111111111,
              "#46039f"
             ],
             [
              0.2222222222222222,
              "#7201a8"
             ],
             [
              0.3333333333333333,
              "#9c179e"
             ],
             [
              0.4444444444444444,
              "#bd3786"
             ],
             [
              0.5555555555555556,
              "#d8576b"
             ],
             [
              0.6666666666666666,
              "#ed7953"
             ],
             [
              0.7777777777777778,
              "#fb9f3a"
             ],
             [
              0.8888888888888888,
              "#fdca26"
             ],
             [
              1,
              "#f0f921"
             ]
            ],
            "type": "surface"
           }
          ],
          "table": [
           {
            "cells": {
             "fill": {
              "color": "#EBF0F8"
             },
             "line": {
              "color": "white"
             }
            },
            "header": {
             "fill": {
              "color": "#C8D4E3"
             },
             "line": {
              "color": "white"
             }
            },
            "type": "table"
           }
          ]
         },
         "layout": {
          "annotationdefaults": {
           "arrowcolor": "#2a3f5f",
           "arrowhead": 0,
           "arrowwidth": 1
          },
          "autotypenumbers": "strict",
          "coloraxis": {
           "colorbar": {
            "outlinewidth": 0,
            "ticks": ""
           }
          },
          "colorscale": {
           "diverging": [
            [
             0,
             "#8e0152"
            ],
            [
             0.1,
             "#c51b7d"
            ],
            [
             0.2,
             "#de77ae"
            ],
            [
             0.3,
             "#f1b6da"
            ],
            [
             0.4,
             "#fde0ef"
            ],
            [
             0.5,
             "#f7f7f7"
            ],
            [
             0.6,
             "#e6f5d0"
            ],
            [
             0.7,
             "#b8e186"
            ],
            [
             0.8,
             "#7fbc41"
            ],
            [
             0.9,
             "#4d9221"
            ],
            [
             1,
             "#276419"
            ]
           ],
           "sequential": [
            [
             0,
             "#0d0887"
            ],
            [
             0.1111111111111111,
             "#46039f"
            ],
            [
             0.2222222222222222,
             "#7201a8"
            ],
            [
             0.3333333333333333,
             "#9c179e"
            ],
            [
             0.4444444444444444,
             "#bd3786"
            ],
            [
             0.5555555555555556,
             "#d8576b"
            ],
            [
             0.6666666666666666,
             "#ed7953"
            ],
            [
             0.7777777777777778,
             "#fb9f3a"
            ],
            [
             0.8888888888888888,
             "#fdca26"
            ],
            [
             1,
             "#f0f921"
            ]
           ],
           "sequentialminus": [
            [
             0,
             "#0d0887"
            ],
            [
             0.1111111111111111,
             "#46039f"
            ],
            [
             0.2222222222222222,
             "#7201a8"
            ],
            [
             0.3333333333333333,
             "#9c179e"
            ],
            [
             0.4444444444444444,
             "#bd3786"
            ],
            [
             0.5555555555555556,
             "#d8576b"
            ],
            [
             0.6666666666666666,
             "#ed7953"
            ],
            [
             0.7777777777777778,
             "#fb9f3a"
            ],
            [
             0.8888888888888888,
             "#fdca26"
            ],
            [
             1,
             "#f0f921"
            ]
           ]
          },
          "colorway": [
           "#636efa",
           "#EF553B",
           "#00cc96",
           "#ab63fa",
           "#FFA15A",
           "#19d3f3",
           "#FF6692",
           "#B6E880",
           "#FF97FF",
           "#FECB52"
          ],
          "font": {
           "color": "#2a3f5f"
          },
          "geo": {
           "bgcolor": "white",
           "lakecolor": "white",
           "landcolor": "#E5ECF6",
           "showlakes": true,
           "showland": true,
           "subunitcolor": "white"
          },
          "hoverlabel": {
           "align": "left"
          },
          "hovermode": "closest",
          "mapbox": {
           "style": "light"
          },
          "paper_bgcolor": "white",
          "plot_bgcolor": "#E5ECF6",
          "polar": {
           "angularaxis": {
            "gridcolor": "white",
            "linecolor": "white",
            "ticks": ""
           },
           "bgcolor": "#E5ECF6",
           "radialaxis": {
            "gridcolor": "white",
            "linecolor": "white",
            "ticks": ""
           }
          },
          "scene": {
           "xaxis": {
            "backgroundcolor": "#E5ECF6",
            "gridcolor": "white",
            "gridwidth": 2,
            "linecolor": "white",
            "showbackground": true,
            "ticks": "",
            "zerolinecolor": "white"
           },
           "yaxis": {
            "backgroundcolor": "#E5ECF6",
            "gridcolor": "white",
            "gridwidth": 2,
            "linecolor": "white",
            "showbackground": true,
            "ticks": "",
            "zerolinecolor": "white"
           },
           "zaxis": {
            "backgroundcolor": "#E5ECF6",
            "gridcolor": "white",
            "gridwidth": 2,
            "linecolor": "white",
            "showbackground": true,
            "ticks": "",
            "zerolinecolor": "white"
           }
          },
          "shapedefaults": {
           "line": {
            "color": "#2a3f5f"
           }
          },
          "ternary": {
           "aaxis": {
            "gridcolor": "white",
            "linecolor": "white",
            "ticks": ""
           },
           "baxis": {
            "gridcolor": "white",
            "linecolor": "white",
            "ticks": ""
           },
           "bgcolor": "#E5ECF6",
           "caxis": {
            "gridcolor": "white",
            "linecolor": "white",
            "ticks": ""
           }
          },
          "title": {
           "x": 0.05
          },
          "xaxis": {
           "automargin": true,
           "gridcolor": "white",
           "linecolor": "white",
           "ticks": "",
           "title": {
            "standoff": 15
           },
           "zerolinecolor": "white",
           "zerolinewidth": 2
          },
          "yaxis": {
           "automargin": true,
           "gridcolor": "white",
           "linecolor": "white",
           "ticks": "",
           "title": {
            "standoff": 15
           },
           "zerolinecolor": "white",
           "zerolinewidth": 2
          }
         }
        }
       }
      }
     },
     "metadata": {},
     "output_type": "display_data"
    }
   ],
   "source": [
    "R = 10\n",
    "\n",
    "interval = math.pi * 2 / 150\n",
    "\n",
    "pts = []\n",
    "for i in range(150):\n",
    "    t = interval * i\n",
    "    x = R * math.cos(t)\n",
    "    y = R * math.sin(t)\n",
    "    pts.append([x,y,0])\n",
    "\n",
    "rendering3D(pts)"
   ]
  },
  {
   "cell_type": "code",
   "execution_count": 15,
   "metadata": {},
   "outputs": [
    {
     "data": {
      "application/vnd.plotly.v1+json": {
       "config": {
        "plotlyServerURL": "https://plot.ly"
       },
       "data": [
        {
         "line": {
          "color": "red",
          "width": 2
         },
         "marker": {
          "color": "blue",
          "size": 3
         },
         "mode": "markers",
         "name": "Vector",
         "showlegend": false,
         "type": "scatter3d",
         "x": [
          20,
          19.842294026289558,
          19.371663222572625,
          18.59552971776503,
          17.526133600877273,
          16.18033988749895,
          14.579372548428232,
          12.748479794973795,
          10.716535899579934,
          8.515585831301456,
          6.1803398874989535,
          3.7476262917144987,
          1.2558103905862705,
          -1.2558103905862636,
          -3.7476262917144876,
          -6.180339887498942,
          -8.515585831301447,
          -10.71653589957993,
          -12.748479794973788,
          -14.579372548428227,
          -16.180339887498942,
          -17.526133600877266,
          -18.59552971776502,
          -19.371663222572618,
          -19.842294026289554,
          -20,
          -19.842294026289558,
          -19.371663222572625,
          -18.595529717765032,
          -17.52613360087728,
          -16.180339887498956,
          -14.579372548428243,
          -12.748479794973804,
          -10.716535899579942,
          -8.51558583130146,
          -6.180339887498969,
          -3.74762629171451,
          -1.2558103905862819,
          1.2558103905862565,
          3.747626291714468,
          6.180339887498928,
          8.515585831301436,
          10.71653589957992,
          12.748479794973786,
          14.579372548428214,
          16.180339887498935,
          17.526133600877262,
          18.59552971776502,
          19.371663222572618,
          19.842294026289554,
          20,
          19.842294026289558,
          19.371663222572625,
          18.59552971776504,
          17.526133600877284,
          16.180339887498963,
          14.579372548428244,
          12.748479794973806,
          10.716535899579958,
          8.515585831301477,
          6.180339887498971,
          3.7476262917145124,
          1.2558103905863018,
          -1.2558103905862366,
          -3.7476262917144654,
          -6.180339887498909,
          -8.515585831301435,
          -10.716535899579902,
          -12.748479794973784,
          -14.57937254842821,
          -16.180339887498924,
          -17.52613360087726,
          -18.595529717765015,
          -19.371663222572618,
          -19.842294026289554,
          -20,
          -19.842294026289558,
          -19.37166322257263,
          -18.595529717765046,
          -17.526133600877284,
          -16.180339887498974,
          -14.579372548428246,
          -12.748479794973822,
          -10.716535899579975,
          -8.515585831301479,
          -6.18033988749899,
          -3.7476262917145147,
          -1.2558103905863045,
          1.2558103905862164,
          3.747626291714463,
          6.180339887498906,
          8.515585831301433,
          10.716535899579899,
          12.748479794973754,
          14.579372548428209,
          16.180339887498924,
          17.52613360087726,
          18.595529717765015,
          19.37166322257261,
          19.842294026289554,
          20,
          19.842294026289565,
          19.371663222572632,
          18.595529717765046,
          17.526133600877287,
          16.180339887498974,
          14.579372548428271,
          12.748479794973823,
          10.716535899579977,
          8.515585831301483,
          6.1803398874989925,
          3.747626291714552,
          1.255810390586307,
          -1.255810390586214,
          -3.747626291714461,
          -6.180339887498904,
          -8.515585831301397,
          -10.716535899579899,
          -12.748479794973752,
          -14.579372548428184,
          -16.18033988749892,
          -17.526133600877245,
          -18.595529717765015,
          -19.371663222572607,
          -19.842294026289547,
          -20,
          -19.842294026289565,
          -19.371663222572632,
          -18.59552971776505,
          -17.526133600877305,
          -16.180339887499,
          -14.57937254842825,
          -12.748479794973825,
          -10.71653589957998,
          -8.515585831301516,
          -6.180339887499029,
          -3.7476262917145196,
          -1.2558103905863094,
          1.2558103905862115,
          3.747626291714423,
          6.180339887498868,
          8.515585831301427,
          10.716535899579897,
          12.74847979497375,
          14.579372548428182,
          16.1803398874989,
          17.52613360087726,
          18.59552971776501,
          19.371663222572607,
          19.842294026289547
         ],
         "y": [
          0,
          2.5066646712860847,
          4.973797743297094,
          7.362491053693558,
          9.635073482034304,
          11.75570504584946,
          13.690942118573773,
          15.410264855515782,
          16.8865585100403,
          18.09654104932039,
          19.02113032590307,
          19.645745014573773,
          19.960534568565432,
          19.960534568565432,
          19.645745014573773,
          19.021130325903073,
          18.096541049320393,
          16.886558510040302,
          15.41026485551579,
          13.690942118573776,
          11.75570504584947,
          9.635073482034311,
          7.362491053693571,
          4.973797743297105,
          2.5066646712860905,
          1.1331077795295958e-14,
          -2.5066646712860767,
          -4.973797743297083,
          -7.3624910536935495,
          -9.635073482034292,
          -11.755705045849453,
          -13.690942118573762,
          -15.410264855515777,
          -16.886558510040295,
          -18.096541049320386,
          -19.021130325903066,
          -19.64574501457377,
          -19.960534568565432,
          -19.960534568565432,
          -19.64574501457378,
          -19.021130325903076,
          -18.096541049320397,
          -16.88655851004031,
          -15.410264855515791,
          -13.690942118573792,
          -11.755705045849481,
          -9.635073482034322,
          -7.362491053693574,
          -4.973797743297107,
          -2.506664671286111,
          -2.2662155590591917e-14,
          2.5066646712860656,
          4.97379774329708,
          7.362491053693532,
          9.635073482034283,
          11.755705045849446,
          13.690942118573759,
          15.410264855515774,
          16.886558510040285,
          18.09654104932038,
          19.021130325903066,
          19.64574501457377,
          19.96053456856543,
          19.960534568565432,
          19.64574501457378,
          19.021130325903084,
          18.0965410493204,
          16.88655851004032,
          15.410264855515795,
          13.690942118573794,
          11.755705045849496,
          9.635073482034324,
          7.362491053693592,
          4.973797743297109,
          2.5066646712861136,
          4.2875017582889124e-14,
          -2.5066646712860634,
          -4.973797743297061,
          -7.362491053693513,
          -9.63507348203428,
          -11.755705045849428,
          -13.690942118573757,
          -15.410264855515761,
          -16.886558510040274,
          -18.09654104932038,
          -19.02113032590306,
          -19.64574501457377,
          -19.96053456856543,
          -19.960534568565432,
          -19.64574501457378,
          -19.021130325903087,
          -18.0965410493204,
          -16.88655851004032,
          -15.410264855515818,
          -13.690942118573798,
          -11.7557050458495,
          -9.635073482034326,
          -7.362491053693594,
          -4.973797743297147,
          -2.506664671286116,
          -4.5324311181183834e-14,
          2.5066646712860257,
          4.973797743297059,
          7.36249105369351,
          9.635073482034278,
          11.755705045849425,
          13.69094211857373,
          15.410264855515761,
          16.886558510040274,
          18.096541049320376,
          19.02113032590306,
          19.645745014573762,
          19.96053456856543,
          19.960534568565436,
          19.64574501457378,
          19.021130325903087,
          18.096541049320415,
          16.886558510040324,
          15.410264855515818,
          13.690942118573822,
          11.755705045849501,
          9.63507348203436,
          7.3624910536935975,
          4.9737977432971485,
          2.5066646712861536,
          4.7773604779478537e-14,
          -2.5066646712860234,
          -4.973797743297056,
          -7.362491053693507,
          -9.635073482034244,
          -11.755705045849394,
          -13.690942118573755,
          -15.41026485551576,
          -16.886558510040274,
          -18.09654104932036,
          -19.021130325903044,
          -19.64574501457377,
          -19.96053456856543,
          -19.960534568565436,
          -19.645745014573787,
          -19.021130325903098,
          -18.096541049320404,
          -16.886558510040324,
          -15.41026485551582,
          -13.690942118573826,
          -11.755705045849531,
          -9.635073482034331,
          -7.362491053693599,
          -4.973797743297151,
          -2.5066646712861558
         ],
         "z": [
          0,
          0.5,
          1,
          1.5,
          2,
          2.5,
          3,
          3.5,
          4,
          4.5,
          5,
          5.5,
          6,
          6.5,
          7,
          7.5,
          8,
          8.5,
          9,
          9.5,
          10,
          10.5,
          11,
          11.5,
          12,
          12.5,
          13,
          13.5,
          14,
          14.5,
          15,
          15.5,
          16,
          16.5,
          17,
          17.5,
          18,
          18.5,
          19,
          19.5,
          20,
          20.5,
          21,
          21.5,
          22,
          22.5,
          23,
          23.5,
          24,
          24.5,
          25,
          25.5,
          26,
          26.5,
          27,
          27.5,
          28,
          28.5,
          29,
          29.5,
          30,
          30.5,
          31,
          31.5,
          32,
          32.5,
          33,
          33.5,
          34,
          34.5,
          35,
          35.5,
          36,
          36.5,
          37,
          37.5,
          38,
          38.5,
          39,
          39.5,
          40,
          40.5,
          41,
          41.5,
          42,
          42.5,
          43,
          43.5,
          44,
          44.5,
          45,
          45.5,
          46,
          46.5,
          47,
          47.5,
          48,
          48.5,
          49,
          49.5,
          50,
          50.5,
          51,
          51.5,
          52,
          52.5,
          53,
          53.5,
          54,
          54.5,
          55,
          55.5,
          56,
          56.5,
          57,
          57.5,
          58,
          58.5,
          59,
          59.5,
          60,
          60.5,
          61,
          61.5,
          62,
          62.5,
          63,
          63.5,
          64,
          64.5,
          65,
          65.5,
          66,
          66.5,
          67,
          67.5,
          68,
          68.5,
          69,
          69.5,
          70,
          70.5,
          71,
          71.5,
          72,
          72.5,
          73,
          73.5,
          74,
          74.5
         ]
        }
       ],
       "layout": {
        "scene": {
         "camera": {
          "center": {
           "x": 0,
           "y": 0,
           "z": 0
          },
          "eye": {
           "x": 1.5,
           "y": -1.5,
           "z": 1.5
          },
          "up": {
           "x": 0,
           "y": 0,
           "z": 1
          }
         }
        },
        "template": {
         "data": {
          "bar": [
           {
            "error_x": {
             "color": "#2a3f5f"
            },
            "error_y": {
             "color": "#2a3f5f"
            },
            "marker": {
             "line": {
              "color": "#E5ECF6",
              "width": 0.5
             },
             "pattern": {
              "fillmode": "overlay",
              "size": 10,
              "solidity": 0.2
             }
            },
            "type": "bar"
           }
          ],
          "barpolar": [
           {
            "marker": {
             "line": {
              "color": "#E5ECF6",
              "width": 0.5
             },
             "pattern": {
              "fillmode": "overlay",
              "size": 10,
              "solidity": 0.2
             }
            },
            "type": "barpolar"
           }
          ],
          "carpet": [
           {
            "aaxis": {
             "endlinecolor": "#2a3f5f",
             "gridcolor": "white",
             "linecolor": "white",
             "minorgridcolor": "white",
             "startlinecolor": "#2a3f5f"
            },
            "baxis": {
             "endlinecolor": "#2a3f5f",
             "gridcolor": "white",
             "linecolor": "white",
             "minorgridcolor": "white",
             "startlinecolor": "#2a3f5f"
            },
            "type": "carpet"
           }
          ],
          "choropleth": [
           {
            "colorbar": {
             "outlinewidth": 0,
             "ticks": ""
            },
            "type": "choropleth"
           }
          ],
          "contour": [
           {
            "colorbar": {
             "outlinewidth": 0,
             "ticks": ""
            },
            "colorscale": [
             [
              0,
              "#0d0887"
             ],
             [
              0.1111111111111111,
              "#46039f"
             ],
             [
              0.2222222222222222,
              "#7201a8"
             ],
             [
              0.3333333333333333,
              "#9c179e"
             ],
             [
              0.4444444444444444,
              "#bd3786"
             ],
             [
              0.5555555555555556,
              "#d8576b"
             ],
             [
              0.6666666666666666,
              "#ed7953"
             ],
             [
              0.7777777777777778,
              "#fb9f3a"
             ],
             [
              0.8888888888888888,
              "#fdca26"
             ],
             [
              1,
              "#f0f921"
             ]
            ],
            "type": "contour"
           }
          ],
          "contourcarpet": [
           {
            "colorbar": {
             "outlinewidth": 0,
             "ticks": ""
            },
            "type": "contourcarpet"
           }
          ],
          "heatmap": [
           {
            "colorbar": {
             "outlinewidth": 0,
             "ticks": ""
            },
            "colorscale": [
             [
              0,
              "#0d0887"
             ],
             [
              0.1111111111111111,
              "#46039f"
             ],
             [
              0.2222222222222222,
              "#7201a8"
             ],
             [
              0.3333333333333333,
              "#9c179e"
             ],
             [
              0.4444444444444444,
              "#bd3786"
             ],
             [
              0.5555555555555556,
              "#d8576b"
             ],
             [
              0.6666666666666666,
              "#ed7953"
             ],
             [
              0.7777777777777778,
              "#fb9f3a"
             ],
             [
              0.8888888888888888,
              "#fdca26"
             ],
             [
              1,
              "#f0f921"
             ]
            ],
            "type": "heatmap"
           }
          ],
          "heatmapgl": [
           {
            "colorbar": {
             "outlinewidth": 0,
             "ticks": ""
            },
            "colorscale": [
             [
              0,
              "#0d0887"
             ],
             [
              0.1111111111111111,
              "#46039f"
             ],
             [
              0.2222222222222222,
              "#7201a8"
             ],
             [
              0.3333333333333333,
              "#9c179e"
             ],
             [
              0.4444444444444444,
              "#bd3786"
             ],
             [
              0.5555555555555556,
              "#d8576b"
             ],
             [
              0.6666666666666666,
              "#ed7953"
             ],
             [
              0.7777777777777778,
              "#fb9f3a"
             ],
             [
              0.8888888888888888,
              "#fdca26"
             ],
             [
              1,
              "#f0f921"
             ]
            ],
            "type": "heatmapgl"
           }
          ],
          "histogram": [
           {
            "marker": {
             "pattern": {
              "fillmode": "overlay",
              "size": 10,
              "solidity": 0.2
             }
            },
            "type": "histogram"
           }
          ],
          "histogram2d": [
           {
            "colorbar": {
             "outlinewidth": 0,
             "ticks": ""
            },
            "colorscale": [
             [
              0,
              "#0d0887"
             ],
             [
              0.1111111111111111,
              "#46039f"
             ],
             [
              0.2222222222222222,
              "#7201a8"
             ],
             [
              0.3333333333333333,
              "#9c179e"
             ],
             [
              0.4444444444444444,
              "#bd3786"
             ],
             [
              0.5555555555555556,
              "#d8576b"
             ],
             [
              0.6666666666666666,
              "#ed7953"
             ],
             [
              0.7777777777777778,
              "#fb9f3a"
             ],
             [
              0.8888888888888888,
              "#fdca26"
             ],
             [
              1,
              "#f0f921"
             ]
            ],
            "type": "histogram2d"
           }
          ],
          "histogram2dcontour": [
           {
            "colorbar": {
             "outlinewidth": 0,
             "ticks": ""
            },
            "colorscale": [
             [
              0,
              "#0d0887"
             ],
             [
              0.1111111111111111,
              "#46039f"
             ],
             [
              0.2222222222222222,
              "#7201a8"
             ],
             [
              0.3333333333333333,
              "#9c179e"
             ],
             [
              0.4444444444444444,
              "#bd3786"
             ],
             [
              0.5555555555555556,
              "#d8576b"
             ],
             [
              0.6666666666666666,
              "#ed7953"
             ],
             [
              0.7777777777777778,
              "#fb9f3a"
             ],
             [
              0.8888888888888888,
              "#fdca26"
             ],
             [
              1,
              "#f0f921"
             ]
            ],
            "type": "histogram2dcontour"
           }
          ],
          "mesh3d": [
           {
            "colorbar": {
             "outlinewidth": 0,
             "ticks": ""
            },
            "type": "mesh3d"
           }
          ],
          "parcoords": [
           {
            "line": {
             "colorbar": {
              "outlinewidth": 0,
              "ticks": ""
             }
            },
            "type": "parcoords"
           }
          ],
          "pie": [
           {
            "automargin": true,
            "type": "pie"
           }
          ],
          "scatter": [
           {
            "fillpattern": {
             "fillmode": "overlay",
             "size": 10,
             "solidity": 0.2
            },
            "type": "scatter"
           }
          ],
          "scatter3d": [
           {
            "line": {
             "colorbar": {
              "outlinewidth": 0,
              "ticks": ""
             }
            },
            "marker": {
             "colorbar": {
              "outlinewidth": 0,
              "ticks": ""
             }
            },
            "type": "scatter3d"
           }
          ],
          "scattercarpet": [
           {
            "marker": {
             "colorbar": {
              "outlinewidth": 0,
              "ticks": ""
             }
            },
            "type": "scattercarpet"
           }
          ],
          "scattergeo": [
           {
            "marker": {
             "colorbar": {
              "outlinewidth": 0,
              "ticks": ""
             }
            },
            "type": "scattergeo"
           }
          ],
          "scattergl": [
           {
            "marker": {
             "colorbar": {
              "outlinewidth": 0,
              "ticks": ""
             }
            },
            "type": "scattergl"
           }
          ],
          "scattermapbox": [
           {
            "marker": {
             "colorbar": {
              "outlinewidth": 0,
              "ticks": ""
             }
            },
            "type": "scattermapbox"
           }
          ],
          "scatterpolar": [
           {
            "marker": {
             "colorbar": {
              "outlinewidth": 0,
              "ticks": ""
             }
            },
            "type": "scatterpolar"
           }
          ],
          "scatterpolargl": [
           {
            "marker": {
             "colorbar": {
              "outlinewidth": 0,
              "ticks": ""
             }
            },
            "type": "scatterpolargl"
           }
          ],
          "scatterternary": [
           {
            "marker": {
             "colorbar": {
              "outlinewidth": 0,
              "ticks": ""
             }
            },
            "type": "scatterternary"
           }
          ],
          "surface": [
           {
            "colorbar": {
             "outlinewidth": 0,
             "ticks": ""
            },
            "colorscale": [
             [
              0,
              "#0d0887"
             ],
             [
              0.1111111111111111,
              "#46039f"
             ],
             [
              0.2222222222222222,
              "#7201a8"
             ],
             [
              0.3333333333333333,
              "#9c179e"
             ],
             [
              0.4444444444444444,
              "#bd3786"
             ],
             [
              0.5555555555555556,
              "#d8576b"
             ],
             [
              0.6666666666666666,
              "#ed7953"
             ],
             [
              0.7777777777777778,
              "#fb9f3a"
             ],
             [
              0.8888888888888888,
              "#fdca26"
             ],
             [
              1,
              "#f0f921"
             ]
            ],
            "type": "surface"
           }
          ],
          "table": [
           {
            "cells": {
             "fill": {
              "color": "#EBF0F8"
             },
             "line": {
              "color": "white"
             }
            },
            "header": {
             "fill": {
              "color": "#C8D4E3"
             },
             "line": {
              "color": "white"
             }
            },
            "type": "table"
           }
          ]
         },
         "layout": {
          "annotationdefaults": {
           "arrowcolor": "#2a3f5f",
           "arrowhead": 0,
           "arrowwidth": 1
          },
          "autotypenumbers": "strict",
          "coloraxis": {
           "colorbar": {
            "outlinewidth": 0,
            "ticks": ""
           }
          },
          "colorscale": {
           "diverging": [
            [
             0,
             "#8e0152"
            ],
            [
             0.1,
             "#c51b7d"
            ],
            [
             0.2,
             "#de77ae"
            ],
            [
             0.3,
             "#f1b6da"
            ],
            [
             0.4,
             "#fde0ef"
            ],
            [
             0.5,
             "#f7f7f7"
            ],
            [
             0.6,
             "#e6f5d0"
            ],
            [
             0.7,
             "#b8e186"
            ],
            [
             0.8,
             "#7fbc41"
            ],
            [
             0.9,
             "#4d9221"
            ],
            [
             1,
             "#276419"
            ]
           ],
           "sequential": [
            [
             0,
             "#0d0887"
            ],
            [
             0.1111111111111111,
             "#46039f"
            ],
            [
             0.2222222222222222,
             "#7201a8"
            ],
            [
             0.3333333333333333,
             "#9c179e"
            ],
            [
             0.4444444444444444,
             "#bd3786"
            ],
            [
             0.5555555555555556,
             "#d8576b"
            ],
            [
             0.6666666666666666,
             "#ed7953"
            ],
            [
             0.7777777777777778,
             "#fb9f3a"
            ],
            [
             0.8888888888888888,
             "#fdca26"
            ],
            [
             1,
             "#f0f921"
            ]
           ],
           "sequentialminus": [
            [
             0,
             "#0d0887"
            ],
            [
             0.1111111111111111,
             "#46039f"
            ],
            [
             0.2222222222222222,
             "#7201a8"
            ],
            [
             0.3333333333333333,
             "#9c179e"
            ],
            [
             0.4444444444444444,
             "#bd3786"
            ],
            [
             0.5555555555555556,
             "#d8576b"
            ],
            [
             0.6666666666666666,
             "#ed7953"
            ],
            [
             0.7777777777777778,
             "#fb9f3a"
            ],
            [
             0.8888888888888888,
             "#fdca26"
            ],
            [
             1,
             "#f0f921"
            ]
           ]
          },
          "colorway": [
           "#636efa",
           "#EF553B",
           "#00cc96",
           "#ab63fa",
           "#FFA15A",
           "#19d3f3",
           "#FF6692",
           "#B6E880",
           "#FF97FF",
           "#FECB52"
          ],
          "font": {
           "color": "#2a3f5f"
          },
          "geo": {
           "bgcolor": "white",
           "lakecolor": "white",
           "landcolor": "#E5ECF6",
           "showlakes": true,
           "showland": true,
           "subunitcolor": "white"
          },
          "hoverlabel": {
           "align": "left"
          },
          "hovermode": "closest",
          "mapbox": {
           "style": "light"
          },
          "paper_bgcolor": "white",
          "plot_bgcolor": "#E5ECF6",
          "polar": {
           "angularaxis": {
            "gridcolor": "white",
            "linecolor": "white",
            "ticks": ""
           },
           "bgcolor": "#E5ECF6",
           "radialaxis": {
            "gridcolor": "white",
            "linecolor": "white",
            "ticks": ""
           }
          },
          "scene": {
           "xaxis": {
            "backgroundcolor": "#E5ECF6",
            "gridcolor": "white",
            "gridwidth": 2,
            "linecolor": "white",
            "showbackground": true,
            "ticks": "",
            "zerolinecolor": "white"
           },
           "yaxis": {
            "backgroundcolor": "#E5ECF6",
            "gridcolor": "white",
            "gridwidth": 2,
            "linecolor": "white",
            "showbackground": true,
            "ticks": "",
            "zerolinecolor": "white"
           },
           "zaxis": {
            "backgroundcolor": "#E5ECF6",
            "gridcolor": "white",
            "gridwidth": 2,
            "linecolor": "white",
            "showbackground": true,
            "ticks": "",
            "zerolinecolor": "white"
           }
          },
          "shapedefaults": {
           "line": {
            "color": "#2a3f5f"
           }
          },
          "ternary": {
           "aaxis": {
            "gridcolor": "white",
            "linecolor": "white",
            "ticks": ""
           },
           "baxis": {
            "gridcolor": "white",
            "linecolor": "white",
            "ticks": ""
           },
           "bgcolor": "#E5ECF6",
           "caxis": {
            "gridcolor": "white",
            "linecolor": "white",
            "ticks": ""
           }
          },
          "title": {
           "x": 0.05
          },
          "xaxis": {
           "automargin": true,
           "gridcolor": "white",
           "linecolor": "white",
           "ticks": "",
           "title": {
            "standoff": 15
           },
           "zerolinecolor": "white",
           "zerolinewidth": 2
          },
          "yaxis": {
           "automargin": true,
           "gridcolor": "white",
           "linecolor": "white",
           "ticks": "",
           "title": {
            "standoff": 15
           },
           "zerolinecolor": "white",
           "zerolinewidth": 2
          }
         }
        }
       }
      }
     },
     "metadata": {},
     "output_type": "display_data"
    }
   ],
   "source": [
    "R = 20\n",
    "turns = 3\n",
    "interval = math.pi * 2 / 150 * turns\n",
    "\n",
    "pts = []\n",
    "for i in range(150):\n",
    "    t = interval * i\n",
    "    x = R * math.cos(t)\n",
    "    y = R * math.sin(t)\n",
    "    pts.append([x,y,i * 0.5])\n",
    "\n",
    "rendering3D(pts)"
   ]
  },
  {
   "cell_type": "code",
   "execution_count": 16,
   "metadata": {},
   "outputs": [
    {
     "data": {
      "application/vnd.plotly.v1+json": {
       "config": {
        "plotlyServerURL": "https://plot.ly"
       },
       "data": [
        {
         "line": {
          "color": "red",
          "width": 2
         },
         "marker": {
          "color": "blue",
          "size": 3
         },
         "mode": "markers",
         "name": "Vector",
         "showlegend": false,
         "type": "scatter3d",
         "x": [
          6.123233995736766e-16,
          1.5643446504023093,
          3.0901699437494745,
          4.539904997395468,
          5.877852522924732,
          7.0710678118654755,
          8.090169943749475,
          8.910065241883679,
          9.510565162951535,
          9.876883405951379,
          10,
          9.876883405951379,
          9.510565162951535,
          8.910065241883679,
          8.090169943749475,
          7.0710678118654755,
          5.877852522924732,
          4.539904997395468,
          3.0901699437494745,
          1.5643446504023093,
          6.123233995736766e-16,
          -1.5643446504023082,
          -3.0901699437494736,
          -4.5399049973954675,
          -5.87785252292473,
          -7.071067811865475,
          -8.090169943749473,
          -8.910065241883679,
          -9.510565162951535,
          -9.876883405951377,
          -10,
          -9.876883405951379,
          -9.510565162951536,
          -8.910065241883679,
          -8.090169943749475,
          -7.071067811865477,
          -5.877852522924733,
          -4.539904997395469,
          -3.0901699437494754,
          -1.5643446504023104,
          -1.8369701987210296e-15,
          1.5643446504023069,
          3.0901699437494723,
          4.539904997395467,
          5.877852522924729,
          7.071067811865474,
          8.090169943749473,
          8.910065241883679,
          9.510565162951535,
          9.876883405951377,
          10,
          9.876883405951379,
          9.510565162951536,
          8.910065241883675,
          8.090169943749476,
          7.0710678118654835,
          5.877852522924734,
          4.539904997395462,
          3.090169943749477,
          1.5643446504023204,
          3.061616997868383e-15,
          -1.5643446504023144,
          -3.090169943749471,
          -4.539904997395457,
          -5.877852522924729,
          -7.071067811865479,
          -8.090169943749473,
          -8.910065241883673,
          -9.510565162951535,
          -9.876883405951379,
          -10,
          -9.876883405951379,
          -9.510565162951536,
          -8.910065241883677,
          -8.090169943749476,
          5.823541592445461e-16,
          1.4877801734965799,
          2.9389262614623655,
          4.317706231133892,
          5.590169943749474,
          6.724985119639573,
          7.694208842938133,
          8.473975608908425,
          9.045084971874736,
          9.393474323917527,
          9.510565162951535,
          9.393474323917527,
          9.045084971874736,
          8.473975608908425,
          7.694208842938133,
          6.724985119639573,
          5.590169943749474,
          4.317706231133892,
          2.9389262614623655,
          1.4877801734965799,
          5.823541592445461e-16,
          -1.487780173496579,
          -2.9389262614623646,
          -4.317706231133891,
          -5.590169943749473,
          -6.724985119639572,
          -7.6942088429381315,
          -8.473975608908425,
          -9.045084971874736,
          -9.393474323917527,
          -9.510565162951535,
          -9.393474323917527,
          -9.045084971874736,
          -8.473975608908425,
          -7.694208842938133,
          -6.724985119639574,
          -5.5901699437494745,
          -4.317706231133894,
          -2.938926261462367,
          -1.487780173496581,
          -1.7470624777336383e-15,
          1.4877801734965777,
          2.9389262614623632,
          4.31770623113389,
          5.590169943749472,
          6.7249851196395705,
          7.6942088429381315,
          8.473975608908425,
          9.045084971874736,
          9.393474323917527,
          9.510565162951535,
          9.393474323917529,
          9.045084971874736,
          8.473975608908422,
          7.694208842938134,
          6.72498511963958,
          5.590169943749475,
          4.3177062311338865,
          2.938926261462368,
          1.4877801734965905,
          2.9117707962227307e-15,
          -1.487780173496585,
          -2.9389262614623624,
          -4.317706231133881,
          -5.590169943749472,
          -6.724985119639576,
          -7.694208842938131,
          -8.47397560890842,
          -9.045084971874735,
          -9.393474323917527,
          -9.510565162951535,
          -9.393474323917529,
          -9.045084971874736,
          -8.473975608908423,
          -7.694208842938135,
          4.953800363085459e-16,
          1.2655814072350042,
          2.5000000000000004,
          3.6728602957406857,
          4.755282581475768,
          5.720614028176843,
          6.545084971874737,
          7.208394201673423,
          7.694208842938133,
          7.990566526874577,
          8.090169943749475,
          7.990566526874577,
          7.694208842938133,
          7.208394201673423,
          6.545084971874737,
          5.720614028176843,
          4.755282581475768,
          3.6728602957406857,
          2.5000000000000004,
          1.2655814072350042,
          4.953800363085459e-16,
          -1.2655814072350033,
          -2.4999999999999996,
          -3.672860295740685,
          -4.755282581475767,
          -5.7206140281768425,
          -6.545084971874736,
          -7.208394201673422,
          -7.694208842938133,
          -7.990566526874576,
          -8.090169943749475,
          -7.990566526874577,
          -7.694208842938134,
          -7.208394201673423,
          -6.545084971874737,
          -5.720614028176844,
          -4.755282581475769,
          -3.6728602957406866,
          -2.5000000000000013,
          -1.2655814072350051,
          -1.4861401089256374e-15,
          1.2655814072350022,
          2.4999999999999987,
          3.672860295740684,
          4.755282581475766,
          5.720614028176842,
          6.545084971874736,
          7.208394201673422,
          7.694208842938133,
          7.990566526874576,
          8.090169943749475,
          7.990566526874578,
          7.694208842938134,
          7.20839420167342,
          6.545084971874738,
          5.72061402817685,
          4.75528258147577,
          3.672860295740681,
          2.5000000000000027,
          1.2655814072350131,
          2.476900181542729e-15,
          -1.2655814072350084,
          -2.499999999999998,
          -3.6728602957406764,
          -4.755282581475766,
          -5.720614028176846,
          -6.5450849718747355,
          -7.208394201673419,
          -7.694208842938132,
          -7.990566526874577,
          -8.090169943749475,
          -7.990566526874578,
          -7.694208842938134,
          -7.208394201673421,
          -6.545084971874739,
          3.5991466390299835e-16,
          0.9194987150091021,
          1.8163563200134025,
          2.668489204277955,
          3.454915028125263,
          4.156269377774535,
          4.755282581475768,
          5.237204946142994,
          5.5901699437494745,
          5.805486404630472,
          5.877852522924732,
          5.805486404630472,
          5.5901699437494745,
          5.237204946142994,
          4.755282581475768,
          4.156269377774535,
          3.454915028125263,
          2.668489204277955,
          1.8163563200134025,
          0.9194987150091021,
          3.5991466390299835e-16,
          -0.9194987150091014,
          -1.8163563200134019,
          -2.6684892042779547,
          -3.4549150281252627,
          -4.156269377774534,
          -4.755282581475768,
          -5.2372049461429935,
          -5.5901699437494745,
          -5.8054864046304715,
          -5.877852522924732,
          -5.805486404630472,
          -5.590169943749475,
          -5.237204946142994,
          -4.755282581475768,
          -4.156269377774535,
          -3.454915028125264,
          -2.668489204277956,
          -1.8163563200134032,
          -0.9194987150091027,
          -1.0797439917089951e-15,
          0.9194987150091006,
          1.8163563200134012,
          2.668489204277954,
          3.454915028125262,
          4.156269377774533,
          4.755282581475768,
          5.2372049461429935,
          5.5901699437494745,
          5.8054864046304715,
          5.877852522924732,
          5.805486404630473,
          5.590169943749475,
          5.237204946142993,
          4.755282581475769,
          4.15626937777454,
          3.4549150281252645,
          2.6684892042779516,
          1.816356320013404,
          0.9194987150091086,
          1.7995733195149917e-15,
          -0.9194987150091052,
          -1.8163563200134005,
          -2.6684892042779484,
          -3.454915028125262,
          -4.156269377774537,
          -4.755282581475767,
          -5.237204946142991,
          -5.590169943749474,
          -5.805486404630472,
          -5.877852522924732,
          -5.805486404630473,
          -5.590169943749475,
          -5.237204946142993,
          -4.75528258147577,
          1.8921833652170753e-16,
          0.4834090820338495,
          0.9549150281252631,
          1.4029077970429513,
          1.8163563200134023,
          2.1850801222441056,
          2.5000000000000004,
          2.7533615807315837,
          2.938926261462366,
          3.0521248238988887,
          3.0901699437494745,
          3.0521248238988887,
          2.938926261462366,
          2.7533615807315837,
          2.5000000000000004,
          2.1850801222441056,
          1.8163563200134023,
          1.4029077970429513,
          0.9549150281252631,
          0.4834090820338495,
          1.8921833652170753e-16,
          -0.4834090820338492,
          -0.9549150281252627,
          -1.402907797042951,
          -1.816356320013402,
          -2.185080122244105,
          -2.5,
          -2.753361580731583,
          -2.938926261462366,
          -3.0521248238988883,
          -3.0901699437494745,
          -3.0521248238988887,
          -2.938926261462366,
          -2.7533615807315837,
          -2.5000000000000004,
          -2.185080122244106,
          -1.8163563200134027,
          -1.4029077970429518,
          -0.9549150281252634,
          -0.48340908203384986,
          -5.676550095651225e-16,
          0.48340908203384875,
          0.9549150281252624,
          1.4029077970429507,
          1.8163563200134016,
          2.185080122244105,
          2.5,
          2.753361580731583,
          2.938926261462366,
          3.0521248238988883,
          3.0901699437494745,
          3.052124823898889,
          2.938926261462366,
          2.7533615807315828,
          2.5000000000000004,
          2.1850801222441083,
          1.8163563200134032,
          1.4029077970429495,
          0.9549150281252639,
          0.48340908203385297,
          9.460916826085376e-16,
          -0.4834090820338512,
          -0.954915028125262,
          -1.4029077970429478,
          -1.8163563200134016,
          -2.1850801222441065,
          -2.4999999999999996,
          -2.753361580731582,
          -2.9389262614623655,
          -3.0521248238988887,
          -3.0901699437494745,
          -3.052124823898889,
          -2.938926261462366,
          -2.7533615807315828,
          -2.500000000000001,
          3.7493994566546446e-32,
          9.578848344392367e-17,
          1.8921833652170753e-16,
          2.779890061746717e-16,
          3.5991466390299835e-16,
          4.329780281177467e-16,
          4.953800363085459e-16,
          5.455841439333468e-16,
          5.823541592445462e-16,
          6.047846824324981e-16,
          6.123233995736766e-16,
          6.047846824324981e-16,
          5.823541592445462e-16,
          5.455841439333468e-16,
          4.953800363085459e-16,
          4.329780281177467e-16,
          3.5991466390299835e-16,
          2.779890061746717e-16,
          1.8921833652170753e-16,
          9.578848344392367e-17,
          3.7493994566546446e-32,
          -9.57884834439236e-17,
          -1.8921833652170746e-16,
          -2.779890061746716e-16,
          -3.599146639029983e-16,
          -4.329780281177466e-16,
          -4.953800363085458e-16,
          -5.455841439333467e-16,
          -5.823541592445462e-16,
          -6.04784682432498e-16,
          -6.123233995736766e-16,
          -6.047846824324981e-16,
          -5.823541592445463e-16,
          -5.455841439333468e-16,
          -4.953800363085459e-16,
          -4.3297802811774677e-16,
          -3.599146639029984e-16,
          -2.7798900617467176e-16,
          -1.892183365217076e-16,
          -9.578848344392373e-17,
          -1.1248198369963933e-31,
          9.578848344392351e-17,
          1.8921833652170739e-16,
          2.7798900617467156e-16,
          3.599146639029982e-16,
          4.3297802811774657e-16,
          4.953800363085458e-16,
          5.455841439333467e-16,
          5.823541592445462e-16,
          6.04784682432498e-16,
          6.123233995736766e-16,
          6.047846824324982e-16,
          5.823541592445463e-16,
          5.455841439333466e-16,
          4.953800363085459e-16,
          4.3297802811774716e-16,
          3.599146639029985e-16,
          2.779890061746713e-16,
          1.892183365217077e-16,
          9.578848344392435e-17,
          1.8746997283273223e-31,
          -9.578848344392399e-17,
          -1.8921833652170734e-16,
          -2.7798900617467097e-16,
          -3.599146639029982e-16,
          -4.329780281177469e-16,
          -4.953800363085457e-16,
          -5.455841439333464e-16,
          -5.823541592445461e-16,
          -6.047846824324981e-16,
          -6.123233995736766e-16,
          -6.047846824324982e-16,
          -5.823541592445463e-16,
          -5.455841439333466e-16,
          -4.95380036308546e-16,
          -1.8921833652170746e-16,
          -0.4834090820338494,
          -0.9549150281252627,
          -1.4029077970429509,
          -1.8163563200134019,
          -2.185080122244105,
          -2.4999999999999996,
          -2.7533615807315828,
          -2.938926261462365,
          -3.052124823898888,
          -3.0901699437494736,
          -3.052124823898888,
          -2.938926261462365,
          -2.7533615807315828,
          -2.4999999999999996,
          -2.185080122244105,
          -1.8163563200134019,
          -1.4029077970429509,
          -0.9549150281252627,
          -0.4834090820338494,
          -1.8921833652170746e-16,
          0.483409082033849,
          0.9549150281252624,
          1.4029077970429507,
          1.8163563200134016,
          2.1850801222441047,
          2.499999999999999,
          2.7533615807315823,
          2.938926261462365,
          3.0521248238988874,
          3.0901699437494736,
          3.052124823898888,
          2.9389262614623655,
          2.7533615807315828,
          2.4999999999999996,
          2.185080122244105,
          1.8163563200134023,
          1.4029077970429513,
          0.9549150281252631,
          0.48340908203384975,
          5.676550095651223e-16,
          -0.48340908203384864,
          -0.9549150281252621,
          -1.4029077970429502,
          -1.8163563200134012,
          -2.1850801222441043,
          -2.499999999999999,
          -2.7533615807315823,
          -2.938926261462365,
          -3.0521248238988874,
          -3.0901699437494736,
          -3.0521248238988883,
          -2.9389262614623655,
          -2.753361580731582,
          -2.5,
          -2.1850801222441074,
          -1.8163563200134025,
          -1.402907797042949,
          -0.9549150281252636,
          -0.4834090820338528,
          -9.460916826085374e-16,
          0.483409082033851,
          0.9549150281252617,
          1.4029077970429473,
          1.8163563200134012,
          2.185080122244106,
          2.499999999999999,
          2.753361580731581,
          2.9389262614623646,
          3.052124823898888,
          3.0901699437494736,
          3.0521248238988883,
          2.9389262614623655,
          2.7533615807315823,
          2.5000000000000004,
          -3.5991466390299825e-16,
          -0.9194987150091019,
          -1.816356320013402,
          -2.6684892042779547,
          -3.4549150281252623,
          -4.156269377774533,
          -4.755282581475767,
          -5.237204946142993,
          -5.590169943749473,
          -5.805486404630471,
          -5.87785252292473,
          -5.805486404630471,
          -5.590169943749473,
          -5.237204946142993,
          -4.755282581475767,
          -4.156269377774533,
          -3.4549150281252623,
          -2.6684892042779547,
          -1.816356320013402,
          -0.9194987150091019,
          -3.5991466390299825e-16,
          0.9194987150091012,
          1.8163563200134014,
          2.6684892042779538,
          3.4549150281252614,
          4.156269377774533,
          4.755282581475766,
          5.237204946142992,
          5.590169943749473,
          5.80548640463047,
          5.87785252292473,
          5.805486404630471,
          5.590169943749474,
          5.237204946142993,
          4.755282581475767,
          4.156269377774534,
          3.4549150281252627,
          2.668489204277955,
          1.8163563200134027,
          0.9194987150091025,
          1.0797439917089947e-15,
          -0.9194987150091003,
          -1.8163563200134007,
          -2.6684892042779533,
          -3.454915028125261,
          -4.1562693777745325,
          -4.755282581475766,
          -5.237204946142992,
          -5.590169943749473,
          -5.80548640463047,
          -5.87785252292473,
          -5.8054864046304715,
          -5.590169943749474,
          -5.237204946142991,
          -4.755282581475767,
          -4.156269377774538,
          -3.4549150281252636,
          -2.668489204277951,
          -1.8163563200134036,
          -0.9194987150091083,
          -1.7995733195149913e-15,
          0.919498715009105,
          1.8163563200134,
          2.6684892042779476,
          3.454915028125261,
          4.156269377774535,
          4.7552825814757655,
          5.23720494614299,
          5.590169943749472,
          5.805486404630471,
          5.87785252292473,
          5.8054864046304715,
          5.590169943749474,
          5.237204946142992,
          4.755282581475768,
          -4.953800363085457e-16,
          -1.2655814072350038,
          -2.4999999999999996,
          -3.672860295740685,
          -4.755282581475767,
          -5.7206140281768425,
          -6.545084971874736,
          -7.208394201673421,
          -7.6942088429381315,
          -7.990566526874576,
          -8.090169943749473,
          -7.990566526874576,
          -7.6942088429381315,
          -7.208394201673421,
          -6.545084971874736,
          -5.7206140281768425,
          -4.755282581475767,
          -3.672860295740685,
          -2.4999999999999996,
          -1.2655814072350038,
          -4.953800363085457e-16,
          1.265581407235003,
          2.4999999999999987,
          3.672860295740684,
          4.755282581475766,
          5.720614028176842,
          6.5450849718747355,
          7.20839420167342,
          7.6942088429381315,
          7.9905665268745745,
          8.090169943749473,
          7.990566526874576,
          7.694208842938132,
          7.208394201673421,
          6.545084971874736,
          5.720614028176843,
          4.755282581475768,
          3.6728602957406857,
          2.5000000000000004,
          1.2655814072350047,
          1.486140108925637e-15,
          -1.2655814072350018,
          -2.499999999999998,
          -3.672860295740683,
          -4.7552825814757655,
          -5.720614028176841,
          -6.5450849718747355,
          -7.20839420167342,
          -7.6942088429381315,
          -7.9905665268745745,
          -8.090169943749473,
          -7.990566526874577,
          -7.694208842938132,
          -7.208394201673419,
          -6.545084971874737,
          -5.720614028176849,
          -4.755282581475769,
          -3.67286029574068,
          -2.500000000000002,
          -1.265581407235013,
          -2.4769001815427288e-15,
          1.2655814072350082,
          2.499999999999997,
          3.6728602957406755,
          4.7552825814757655,
          5.720614028176845,
          6.545084971874735,
          7.208394201673417,
          7.694208842938131,
          7.990566526874576,
          8.090169943749473,
          7.990566526874577,
          7.694208842938132,
          7.2083942016734195,
          6.545084971874738,
          -5.823541592445461e-16,
          -1.4877801734965799,
          -2.9389262614623655,
          -4.317706231133892,
          -5.590169943749474,
          -6.724985119639573,
          -7.694208842938133,
          -8.473975608908425,
          -9.045084971874736,
          -9.393474323917527,
          -9.510565162951535,
          -9.393474323917527,
          -9.045084971874736,
          -8.473975608908425,
          -7.694208842938133,
          -6.724985119639573,
          -5.590169943749474,
          -4.317706231133892,
          -2.9389262614623655,
          -1.4877801734965799,
          -5.823541592445461e-16,
          1.487780173496579,
          2.9389262614623646,
          4.317706231133891,
          5.590169943749473,
          6.724985119639572,
          7.6942088429381315,
          8.473975608908425,
          9.045084971874736,
          9.393474323917527,
          9.510565162951535,
          9.393474323917527,
          9.045084971874736,
          8.473975608908425,
          7.694208842938133,
          6.724985119639574,
          5.5901699437494745,
          4.317706231133894,
          2.938926261462367,
          1.487780173496581,
          1.7470624777336383e-15,
          -1.4877801734965777,
          -2.9389262614623632,
          -4.31770623113389,
          -5.590169943749472,
          -6.7249851196395705,
          -7.6942088429381315,
          -8.473975608908425,
          -9.045084971874736,
          -9.393474323917527,
          -9.510565162951535,
          -9.393474323917529,
          -9.045084971874736,
          -8.473975608908422,
          -7.694208842938134,
          -6.72498511963958,
          -5.590169943749475,
          -4.3177062311338865,
          -2.938926261462368,
          -1.4877801734965905,
          -2.9117707962227307e-15,
          1.487780173496585,
          2.9389262614623624,
          4.317706231133881,
          5.590169943749472,
          6.724985119639576,
          7.694208842938131,
          8.47397560890842,
          9.045084971874735,
          9.393474323917527,
          9.510565162951535,
          9.393474323917529,
          9.045084971874736,
          8.473975608908423,
          7.694208842938135,
          -6.123233995736766e-16,
          -1.5643446504023093,
          -3.0901699437494745,
          -4.539904997395468,
          -5.877852522924732,
          -7.0710678118654755,
          -8.090169943749475,
          -8.910065241883679,
          -9.510565162951535,
          -9.876883405951379,
          -10,
          -9.876883405951379,
          -9.510565162951535,
          -8.910065241883679,
          -8.090169943749475,
          -7.0710678118654755,
          -5.877852522924732,
          -4.539904997395468,
          -3.0901699437494745,
          -1.5643446504023093,
          -6.123233995736766e-16,
          1.5643446504023082,
          3.0901699437494736,
          4.5399049973954675,
          5.87785252292473,
          7.071067811865475,
          8.090169943749473,
          8.910065241883679,
          9.510565162951535,
          9.876883405951377,
          10,
          9.876883405951379,
          9.510565162951536,
          8.910065241883679,
          8.090169943749475,
          7.071067811865477,
          5.877852522924733,
          4.539904997395469,
          3.0901699437494754,
          1.5643446504023104,
          1.8369701987210296e-15,
          -1.5643446504023069,
          -3.0901699437494723,
          -4.539904997395467,
          -5.877852522924729,
          -7.071067811865474,
          -8.090169943749473,
          -8.910065241883679,
          -9.510565162951535,
          -9.876883405951377,
          -10,
          -9.876883405951379,
          -9.510565162951536,
          -8.910065241883675,
          -8.090169943749476,
          -7.0710678118654835,
          -5.877852522924734,
          -4.539904997395462,
          -3.090169943749477,
          -1.5643446504023204,
          -3.061616997868383e-15,
          1.5643446504023144,
          3.090169943749471,
          4.539904997395457,
          5.877852522924729,
          7.071067811865479,
          8.090169943749473,
          8.910065241883673,
          9.510565162951535,
          9.876883405951379,
          10,
          9.876883405951379,
          9.510565162951536,
          8.910065241883677,
          8.090169943749476,
          -5.823541592445462e-16,
          -1.4877801734965803,
          -2.938926261462366,
          -4.317706231133893,
          -5.5901699437494745,
          -6.724985119639574,
          -7.694208842938134,
          -8.473975608908427,
          -9.045084971874738,
          -9.393474323917529,
          -9.510565162951536,
          -9.393474323917529,
          -9.045084971874738,
          -8.473975608908427,
          -7.694208842938134,
          -6.724985119639574,
          -5.5901699437494745,
          -4.317706231133893,
          -2.938926261462366,
          -1.4877801734965803,
          -5.823541592445462e-16,
          1.4877801734965792,
          2.938926261462365,
          4.317706231133892,
          5.590169943749474,
          6.724985119639573,
          7.694208842938133,
          8.473975608908427,
          9.045084971874738,
          9.393474323917529,
          9.510565162951536,
          9.393474323917529,
          9.045084971874738,
          8.473975608908427,
          7.694208842938134,
          6.724985119639575,
          5.590169943749475,
          4.317706231133894,
          2.9389262614623672,
          1.4877801734965812,
          1.7470624777336387e-15,
          -1.4877801734965779,
          -2.938926261462364,
          -4.317706231133891,
          -5.590169943749473,
          -6.724985119639572,
          -7.694208842938133,
          -8.473975608908427,
          -9.045084971874738,
          -9.393474323917529,
          -9.510565162951536,
          -9.39347432391753,
          -9.045084971874738,
          -8.473975608908423,
          -7.694208842938135,
          -6.724985119639582,
          -5.590169943749477,
          -4.317706231133887,
          -2.9389262614623686,
          -1.4877801734965908,
          -2.9117707962227315e-15,
          1.4877801734965852,
          2.938926261462363,
          4.317706231133882,
          5.590169943749473,
          6.724985119639578,
          7.694208842938132,
          8.473975608908422,
          9.045084971874736,
          9.393474323917529,
          9.510565162951536,
          9.39347432391753,
          9.045084971874738,
          8.473975608908425,
          7.694208842938137,
          -4.953800363085459e-16,
          -1.2655814072350042,
          -2.5000000000000004,
          -3.6728602957406857,
          -4.755282581475768,
          -5.720614028176843,
          -6.545084971874737,
          -7.208394201673423,
          -7.694208842938133,
          -7.990566526874577,
          -8.090169943749475,
          -7.990566526874577,
          -7.694208842938133,
          -7.208394201673423,
          -6.545084971874737,
          -5.720614028176843,
          -4.755282581475768,
          -3.6728602957406857,
          -2.5000000000000004,
          -1.2655814072350042,
          -4.953800363085459e-16,
          1.2655814072350033,
          2.4999999999999996,
          3.672860295740685,
          4.755282581475767,
          5.7206140281768425,
          6.545084971874736,
          7.208394201673422,
          7.694208842938133,
          7.990566526874576,
          8.090169943749475,
          7.990566526874577,
          7.694208842938134,
          7.208394201673423,
          6.545084971874737,
          5.720614028176844,
          4.755282581475769,
          3.6728602957406866,
          2.5000000000000013,
          1.2655814072350051,
          1.4861401089256374e-15,
          -1.2655814072350022,
          -2.4999999999999987,
          -3.672860295740684,
          -4.755282581475766,
          -5.720614028176842,
          -6.545084971874736,
          -7.208394201673422,
          -7.694208842938133,
          -7.990566526874576,
          -8.090169943749475,
          -7.990566526874578,
          -7.694208842938134,
          -7.20839420167342,
          -6.545084971874738,
          -5.72061402817685,
          -4.75528258147577,
          -3.672860295740681,
          -2.5000000000000027,
          -1.2655814072350131,
          -2.476900181542729e-15,
          1.2655814072350084,
          2.499999999999998,
          3.6728602957406764,
          4.755282581475766,
          5.720614028176846,
          6.5450849718747355,
          7.208394201673419,
          7.694208842938132,
          7.990566526874577,
          8.090169943749475,
          7.990566526874578,
          7.694208842938134,
          7.208394201673421,
          6.545084971874739,
          -3.599146639029984e-16,
          -0.9194987150091022,
          -1.8163563200134027,
          -2.6684892042779556,
          -3.4549150281252636,
          -4.156269377774535,
          -4.755282581475769,
          -5.237204946142995,
          -5.590169943749475,
          -5.805486404630473,
          -5.877852522924733,
          -5.805486404630473,
          -5.590169943749475,
          -5.237204946142995,
          -4.755282581475769,
          -4.156269377774535,
          -3.4549150281252636,
          -2.6684892042779556,
          -1.8163563200134027,
          -0.9194987150091022,
          -3.599146639029984e-16,
          0.9194987150091016,
          1.816356320013402,
          2.668489204277955,
          3.454915028125263,
          4.156269377774535,
          4.755282581475768,
          5.237204946142994,
          5.590169943749475,
          5.805486404630472,
          5.877852522924733,
          5.805486404630473,
          5.590169943749476,
          5.237204946142995,
          4.755282581475769,
          4.156269377774536,
          3.4549150281252645,
          2.6684892042779564,
          1.8163563200134034,
          0.9194987150091029,
          1.0797439917089951e-15,
          -0.9194987150091007,
          -1.8163563200134014,
          -2.668489204277954,
          -3.4549150281252623,
          -4.156269377774534,
          -4.755282581475768,
          -5.237204946142994,
          -5.590169943749475,
          -5.805486404630472,
          -5.877852522924733,
          -5.805486404630474,
          -5.590169943749476,
          -5.2372049461429935,
          -4.75528258147577,
          -4.1562693777745405,
          -3.454915028125265,
          -2.668489204277952,
          -1.8163563200134045,
          -0.9194987150091087,
          -1.799573319514992e-15,
          0.9194987150091053,
          1.8163563200134007,
          2.668489204277949,
          3.4549150281252623,
          4.156269377774538,
          4.755282581475768,
          5.237204946142992,
          5.5901699437494745,
          5.805486404630473,
          5.877852522924733,
          5.805486404630474,
          5.590169943749476,
          5.2372049461429935,
          4.755282581475771,
          -1.8921833652170758e-16,
          -0.4834090820338497,
          -0.9549150281252633,
          -1.4029077970429518,
          -1.816356320013403,
          -2.1850801222441065,
          -2.500000000000001,
          -2.7533615807315845,
          -2.938926261462367,
          -3.0521248238988896,
          -3.0901699437494754,
          -3.0521248238988896,
          -2.938926261462367,
          -2.7533615807315845,
          -2.500000000000001,
          -2.1850801222441065,
          -1.816356320013403,
          -1.4029077970429518,
          -0.9549150281252633,
          -0.4834090820338497,
          -1.8921833652170758e-16,
          0.4834090820338493,
          0.954915028125263,
          1.4029077970429513,
          1.8163563200134025,
          2.185080122244106,
          2.500000000000001,
          2.753361580731584,
          2.938926261462367,
          3.052124823898889,
          3.0901699437494754,
          3.0521248238988896,
          2.938926261462367,
          2.7533615807315845,
          2.500000000000001,
          2.1850801222441065,
          1.8163563200134032,
          1.402907797042952,
          0.9549150281252636,
          0.48340908203385,
          5.676550095651227e-16,
          -0.4834090820338489,
          -0.9549150281252626,
          -1.402907797042951,
          -1.8163563200134023,
          -2.1850801222441056,
          -2.500000000000001,
          -2.753361580731584,
          -2.938926261462367,
          -3.052124823898889,
          -3.0901699437494754,
          -3.05212482389889,
          -2.938926261462367,
          -2.753361580731583,
          -2.5000000000000013,
          -2.1850801222441087,
          -1.8163563200134036,
          -1.4029077970429498,
          -0.9549150281252642,
          -0.4834090820338531,
          -9.460916826085378e-16,
          0.4834090820338513,
          0.9549150281252623,
          1.4029077970429482,
          1.8163563200134023,
          2.1850801222441074,
          2.5000000000000004,
          2.7533615807315828,
          2.9389262614623664,
          3.0521248238988896,
          3.0901699437494754,
          3.05212482389889,
          2.938926261462367,
          2.7533615807315837,
          2.5000000000000018,
          -1.124819836996393e-31,
          -2.8736545033177094e-16,
          -5.676550095651225e-16,
          -8.339670185240149e-16,
          -1.079743991708995e-15,
          -1.2989340843532398e-15,
          -1.4861401089256372e-15,
          -1.63675243180004e-15,
          -1.7470624777336383e-15,
          -1.8143540472974943e-15,
          -1.8369701987210296e-15,
          -1.8143540472974943e-15,
          -1.7470624777336383e-15,
          -1.63675243180004e-15,
          -1.4861401089256372e-15,
          -1.2989340843532398e-15,
          -1.079743991708995e-15,
          -8.339670185240149e-16,
          -5.676550095651225e-16,
          -2.8736545033177094e-16,
          -1.124819836996393e-31,
          2.8736545033177074e-16,
          5.676550095651223e-16,
          8.339670185240147e-16,
          1.0797439917089947e-15,
          1.2989340843532396e-15,
          1.486140108925637e-15,
          1.6367524318000398e-15,
          1.7470624777336383e-15,
          1.814354047297494e-15,
          1.8369701987210296e-15,
          1.8143540472974943e-15,
          1.7470624777336385e-15,
          1.63675243180004e-15,
          1.4861401089256372e-15,
          1.29893408435324e-15,
          1.0797439917089951e-15,
          8.339670185240152e-16,
          5.676550095651227e-16,
          2.873654503317712e-16,
          3.374459510989179e-31,
          -2.873654503317705e-16,
          -5.676550095651221e-16,
          -8.339670185240145e-16,
          -1.0797439917089945e-15,
          -1.2989340843532394e-15,
          -1.486140108925637e-15,
          -1.6367524318000398e-15,
          -1.7470624777336383e-15,
          -1.814354047297494e-15,
          -1.8369701987210296e-15,
          -1.8143540472974943e-15,
          -1.7470624777336385e-15,
          -1.6367524318000394e-15,
          -1.4861401089256374e-15,
          -1.2989340843532414e-15,
          -1.0797439917089953e-15,
          -8.339670185240138e-16,
          -5.67655009565123e-16,
          -2.87365450331773e-16,
          -5.624099184981966e-31,
          2.8736545033177193e-16,
          5.676550095651219e-16,
          8.339670185240128e-16,
          1.0797439917089945e-15,
          1.2989340843532404e-15,
          1.4861401089256368e-15,
          1.636752431800039e-15,
          1.7470624777336381e-15,
          1.8143540472974943e-15,
          1.8369701987210296e-15,
          1.8143540472974943e-15,
          1.7470624777336385e-15,
          1.6367524318000396e-15,
          1.4861401089256376e-15,
          1.8921833652170739e-16,
          0.4834090820338492,
          0.9549150281252624,
          1.4029077970429504,
          1.8163563200134012,
          2.1850801222441043,
          2.4999999999999987,
          2.7533615807315814,
          2.9389262614623637,
          3.0521248238988865,
          3.0901699437494723,
          3.0521248238988865,
          2.9389262614623637,
          2.7533615807315814,
          2.4999999999999987,
          2.1850801222441043,
          1.8163563200134012,
          1.4029077970429504,
          0.9549150281252624,
          0.4834090820338492,
          1.8921833652170739e-16,
          -0.48340908203384886,
          -0.954915028125262,
          -1.40290779704295,
          -1.8163563200134007,
          -2.185080122244104,
          -2.4999999999999982,
          -2.7533615807315814,
          -2.9389262614623637,
          -3.052124823898886,
          -3.0901699437494723,
          -3.0521248238988865,
          -2.938926261462364,
          -2.7533615807315814,
          -2.4999999999999987,
          -2.1850801222441043,
          -1.8163563200134014,
          -1.4029077970429507,
          -0.9549150281252627,
          -0.4834090820338495,
          -5.676550095651221e-16,
          0.4834090820338484,
          0.9549150281252616,
          1.4029077970429495,
          1.8163563200134003,
          2.1850801222441034,
          2.4999999999999982,
          2.7533615807315814,
          2.9389262614623637,
          3.052124823898886,
          3.0901699437494723,
          3.052124823898887,
          2.938926261462364,
          2.7533615807315805,
          2.4999999999999987,
          2.1850801222441065,
          1.8163563200134019,
          1.4029077970429484,
          0.9549150281252632,
          0.48340908203385263,
          9.46091682608537e-16,
          -0.4834090820338508,
          -0.9549150281252613,
          -1.4029077970429467,
          -1.8163563200134003,
          -2.185080122244105,
          -2.499999999999998,
          -2.75336158073158,
          -2.9389262614623632,
          -3.0521248238988865,
          -3.0901699437494723,
          -3.052124823898887,
          -2.938926261462364,
          -2.753361580731581,
          -2.499999999999999,
          3.599146639029982e-16,
          0.9194987150091016,
          1.8163563200134016,
          2.668489204277954,
          3.454915028125262,
          4.156269377774533,
          4.755282581475766,
          5.237204946142992,
          5.590169943749472,
          5.80548640463047,
          5.877852522924729,
          5.80548640463047,
          5.590169943749472,
          5.237204946142992,
          4.755282581475766,
          4.156269377774533,
          3.454915028125262,
          2.668489204277954,
          1.8163563200134016,
          0.9194987150091016,
          3.599146639029982e-16,
          -0.9194987150091011,
          -1.816356320013401,
          -2.6684892042779533,
          -3.454915028125261,
          -4.1562693777745325,
          -4.7552825814757655,
          -5.237204946142992,
          -5.590169943749472,
          -5.805486404630469,
          -5.877852522924729,
          -5.80548640463047,
          -5.590169943749473,
          -5.237204946142992,
          -4.755282581475766,
          -4.156269377774533,
          -3.4549150281252623,
          -2.6684892042779547,
          -1.8163563200134023,
          -0.9194987150091023,
          -1.0797439917089945e-15,
          0.9194987150091002,
          1.8163563200134003,
          2.668489204277953,
          3.4549150281252605,
          4.156269377774532,
          4.7552825814757655,
          5.237204946142992,
          5.590169943749472,
          5.805486404630469,
          5.877852522924729,
          5.805486404630471,
          5.590169943749473,
          5.23720494614299,
          4.755282581475767,
          4.156269377774538,
          3.454915028125263,
          2.6684892042779507,
          1.8163563200134034,
          0.9194987150091082,
          1.799573319514991e-15,
          -0.9194987150091047,
          -1.8163563200133999,
          -2.668489204277947,
          -3.4549150281252605,
          -4.156269377774535,
          -4.755282581475765,
          -5.237204946142989,
          -5.590169943749471,
          -5.80548640463047,
          -5.877852522924729,
          -5.805486404630471,
          -5.590169943749473,
          -5.237204946142991,
          -4.755282581475767,
          4.953800363085457e-16,
          1.2655814072350038,
          2.4999999999999996,
          3.672860295740685,
          4.755282581475767,
          5.7206140281768425,
          6.545084971874736,
          7.208394201673421,
          7.6942088429381315,
          7.990566526874576,
          8.090169943749473,
          7.990566526874576,
          7.6942088429381315,
          7.208394201673421,
          6.545084971874736,
          5.7206140281768425,
          4.755282581475767,
          3.672860295740685,
          2.4999999999999996,
          1.2655814072350038,
          4.953800363085457e-16,
          -1.265581407235003,
          -2.4999999999999987,
          -3.672860295740684,
          -4.755282581475766,
          -5.720614028176842,
          -6.5450849718747355,
          -7.20839420167342,
          -7.6942088429381315,
          -7.9905665268745745,
          -8.090169943749473,
          -7.990566526874576,
          -7.694208842938132,
          -7.208394201673421,
          -6.545084971874736,
          -5.720614028176843,
          -4.755282581475768,
          -3.6728602957406857,
          -2.5000000000000004,
          -1.2655814072350047,
          -1.486140108925637e-15,
          1.2655814072350018,
          2.499999999999998,
          3.672860295740683,
          4.7552825814757655,
          5.720614028176841,
          6.5450849718747355,
          7.20839420167342,
          7.6942088429381315,
          7.9905665268745745,
          8.090169943749473,
          7.990566526874577,
          7.694208842938132,
          7.208394201673419,
          6.545084971874737,
          5.720614028176849,
          4.755282581475769,
          3.67286029574068,
          2.500000000000002,
          1.265581407235013,
          2.4769001815427288e-15,
          -1.2655814072350082,
          -2.499999999999997,
          -3.6728602957406755,
          -4.7552825814757655,
          -5.720614028176845,
          -6.545084971874735,
          -7.208394201673417,
          -7.694208842938131,
          -7.990566526874576,
          -8.090169943749473,
          -7.990566526874577,
          -7.694208842938132,
          -7.2083942016734195,
          -6.545084971874738,
          5.823541592445461e-16,
          1.4877801734965799,
          2.9389262614623655,
          4.317706231133892,
          5.590169943749474,
          6.724985119639573,
          7.694208842938133,
          8.473975608908425,
          9.045084971874736,
          9.393474323917527,
          9.510565162951535,
          9.393474323917527,
          9.045084971874736,
          8.473975608908425,
          7.694208842938133,
          6.724985119639573,
          5.590169943749474,
          4.317706231133892,
          2.9389262614623655,
          1.4877801734965799,
          5.823541592445461e-16,
          -1.487780173496579,
          -2.9389262614623646,
          -4.317706231133891,
          -5.590169943749473,
          -6.724985119639572,
          -7.6942088429381315,
          -8.473975608908425,
          -9.045084971874736,
          -9.393474323917527,
          -9.510565162951535,
          -9.393474323917527,
          -9.045084971874736,
          -8.473975608908425,
          -7.694208842938133,
          -6.724985119639574,
          -5.5901699437494745,
          -4.317706231133894,
          -2.938926261462367,
          -1.487780173496581,
          -1.7470624777336383e-15,
          1.4877801734965777,
          2.9389262614623632,
          4.31770623113389,
          5.590169943749472,
          6.7249851196395705,
          7.6942088429381315,
          8.473975608908425,
          9.045084971874736,
          9.393474323917527,
          9.510565162951535,
          9.393474323917529,
          9.045084971874736,
          8.473975608908422,
          7.694208842938134,
          6.72498511963958,
          5.590169943749475,
          4.3177062311338865,
          2.938926261462368,
          1.4877801734965905,
          2.9117707962227307e-15,
          -1.487780173496585,
          -2.9389262614623624,
          -4.317706231133881,
          -5.590169943749472,
          -6.724985119639576,
          -7.694208842938131,
          -8.47397560890842,
          -9.045084971874735,
          -9.393474323917527,
          -9.510565162951535,
          -9.393474323917529,
          -9.045084971874736,
          -8.473975608908423,
          -7.694208842938135
         ],
         "y": [
          0,
          0,
          0,
          0,
          0,
          0,
          0,
          0,
          0,
          0,
          0,
          0,
          0,
          0,
          0,
          0,
          0,
          0,
          0,
          0,
          0,
          0,
          0,
          0,
          0,
          0,
          0,
          0,
          0,
          0,
          0,
          0,
          0,
          0,
          0,
          0,
          0,
          0,
          0,
          0,
          0,
          0,
          0,
          0,
          0,
          0,
          0,
          0,
          0,
          0,
          0,
          0,
          0,
          0,
          0,
          0,
          0,
          0,
          0,
          0,
          0,
          0,
          0,
          0,
          0,
          0,
          0,
          0,
          0,
          0,
          0,
          0,
          0,
          0,
          0,
          1.8921833652170748e-16,
          0.48340908203384947,
          0.9549150281252629,
          1.402907797042951,
          1.816356320013402,
          2.185080122244105,
          2.5,
          2.753361580731583,
          2.9389262614623655,
          3.0521248238988883,
          3.090169943749474,
          3.0521248238988883,
          2.9389262614623655,
          2.753361580731583,
          2.5,
          2.185080122244105,
          1.816356320013402,
          1.402907797042951,
          0.9549150281252629,
          0.48340908203384947,
          1.8921833652170748e-16,
          -0.48340908203384914,
          -0.9549150281252625,
          -1.4029077970429509,
          -1.8163563200134019,
          -2.185080122244105,
          -2.4999999999999996,
          -2.7533615807315828,
          -2.9389262614623655,
          -3.052124823898888,
          -3.090169943749474,
          -3.0521248238988883,
          -2.938926261462366,
          -2.753361580731583,
          -2.5,
          -2.1850801222441056,
          -1.8163563200134025,
          -1.4029077970429515,
          -0.9549150281252633,
          -0.4834090820338498,
          -5.676550095651224e-16,
          0.4834090820338487,
          0.9549150281252622,
          1.4029077970429504,
          1.8163563200134014,
          2.1850801222441047,
          2.4999999999999996,
          2.7533615807315828,
          2.9389262614623655,
          3.052124823898888,
          3.090169943749474,
          3.0521248238988887,
          2.938926261462366,
          2.7533615807315823,
          2.5000000000000004,
          2.185080122244108,
          1.8163563200134027,
          1.4029077970429493,
          0.9549150281252637,
          0.4834090820338529,
          9.460916826085374e-16,
          -0.4834090820338511,
          -0.9549150281252619,
          -1.4029077970429475,
          -1.8163563200134014,
          -2.1850801222441065,
          -2.499999999999999,
          -2.7533615807315814,
          -2.938926261462365,
          -3.0521248238988883,
          -3.090169943749474,
          -3.0521248238988887,
          -2.938926261462366,
          -2.7533615807315828,
          -2.5000000000000004,
          3.5991466390299835e-16,
          0.9194987150091021,
          1.8163563200134025,
          2.668489204277955,
          3.454915028125263,
          4.156269377774535,
          4.755282581475768,
          5.237204946142994,
          5.5901699437494745,
          5.805486404630472,
          5.877852522924732,
          5.805486404630472,
          5.5901699437494745,
          5.237204946142994,
          4.755282581475768,
          4.156269377774535,
          3.454915028125263,
          2.668489204277955,
          1.8163563200134025,
          0.9194987150091021,
          3.5991466390299835e-16,
          -0.9194987150091014,
          -1.8163563200134019,
          -2.6684892042779547,
          -3.4549150281252627,
          -4.156269377774534,
          -4.755282581475768,
          -5.2372049461429935,
          -5.5901699437494745,
          -5.8054864046304715,
          -5.877852522924732,
          -5.805486404630472,
          -5.590169943749475,
          -5.237204946142994,
          -4.755282581475768,
          -4.156269377774535,
          -3.454915028125264,
          -2.668489204277956,
          -1.8163563200134032,
          -0.9194987150091027,
          -1.0797439917089951e-15,
          0.9194987150091006,
          1.8163563200134012,
          2.668489204277954,
          3.454915028125262,
          4.156269377774533,
          4.755282581475768,
          5.2372049461429935,
          5.5901699437494745,
          5.8054864046304715,
          5.877852522924732,
          5.805486404630473,
          5.590169943749475,
          5.237204946142993,
          4.755282581475769,
          4.15626937777454,
          3.4549150281252645,
          2.6684892042779516,
          1.816356320013404,
          0.9194987150091086,
          1.7995733195149917e-15,
          -0.9194987150091052,
          -1.8163563200134005,
          -2.6684892042779484,
          -3.454915028125262,
          -4.156269377774537,
          -4.755282581475767,
          -5.237204946142991,
          -5.590169943749474,
          -5.805486404630472,
          -5.877852522924732,
          -5.805486404630473,
          -5.590169943749475,
          -5.237204946142993,
          -4.75528258147577,
          4.953800363085459e-16,
          1.2655814072350042,
          2.5000000000000004,
          3.6728602957406857,
          4.755282581475768,
          5.720614028176843,
          6.545084971874737,
          7.208394201673423,
          7.694208842938133,
          7.990566526874577,
          8.090169943749475,
          7.990566526874577,
          7.694208842938133,
          7.208394201673423,
          6.545084971874737,
          5.720614028176843,
          4.755282581475768,
          3.6728602957406857,
          2.5000000000000004,
          1.2655814072350042,
          4.953800363085459e-16,
          -1.2655814072350033,
          -2.4999999999999996,
          -3.672860295740685,
          -4.755282581475767,
          -5.7206140281768425,
          -6.545084971874736,
          -7.208394201673422,
          -7.694208842938133,
          -7.990566526874576,
          -8.090169943749475,
          -7.990566526874577,
          -7.694208842938134,
          -7.208394201673423,
          -6.545084971874737,
          -5.720614028176844,
          -4.755282581475769,
          -3.6728602957406866,
          -2.5000000000000013,
          -1.2655814072350051,
          -1.4861401089256374e-15,
          1.2655814072350022,
          2.4999999999999987,
          3.672860295740684,
          4.755282581475766,
          5.720614028176842,
          6.545084971874736,
          7.208394201673422,
          7.694208842938133,
          7.990566526874576,
          8.090169943749475,
          7.990566526874578,
          7.694208842938134,
          7.20839420167342,
          6.545084971874738,
          5.72061402817685,
          4.75528258147577,
          3.672860295740681,
          2.5000000000000027,
          1.2655814072350131,
          2.476900181542729e-15,
          -1.2655814072350084,
          -2.499999999999998,
          -3.6728602957406764,
          -4.755282581475766,
          -5.720614028176846,
          -6.5450849718747355,
          -7.208394201673419,
          -7.694208842938132,
          -7.990566526874577,
          -8.090169943749475,
          -7.990566526874578,
          -7.694208842938134,
          -7.208394201673421,
          -6.545084971874739,
          5.823541592445461e-16,
          1.4877801734965799,
          2.9389262614623655,
          4.317706231133892,
          5.590169943749474,
          6.724985119639573,
          7.694208842938133,
          8.473975608908425,
          9.045084971874736,
          9.393474323917527,
          9.510565162951535,
          9.393474323917527,
          9.045084971874736,
          8.473975608908425,
          7.694208842938133,
          6.724985119639573,
          5.590169943749474,
          4.317706231133892,
          2.9389262614623655,
          1.4877801734965799,
          5.823541592445461e-16,
          -1.487780173496579,
          -2.9389262614623646,
          -4.317706231133891,
          -5.590169943749473,
          -6.724985119639572,
          -7.6942088429381315,
          -8.473975608908425,
          -9.045084971874736,
          -9.393474323917527,
          -9.510565162951535,
          -9.393474323917527,
          -9.045084971874736,
          -8.473975608908425,
          -7.694208842938133,
          -6.724985119639574,
          -5.5901699437494745,
          -4.317706231133894,
          -2.938926261462367,
          -1.487780173496581,
          -1.7470624777336383e-15,
          1.4877801734965777,
          2.9389262614623632,
          4.31770623113389,
          5.590169943749472,
          6.7249851196395705,
          7.6942088429381315,
          8.473975608908425,
          9.045084971874736,
          9.393474323917527,
          9.510565162951535,
          9.393474323917529,
          9.045084971874736,
          8.473975608908422,
          7.694208842938134,
          6.72498511963958,
          5.590169943749475,
          4.3177062311338865,
          2.938926261462368,
          1.4877801734965905,
          2.9117707962227307e-15,
          -1.487780173496585,
          -2.9389262614623624,
          -4.317706231133881,
          -5.590169943749472,
          -6.724985119639576,
          -7.694208842938131,
          -8.47397560890842,
          -9.045084971874735,
          -9.393474323917527,
          -9.510565162951535,
          -9.393474323917529,
          -9.045084971874736,
          -8.473975608908423,
          -7.694208842938135,
          6.123233995736766e-16,
          1.5643446504023093,
          3.0901699437494745,
          4.539904997395468,
          5.877852522924732,
          7.0710678118654755,
          8.090169943749475,
          8.910065241883679,
          9.510565162951535,
          9.876883405951379,
          10,
          9.876883405951379,
          9.510565162951535,
          8.910065241883679,
          8.090169943749475,
          7.0710678118654755,
          5.877852522924732,
          4.539904997395468,
          3.0901699437494745,
          1.5643446504023093,
          6.123233995736766e-16,
          -1.5643446504023082,
          -3.0901699437494736,
          -4.5399049973954675,
          -5.87785252292473,
          -7.071067811865475,
          -8.090169943749473,
          -8.910065241883679,
          -9.510565162951535,
          -9.876883405951377,
          -10,
          -9.876883405951379,
          -9.510565162951536,
          -8.910065241883679,
          -8.090169943749475,
          -7.071067811865477,
          -5.877852522924733,
          -4.539904997395469,
          -3.0901699437494754,
          -1.5643446504023104,
          -1.8369701987210296e-15,
          1.5643446504023069,
          3.0901699437494723,
          4.539904997395467,
          5.877852522924729,
          7.071067811865474,
          8.090169943749473,
          8.910065241883679,
          9.510565162951535,
          9.876883405951377,
          10,
          9.876883405951379,
          9.510565162951536,
          8.910065241883675,
          8.090169943749476,
          7.0710678118654835,
          5.877852522924734,
          4.539904997395462,
          3.090169943749477,
          1.5643446504023204,
          3.061616997868383e-15,
          -1.5643446504023144,
          -3.090169943749471,
          -4.539904997395457,
          -5.877852522924729,
          -7.071067811865479,
          -8.090169943749473,
          -8.910065241883673,
          -9.510565162951535,
          -9.876883405951379,
          -10,
          -9.876883405951379,
          -9.510565162951536,
          -8.910065241883677,
          -8.090169943749476,
          5.823541592445462e-16,
          1.4877801734965803,
          2.938926261462366,
          4.317706231133893,
          5.5901699437494745,
          6.724985119639574,
          7.694208842938134,
          8.473975608908427,
          9.045084971874738,
          9.393474323917529,
          9.510565162951536,
          9.393474323917529,
          9.045084971874738,
          8.473975608908427,
          7.694208842938134,
          6.724985119639574,
          5.5901699437494745,
          4.317706231133893,
          2.938926261462366,
          1.4877801734965803,
          5.823541592445462e-16,
          -1.4877801734965792,
          -2.938926261462365,
          -4.317706231133892,
          -5.590169943749474,
          -6.724985119639573,
          -7.694208842938133,
          -8.473975608908427,
          -9.045084971874738,
          -9.393474323917529,
          -9.510565162951536,
          -9.393474323917529,
          -9.045084971874738,
          -8.473975608908427,
          -7.694208842938134,
          -6.724985119639575,
          -5.590169943749475,
          -4.317706231133894,
          -2.9389262614623672,
          -1.4877801734965812,
          -1.7470624777336387e-15,
          1.4877801734965779,
          2.938926261462364,
          4.317706231133891,
          5.590169943749473,
          6.724985119639572,
          7.694208842938133,
          8.473975608908427,
          9.045084971874738,
          9.393474323917529,
          9.510565162951536,
          9.39347432391753,
          9.045084971874738,
          8.473975608908423,
          7.694208842938135,
          6.724985119639582,
          5.590169943749477,
          4.317706231133887,
          2.9389262614623686,
          1.4877801734965908,
          2.9117707962227315e-15,
          -1.4877801734965852,
          -2.938926261462363,
          -4.317706231133882,
          -5.590169943749473,
          -6.724985119639578,
          -7.694208842938132,
          -8.473975608908422,
          -9.045084971874736,
          -9.393474323917529,
          -9.510565162951536,
          -9.39347432391753,
          -9.045084971874738,
          -8.473975608908425,
          -7.694208842938137,
          4.953800363085459e-16,
          1.2655814072350042,
          2.5000000000000004,
          3.6728602957406857,
          4.755282581475768,
          5.720614028176843,
          6.545084971874737,
          7.208394201673423,
          7.694208842938133,
          7.990566526874577,
          8.090169943749475,
          7.990566526874577,
          7.694208842938133,
          7.208394201673423,
          6.545084971874737,
          5.720614028176843,
          4.755282581475768,
          3.6728602957406857,
          2.5000000000000004,
          1.2655814072350042,
          4.953800363085459e-16,
          -1.2655814072350033,
          -2.4999999999999996,
          -3.672860295740685,
          -4.755282581475767,
          -5.7206140281768425,
          -6.545084971874736,
          -7.208394201673422,
          -7.694208842938133,
          -7.990566526874576,
          -8.090169943749475,
          -7.990566526874577,
          -7.694208842938134,
          -7.208394201673423,
          -6.545084971874737,
          -5.720614028176844,
          -4.755282581475769,
          -3.6728602957406866,
          -2.5000000000000013,
          -1.2655814072350051,
          -1.4861401089256374e-15,
          1.2655814072350022,
          2.4999999999999987,
          3.672860295740684,
          4.755282581475766,
          5.720614028176842,
          6.545084971874736,
          7.208394201673422,
          7.694208842938133,
          7.990566526874576,
          8.090169943749475,
          7.990566526874578,
          7.694208842938134,
          7.20839420167342,
          6.545084971874738,
          5.72061402817685,
          4.75528258147577,
          3.672860295740681,
          2.5000000000000027,
          1.2655814072350131,
          2.476900181542729e-15,
          -1.2655814072350084,
          -2.499999999999998,
          -3.6728602957406764,
          -4.755282581475766,
          -5.720614028176846,
          -6.5450849718747355,
          -7.208394201673419,
          -7.694208842938132,
          -7.990566526874577,
          -8.090169943749475,
          -7.990566526874578,
          -7.694208842938134,
          -7.208394201673421,
          -6.545084971874739,
          3.599146639029984e-16,
          0.9194987150091022,
          1.8163563200134027,
          2.6684892042779556,
          3.4549150281252636,
          4.156269377774535,
          4.755282581475769,
          5.237204946142995,
          5.590169943749475,
          5.805486404630473,
          5.877852522924733,
          5.805486404630473,
          5.590169943749475,
          5.237204946142995,
          4.755282581475769,
          4.156269377774535,
          3.4549150281252636,
          2.6684892042779556,
          1.8163563200134027,
          0.9194987150091022,
          3.599146639029984e-16,
          -0.9194987150091016,
          -1.816356320013402,
          -2.668489204277955,
          -3.454915028125263,
          -4.156269377774535,
          -4.755282581475768,
          -5.237204946142994,
          -5.590169943749475,
          -5.805486404630472,
          -5.877852522924733,
          -5.805486404630473,
          -5.590169943749476,
          -5.237204946142995,
          -4.755282581475769,
          -4.156269377774536,
          -3.4549150281252645,
          -2.6684892042779564,
          -1.8163563200134034,
          -0.9194987150091029,
          -1.0797439917089951e-15,
          0.9194987150091007,
          1.8163563200134014,
          2.668489204277954,
          3.4549150281252623,
          4.156269377774534,
          4.755282581475768,
          5.237204946142994,
          5.590169943749475,
          5.805486404630472,
          5.877852522924733,
          5.805486404630474,
          5.590169943749476,
          5.2372049461429935,
          4.75528258147577,
          4.1562693777745405,
          3.454915028125265,
          2.668489204277952,
          1.8163563200134045,
          0.9194987150091087,
          1.799573319514992e-15,
          -0.9194987150091053,
          -1.8163563200134007,
          -2.668489204277949,
          -3.4549150281252623,
          -4.156269377774538,
          -4.755282581475768,
          -5.237204946142992,
          -5.5901699437494745,
          -5.805486404630473,
          -5.877852522924733,
          -5.805486404630474,
          -5.590169943749476,
          -5.2372049461429935,
          -4.755282581475771,
          1.8921833652170756e-16,
          0.4834090820338496,
          0.9549150281252632,
          1.4029077970429515,
          1.8163563200134027,
          2.185080122244106,
          2.5000000000000004,
          2.753361580731584,
          2.9389262614623664,
          3.052124823898889,
          3.090169943749475,
          3.052124823898889,
          2.9389262614623664,
          2.753361580731584,
          2.5000000000000004,
          2.185080122244106,
          1.8163563200134027,
          1.4029077970429515,
          0.9549150281252632,
          0.4834090820338496,
          1.8921833652170756e-16,
          -0.48340908203384925,
          -0.9549150281252629,
          -1.402907797042951,
          -1.8163563200134023,
          -2.1850801222441056,
          -2.5000000000000004,
          -2.7533615807315837,
          -2.9389262614623664,
          -3.0521248238988887,
          -3.090169943749475,
          -3.052124823898889,
          -2.9389262614623664,
          -2.753361580731584,
          -2.5000000000000004,
          -2.1850801222441065,
          -1.816356320013403,
          -1.402907797042952,
          -0.9549150281252635,
          -0.48340908203384997,
          -5.676550095651226e-16,
          0.48340908203384886,
          0.9549150281252625,
          1.4029077970429509,
          1.816356320013402,
          2.185080122244105,
          2.5000000000000004,
          2.7533615807315837,
          2.9389262614623664,
          3.0521248238988887,
          3.090169943749475,
          3.0521248238988896,
          2.9389262614623664,
          2.753361580731583,
          2.500000000000001,
          2.1850801222441083,
          1.8163563200134034,
          1.4029077970429498,
          0.9549150281252641,
          0.483409082033853,
          9.460916826085378e-16,
          -0.48340908203385125,
          -0.9549150281252622,
          -1.402907797042948,
          -1.816356320013402,
          -2.185080122244107,
          -2.5,
          -2.7533615807315823,
          -2.938926261462366,
          -3.052124823898889,
          -3.090169943749475,
          -3.0521248238988896,
          -2.9389262614623664,
          -2.753361580731583,
          -2.5000000000000013,
          7.498798913309289e-32,
          1.9157696688784734e-16,
          3.7843667304341507e-16,
          5.559780123493434e-16,
          7.198293278059967e-16,
          8.659560562354934e-16,
          9.907600726170917e-16,
          1.0911682878666936e-15,
          1.1647083184890924e-15,
          1.2095693648649963e-15,
          1.2246467991473533e-15,
          1.2095693648649963e-15,
          1.1647083184890924e-15,
          1.0911682878666936e-15,
          9.907600726170917e-16,
          8.659560562354934e-16,
          7.198293278059967e-16,
          5.559780123493434e-16,
          3.7843667304341507e-16,
          1.9157696688784734e-16,
          7.498798913309289e-32,
          -1.915769668878472e-16,
          -3.784366730434149e-16,
          -5.559780123493432e-16,
          -7.198293278059966e-16,
          -8.659560562354932e-16,
          -9.907600726170915e-16,
          -1.0911682878666934e-15,
          -1.1647083184890924e-15,
          -1.209569364864996e-15,
          -1.2246467991473533e-15,
          -1.2095693648649963e-15,
          -1.1647083184890926e-15,
          -1.0911682878666936e-15,
          -9.907600726170917e-16,
          -8.659560562354935e-16,
          -7.198293278059968e-16,
          -5.559780123493435e-16,
          -3.784366730434152e-16,
          -1.9157696688784747e-16,
          -2.2496396739927866e-31,
          1.9157696688784702e-16,
          3.7843667304341477e-16,
          5.559780123493431e-16,
          7.198293278059964e-16,
          8.659560562354931e-16,
          9.907600726170915e-16,
          1.0911682878666934e-15,
          1.1647083184890924e-15,
          1.209569364864996e-15,
          1.2246467991473533e-15,
          1.2095693648649965e-15,
          1.1647083184890926e-15,
          1.0911682878666932e-15,
          9.907600726170917e-16,
          8.659560562354943e-16,
          7.19829327805997e-16,
          5.559780123493426e-16,
          3.784366730434154e-16,
          1.915769668878487e-16,
          3.7493994566546447e-31,
          -1.9157696688784798e-16,
          -3.7843667304341467e-16,
          -5.559780123493419e-16,
          -7.198293278059964e-16,
          -8.659560562354938e-16,
          -9.907600726170914e-16,
          -1.0911682878666928e-15,
          -1.1647083184890922e-15,
          -1.2095693648649963e-15,
          -1.2246467991473533e-15,
          -1.2095693648649965e-15,
          -1.1647083184890926e-15,
          -1.0911682878666932e-15,
          -9.90760072617092e-16,
          -1.892183365217074e-16,
          -0.48340908203384925,
          -0.9549150281252625,
          -1.4029077970429504,
          -1.8163563200134014,
          -2.1850801222441043,
          -2.4999999999999987,
          -2.753361580731582,
          -2.938926261462364,
          -3.052124823898887,
          -3.0901699437494727,
          -3.052124823898887,
          -2.938926261462364,
          -2.753361580731582,
          -2.4999999999999987,
          -2.1850801222441043,
          -1.8163563200134014,
          -1.4029077970429504,
          -0.9549150281252625,
          -0.48340908203384925,
          -1.892183365217074e-16,
          0.4834090820338489,
          0.9549150281252622,
          1.4029077970429502,
          1.816356320013401,
          2.1850801222441043,
          2.4999999999999987,
          2.753361580731582,
          2.938926261462364,
          3.0521248238988865,
          3.0901699437494727,
          3.052124823898887,
          2.9389262614623646,
          2.753361580731582,
          2.4999999999999987,
          2.1850801222441047,
          1.8163563200134016,
          1.4029077970429509,
          0.9549150281252629,
          0.4834090820338496,
          5.676550095651222e-16,
          -0.48340908203384847,
          -0.9549150281252619,
          -1.4029077970429498,
          -1.8163563200134007,
          -2.185080122244104,
          -2.4999999999999987,
          -2.753361580731582,
          -2.938926261462364,
          -3.0521248238988865,
          -3.0901699437494727,
          -3.0521248238988874,
          -2.9389262614623646,
          -2.753361580731581,
          -2.499999999999999,
          -2.185080122244107,
          -1.816356320013402,
          -1.4029077970429487,
          -0.9549150281252634,
          -0.4834090820338527,
          -9.46091682608537e-16,
          0.4834090820338509,
          0.9549150281252615,
          1.4029077970429469,
          1.8163563200134007,
          2.1850801222441056,
          2.4999999999999982,
          2.7533615807315805,
          2.9389262614623637,
          3.052124823898887,
          3.0901699437494727,
          3.0521248238988874,
          2.9389262614623646,
          2.7533615807315814,
          2.4999999999999996,
          -3.5991466390299825e-16,
          -0.9194987150091019,
          -1.816356320013402,
          -2.6684892042779547,
          -3.4549150281252623,
          -4.156269377774533,
          -4.755282581475767,
          -5.237204946142993,
          -5.590169943749473,
          -5.805486404630471,
          -5.87785252292473,
          -5.805486404630471,
          -5.590169943749473,
          -5.237204946142993,
          -4.755282581475767,
          -4.156269377774533,
          -3.4549150281252623,
          -2.6684892042779547,
          -1.816356320013402,
          -0.9194987150091019,
          -3.5991466390299825e-16,
          0.9194987150091012,
          1.8163563200134014,
          2.6684892042779538,
          3.4549150281252614,
          4.156269377774533,
          4.755282581475766,
          5.237204946142992,
          5.590169943749473,
          5.80548640463047,
          5.87785252292473,
          5.805486404630471,
          5.590169943749474,
          5.237204946142993,
          4.755282581475767,
          4.156269377774534,
          3.4549150281252627,
          2.668489204277955,
          1.8163563200134027,
          0.9194987150091025,
          1.0797439917089947e-15,
          -0.9194987150091003,
          -1.8163563200134007,
          -2.6684892042779533,
          -3.454915028125261,
          -4.1562693777745325,
          -4.755282581475766,
          -5.237204946142992,
          -5.590169943749473,
          -5.80548640463047,
          -5.87785252292473,
          -5.8054864046304715,
          -5.590169943749474,
          -5.237204946142991,
          -4.755282581475767,
          -4.156269377774538,
          -3.4549150281252636,
          -2.668489204277951,
          -1.8163563200134036,
          -0.9194987150091083,
          -1.7995733195149913e-15,
          0.919498715009105,
          1.8163563200134,
          2.6684892042779476,
          3.454915028125261,
          4.156269377774535,
          4.7552825814757655,
          5.23720494614299,
          5.590169943749472,
          5.805486404630471,
          5.87785252292473,
          5.8054864046304715,
          5.590169943749474,
          5.237204946142992,
          4.755282581475768,
          -4.953800363085457e-16,
          -1.2655814072350038,
          -2.4999999999999996,
          -3.672860295740685,
          -4.755282581475767,
          -5.7206140281768425,
          -6.545084971874736,
          -7.208394201673421,
          -7.6942088429381315,
          -7.990566526874576,
          -8.090169943749473,
          -7.990566526874576,
          -7.6942088429381315,
          -7.208394201673421,
          -6.545084971874736,
          -5.7206140281768425,
          -4.755282581475767,
          -3.672860295740685,
          -2.4999999999999996,
          -1.2655814072350038,
          -4.953800363085457e-16,
          1.265581407235003,
          2.4999999999999987,
          3.672860295740684,
          4.755282581475766,
          5.720614028176842,
          6.5450849718747355,
          7.20839420167342,
          7.6942088429381315,
          7.9905665268745745,
          8.090169943749473,
          7.990566526874576,
          7.694208842938132,
          7.208394201673421,
          6.545084971874736,
          5.720614028176843,
          4.755282581475768,
          3.6728602957406857,
          2.5000000000000004,
          1.2655814072350047,
          1.486140108925637e-15,
          -1.2655814072350018,
          -2.499999999999998,
          -3.672860295740683,
          -4.7552825814757655,
          -5.720614028176841,
          -6.5450849718747355,
          -7.20839420167342,
          -7.6942088429381315,
          -7.9905665268745745,
          -8.090169943749473,
          -7.990566526874577,
          -7.694208842938132,
          -7.208394201673419,
          -6.545084971874737,
          -5.720614028176849,
          -4.755282581475769,
          -3.67286029574068,
          -2.500000000000002,
          -1.265581407235013,
          -2.4769001815427288e-15,
          1.2655814072350082,
          2.499999999999997,
          3.6728602957406755,
          4.7552825814757655,
          5.720614028176845,
          6.545084971874735,
          7.208394201673417,
          7.694208842938131,
          7.990566526874576,
          8.090169943749473,
          7.990566526874577,
          7.694208842938132,
          7.2083942016734195,
          6.545084971874738,
          -5.823541592445461e-16,
          -1.4877801734965799,
          -2.9389262614623655,
          -4.317706231133892,
          -5.590169943749474,
          -6.724985119639573,
          -7.694208842938133,
          -8.473975608908425,
          -9.045084971874736,
          -9.393474323917527,
          -9.510565162951535,
          -9.393474323917527,
          -9.045084971874736,
          -8.473975608908425,
          -7.694208842938133,
          -6.724985119639573,
          -5.590169943749474,
          -4.317706231133892,
          -2.9389262614623655,
          -1.4877801734965799,
          -5.823541592445461e-16,
          1.487780173496579,
          2.9389262614623646,
          4.317706231133891,
          5.590169943749473,
          6.724985119639572,
          7.6942088429381315,
          8.473975608908425,
          9.045084971874736,
          9.393474323917527,
          9.510565162951535,
          9.393474323917527,
          9.045084971874736,
          8.473975608908425,
          7.694208842938133,
          6.724985119639574,
          5.5901699437494745,
          4.317706231133894,
          2.938926261462367,
          1.487780173496581,
          1.7470624777336383e-15,
          -1.4877801734965777,
          -2.9389262614623632,
          -4.31770623113389,
          -5.590169943749472,
          -6.7249851196395705,
          -7.6942088429381315,
          -8.473975608908425,
          -9.045084971874736,
          -9.393474323917527,
          -9.510565162951535,
          -9.393474323917529,
          -9.045084971874736,
          -8.473975608908422,
          -7.694208842938134,
          -6.72498511963958,
          -5.590169943749475,
          -4.3177062311338865,
          -2.938926261462368,
          -1.4877801734965905,
          -2.9117707962227307e-15,
          1.487780173496585,
          2.9389262614623624,
          4.317706231133881,
          5.590169943749472,
          6.724985119639576,
          7.694208842938131,
          8.47397560890842,
          9.045084971874735,
          9.393474323917527,
          9.510565162951535,
          9.393474323917529,
          9.045084971874736,
          8.473975608908423,
          7.694208842938135,
          -6.123233995736766e-16,
          -1.5643446504023093,
          -3.0901699437494745,
          -4.539904997395468,
          -5.877852522924732,
          -7.0710678118654755,
          -8.090169943749475,
          -8.910065241883679,
          -9.510565162951535,
          -9.876883405951379,
          -10,
          -9.876883405951379,
          -9.510565162951535,
          -8.910065241883679,
          -8.090169943749475,
          -7.0710678118654755,
          -5.877852522924732,
          -4.539904997395468,
          -3.0901699437494745,
          -1.5643446504023093,
          -6.123233995736766e-16,
          1.5643446504023082,
          3.0901699437494736,
          4.5399049973954675,
          5.87785252292473,
          7.071067811865475,
          8.090169943749473,
          8.910065241883679,
          9.510565162951535,
          9.876883405951377,
          10,
          9.876883405951379,
          9.510565162951536,
          8.910065241883679,
          8.090169943749475,
          7.071067811865477,
          5.877852522924733,
          4.539904997395469,
          3.0901699437494754,
          1.5643446504023104,
          1.8369701987210296e-15,
          -1.5643446504023069,
          -3.0901699437494723,
          -4.539904997395467,
          -5.877852522924729,
          -7.071067811865474,
          -8.090169943749473,
          -8.910065241883679,
          -9.510565162951535,
          -9.876883405951377,
          -10,
          -9.876883405951379,
          -9.510565162951536,
          -8.910065241883675,
          -8.090169943749476,
          -7.0710678118654835,
          -5.877852522924734,
          -4.539904997395462,
          -3.090169943749477,
          -1.5643446504023204,
          -3.061616997868383e-15,
          1.5643446504023144,
          3.090169943749471,
          4.539904997395457,
          5.877852522924729,
          7.071067811865479,
          8.090169943749473,
          8.910065241883673,
          9.510565162951535,
          9.876883405951379,
          10,
          9.876883405951379,
          9.510565162951536,
          8.910065241883677,
          8.090169943749476,
          -5.823541592445462e-16,
          -1.4877801734965803,
          -2.938926261462366,
          -4.317706231133893,
          -5.5901699437494745,
          -6.724985119639574,
          -7.694208842938134,
          -8.473975608908427,
          -9.045084971874738,
          -9.393474323917529,
          -9.510565162951536,
          -9.393474323917529,
          -9.045084971874738,
          -8.473975608908427,
          -7.694208842938134,
          -6.724985119639574,
          -5.5901699437494745,
          -4.317706231133893,
          -2.938926261462366,
          -1.4877801734965803,
          -5.823541592445462e-16,
          1.4877801734965792,
          2.938926261462365,
          4.317706231133892,
          5.590169943749474,
          6.724985119639573,
          7.694208842938133,
          8.473975608908427,
          9.045084971874738,
          9.393474323917529,
          9.510565162951536,
          9.393474323917529,
          9.045084971874738,
          8.473975608908427,
          7.694208842938134,
          6.724985119639575,
          5.590169943749475,
          4.317706231133894,
          2.9389262614623672,
          1.4877801734965812,
          1.7470624777336387e-15,
          -1.4877801734965779,
          -2.938926261462364,
          -4.317706231133891,
          -5.590169943749473,
          -6.724985119639572,
          -7.694208842938133,
          -8.473975608908427,
          -9.045084971874738,
          -9.393474323917529,
          -9.510565162951536,
          -9.39347432391753,
          -9.045084971874738,
          -8.473975608908423,
          -7.694208842938135,
          -6.724985119639582,
          -5.590169943749477,
          -4.317706231133887,
          -2.9389262614623686,
          -1.4877801734965908,
          -2.9117707962227315e-15,
          1.4877801734965852,
          2.938926261462363,
          4.317706231133882,
          5.590169943749473,
          6.724985119639578,
          7.694208842938132,
          8.473975608908422,
          9.045084971874736,
          9.393474323917529,
          9.510565162951536,
          9.39347432391753,
          9.045084971874738,
          8.473975608908425,
          7.694208842938137,
          -4.95380036308546e-16,
          -1.2655814072350045,
          -2.500000000000001,
          -3.6728602957406866,
          -4.755282581475769,
          -5.720614028176845,
          -6.545084971874739,
          -7.208394201673425,
          -7.694208842938135,
          -7.990566526874579,
          -8.090169943749476,
          -7.990566526874579,
          -7.694208842938135,
          -7.208394201673425,
          -6.545084971874739,
          -5.720614028176845,
          -4.755282581475769,
          -3.6728602957406866,
          -2.500000000000001,
          -1.2655814072350045,
          -4.95380036308546e-16,
          1.2655814072350036,
          2.5,
          3.6728602957406857,
          4.755282581475768,
          5.720614028176844,
          6.545084971874738,
          7.208394201673424,
          7.694208842938135,
          7.990566526874578,
          8.090169943749476,
          7.990566526874579,
          7.694208842938136,
          7.208394201673425,
          6.545084971874739,
          5.720614028176846,
          4.75528258147577,
          3.6728602957406875,
          2.5000000000000018,
          1.2655814072350053,
          1.4861401089256376e-15,
          -1.2655814072350025,
          -2.499999999999999,
          -3.672860295740685,
          -4.755282581475767,
          -5.720614028176843,
          -6.545084971874738,
          -7.208394201673424,
          -7.694208842938135,
          -7.990566526874578,
          -8.090169943749476,
          -7.99056652687458,
          -7.694208842938136,
          -7.208394201673422,
          -6.54508497187474,
          -5.720614028176851,
          -4.755282581475771,
          -3.6728602957406813,
          -2.500000000000003,
          -1.2655814072350133,
          -2.47690018154273e-15,
          1.2655814072350087,
          2.4999999999999982,
          3.672860295740677,
          4.755282581475767,
          5.720614028176848,
          6.545084971874737,
          7.20839420167342,
          7.694208842938134,
          7.990566526874579,
          8.090169943749476,
          7.99056652687458,
          7.694208842938136,
          7.208394201673423,
          6.545084971874741,
          -3.599146639029985e-16,
          -0.9194987150091024,
          -1.8163563200134032,
          -2.668489204277956,
          -3.454915028125264,
          -4.156269377774536,
          -4.75528258147577,
          -5.237204946142996,
          -5.590169943749476,
          -5.805486404630474,
          -5.877852522924734,
          -5.805486404630474,
          -5.590169943749476,
          -5.237204946142996,
          -4.75528258147577,
          -4.156269377774536,
          -3.454915028125264,
          -2.668489204277956,
          -1.8163563200134032,
          -0.9194987150091024,
          -3.599146639029985e-16,
          0.9194987150091017,
          1.8163563200134025,
          2.6684892042779556,
          3.4549150281252636,
          4.156269377774535,
          4.755282581475769,
          5.237204946142995,
          5.590169943749476,
          5.805486404630473,
          5.877852522924734,
          5.805486404630474,
          5.590169943749477,
          5.237204946142996,
          4.75528258147577,
          4.156269377774537,
          3.454915028125265,
          2.668489204277957,
          1.8163563200134036,
          0.9194987150091031,
          1.0797439917089953e-15,
          -0.9194987150091009,
          -1.8163563200134019,
          -2.6684892042779547,
          -3.454915028125263,
          -4.156269377774535,
          -4.755282581475769,
          -5.237204946142995,
          -5.590169943749476,
          -5.805486404630473,
          -5.877852522924734,
          -5.805486404630475,
          -5.590169943749477,
          -5.237204946142994,
          -4.755282581475771,
          -4.1562693777745405,
          -3.4549150281252654,
          -2.6684892042779524,
          -1.8163563200134047,
          -0.9194987150091088,
          -1.7995733195149925e-15,
          0.9194987150091055,
          1.8163563200134012,
          2.6684892042779493,
          3.454915028125263,
          4.156269377774538,
          4.755282581475768,
          5.237204946142993,
          5.590169943749475,
          5.805486404630474,
          5.877852522924734,
          5.805486404630475,
          5.590169943749477,
          5.237204946142994,
          4.755282581475771,
          -1.8921833652170766e-16,
          -0.48340908203384986,
          -0.9549150281252637,
          -1.4029077970429524,
          -1.8163563200134036,
          -2.1850801222441074,
          -2.500000000000002,
          -2.7533615807315854,
          -2.9389262614623677,
          -3.052124823898891,
          -3.0901699437494767,
          -3.052124823898891,
          -2.9389262614623677,
          -2.7533615807315854,
          -2.500000000000002,
          -2.1850801222441074,
          -1.8163563200134036,
          -1.4029077970429524,
          -0.9549150281252637,
          -0.48340908203384986,
          -1.8921833652170766e-16,
          0.4834090820338495,
          0.9549150281252634,
          1.402907797042952,
          1.8163563200134034,
          2.185080122244107,
          2.5000000000000018,
          2.7533615807315854,
          2.9389262614623677,
          3.0521248238988905,
          3.0901699437494767,
          3.052124823898891,
          2.938926261462368,
          2.7533615807315854,
          2.500000000000002,
          2.1850801222441074,
          1.816356320013404,
          1.4029077970429527,
          0.9549150281252641,
          0.48340908203385025,
          5.676550095651229e-16,
          -0.48340908203384914,
          -0.9549150281252631,
          -1.4029077970429518,
          -1.816356320013403,
          -2.1850801222441065,
          -2.5000000000000018,
          -2.7533615807315854,
          -2.9389262614623677,
          -3.0521248238988905,
          -3.0901699437494767,
          -3.0521248238988914,
          -2.938926261462368,
          -2.7533615807315845,
          -2.5000000000000027,
          -2.1850801222441096,
          -1.8163563200134043,
          -1.4029077970429504,
          -0.9549150281252646,
          -0.4834090820338533,
          -9.460916826085384e-16,
          0.4834090820338515,
          0.9549150281252627,
          1.4029077970429487,
          1.816356320013403,
          2.1850801222441083,
          2.5000000000000013,
          2.753361580731584,
          2.9389262614623677,
          3.052124823898891,
          3.0901699437494767,
          3.0521248238988914,
          2.938926261462368,
          2.753361580731585,
          2.5000000000000027
         ],
         "z": [
          -10,
          -9.876883405951379,
          -9.510565162951535,
          -8.910065241883679,
          -8.090169943749475,
          -7.071067811865475,
          -5.877852522924732,
          -4.539904997395468,
          -3.090169943749474,
          -1.5643446504023086,
          0,
          1.5643446504023086,
          3.090169943749474,
          4.539904997395468,
          5.877852522924732,
          7.071067811865475,
          8.090169943749475,
          8.910065241883679,
          9.510565162951535,
          9.876883405951379,
          10,
          9.876883405951379,
          9.510565162951536,
          8.910065241883679,
          8.090169943749475,
          7.0710678118654755,
          5.877852522924733,
          4.539904997395468,
          3.090169943749475,
          1.5643446504023097,
          1.2246467991473533e-15,
          -1.5643446504023073,
          -3.0901699437494727,
          -4.539904997395467,
          -5.87785252292473,
          -7.071067811865475,
          -8.090169943749473,
          -8.910065241883679,
          -9.510565162951535,
          -9.876883405951377,
          -10,
          -9.876883405951379,
          -9.510565162951536,
          -8.910065241883679,
          -8.090169943749476,
          -7.071067811865477,
          -5.877852522924734,
          -4.539904997395469,
          -3.0901699437494767,
          -1.5643446504023113,
          -2.4492935982947065e-15,
          1.5643446504022973,
          3.090169943749472,
          4.539904997395474,
          5.877852522924729,
          7.071067811865467,
          8.090169943749473,
          8.91006524188368,
          9.510565162951535,
          9.876883405951375,
          10,
          9.876883405951377,
          9.510565162951536,
          8.910065241883684,
          8.090169943749476,
          7.071067811865471,
          5.877852522924734,
          4.539904997395479,
          3.090169943749478,
          1.5643446504023033,
          3.673940397442059e-15,
          -1.5643446504022962,
          -3.0901699437494705,
          -4.539904997395473,
          -5.877852522924728,
          -10,
          -9.876883405951379,
          -9.510565162951535,
          -8.910065241883679,
          -8.090169943749475,
          -7.071067811865475,
          -5.877852522924732,
          -4.539904997395468,
          -3.090169943749474,
          -1.5643446504023086,
          0,
          1.5643446504023086,
          3.090169943749474,
          4.539904997395468,
          5.877852522924732,
          7.071067811865475,
          8.090169943749475,
          8.910065241883679,
          9.510565162951535,
          9.876883405951379,
          10,
          9.876883405951379,
          9.510565162951536,
          8.910065241883679,
          8.090169943749475,
          7.0710678118654755,
          5.877852522924733,
          4.539904997395468,
          3.090169943749475,
          1.5643446504023097,
          1.2246467991473533e-15,
          -1.5643446504023073,
          -3.0901699437494727,
          -4.539904997395467,
          -5.87785252292473,
          -7.071067811865475,
          -8.090169943749473,
          -8.910065241883679,
          -9.510565162951535,
          -9.876883405951377,
          -10,
          -9.876883405951379,
          -9.510565162951536,
          -8.910065241883679,
          -8.090169943749476,
          -7.071067811865477,
          -5.877852522924734,
          -4.539904997395469,
          -3.0901699437494767,
          -1.5643446504023113,
          -2.4492935982947065e-15,
          1.5643446504022973,
          3.090169943749472,
          4.539904997395474,
          5.877852522924729,
          7.071067811865467,
          8.090169943749473,
          8.91006524188368,
          9.510565162951535,
          9.876883405951375,
          10,
          9.876883405951377,
          9.510565162951536,
          8.910065241883684,
          8.090169943749476,
          7.071067811865471,
          5.877852522924734,
          4.539904997395479,
          3.090169943749478,
          1.5643446504023033,
          3.673940397442059e-15,
          -1.5643446504022962,
          -3.0901699437494705,
          -4.539904997395473,
          -5.877852522924728,
          -10,
          -9.876883405951379,
          -9.510565162951535,
          -8.910065241883679,
          -8.090169943749475,
          -7.071067811865475,
          -5.877852522924732,
          -4.539904997395468,
          -3.090169943749474,
          -1.5643446504023086,
          0,
          1.5643446504023086,
          3.090169943749474,
          4.539904997395468,
          5.877852522924732,
          7.071067811865475,
          8.090169943749475,
          8.910065241883679,
          9.510565162951535,
          9.876883405951379,
          10,
          9.876883405951379,
          9.510565162951536,
          8.910065241883679,
          8.090169943749475,
          7.0710678118654755,
          5.877852522924733,
          4.539904997395468,
          3.090169943749475,
          1.5643446504023097,
          1.2246467991473533e-15,
          -1.5643446504023073,
          -3.0901699437494727,
          -4.539904997395467,
          -5.87785252292473,
          -7.071067811865475,
          -8.090169943749473,
          -8.910065241883679,
          -9.510565162951535,
          -9.876883405951377,
          -10,
          -9.876883405951379,
          -9.510565162951536,
          -8.910065241883679,
          -8.090169943749476,
          -7.071067811865477,
          -5.877852522924734,
          -4.539904997395469,
          -3.0901699437494767,
          -1.5643446504023113,
          -2.4492935982947065e-15,
          1.5643446504022973,
          3.090169943749472,
          4.539904997395474,
          5.877852522924729,
          7.071067811865467,
          8.090169943749473,
          8.91006524188368,
          9.510565162951535,
          9.876883405951375,
          10,
          9.876883405951377,
          9.510565162951536,
          8.910065241883684,
          8.090169943749476,
          7.071067811865471,
          5.877852522924734,
          4.539904997395479,
          3.090169943749478,
          1.5643446504023033,
          3.673940397442059e-15,
          -1.5643446504022962,
          -3.0901699437494705,
          -4.539904997395473,
          -5.877852522924728,
          -10,
          -9.876883405951379,
          -9.510565162951535,
          -8.910065241883679,
          -8.090169943749475,
          -7.071067811865475,
          -5.877852522924732,
          -4.539904997395468,
          -3.090169943749474,
          -1.5643446504023086,
          0,
          1.5643446504023086,
          3.090169943749474,
          4.539904997395468,
          5.877852522924732,
          7.071067811865475,
          8.090169943749475,
          8.910065241883679,
          9.510565162951535,
          9.876883405951379,
          10,
          9.876883405951379,
          9.510565162951536,
          8.910065241883679,
          8.090169943749475,
          7.0710678118654755,
          5.877852522924733,
          4.539904997395468,
          3.090169943749475,
          1.5643446504023097,
          1.2246467991473533e-15,
          -1.5643446504023073,
          -3.0901699437494727,
          -4.539904997395467,
          -5.87785252292473,
          -7.071067811865475,
          -8.090169943749473,
          -8.910065241883679,
          -9.510565162951535,
          -9.876883405951377,
          -10,
          -9.876883405951379,
          -9.510565162951536,
          -8.910065241883679,
          -8.090169943749476,
          -7.071067811865477,
          -5.877852522924734,
          -4.539904997395469,
          -3.0901699437494767,
          -1.5643446504023113,
          -2.4492935982947065e-15,
          1.5643446504022973,
          3.090169943749472,
          4.539904997395474,
          5.877852522924729,
          7.071067811865467,
          8.090169943749473,
          8.91006524188368,
          9.510565162951535,
          9.876883405951375,
          10,
          9.876883405951377,
          9.510565162951536,
          8.910065241883684,
          8.090169943749476,
          7.071067811865471,
          5.877852522924734,
          4.539904997395479,
          3.090169943749478,
          1.5643446504023033,
          3.673940397442059e-15,
          -1.5643446504022962,
          -3.0901699437494705,
          -4.539904997395473,
          -5.877852522924728,
          -10,
          -9.876883405951379,
          -9.510565162951535,
          -8.910065241883679,
          -8.090169943749475,
          -7.071067811865475,
          -5.877852522924732,
          -4.539904997395468,
          -3.090169943749474,
          -1.5643446504023086,
          0,
          1.5643446504023086,
          3.090169943749474,
          4.539904997395468,
          5.877852522924732,
          7.071067811865475,
          8.090169943749475,
          8.910065241883679,
          9.510565162951535,
          9.876883405951379,
          10,
          9.876883405951379,
          9.510565162951536,
          8.910065241883679,
          8.090169943749475,
          7.0710678118654755,
          5.877852522924733,
          4.539904997395468,
          3.090169943749475,
          1.5643446504023097,
          1.2246467991473533e-15,
          -1.5643446504023073,
          -3.0901699437494727,
          -4.539904997395467,
          -5.87785252292473,
          -7.071067811865475,
          -8.090169943749473,
          -8.910065241883679,
          -9.510565162951535,
          -9.876883405951377,
          -10,
          -9.876883405951379,
          -9.510565162951536,
          -8.910065241883679,
          -8.090169943749476,
          -7.071067811865477,
          -5.877852522924734,
          -4.539904997395469,
          -3.0901699437494767,
          -1.5643446504023113,
          -2.4492935982947065e-15,
          1.5643446504022973,
          3.090169943749472,
          4.539904997395474,
          5.877852522924729,
          7.071067811865467,
          8.090169943749473,
          8.91006524188368,
          9.510565162951535,
          9.876883405951375,
          10,
          9.876883405951377,
          9.510565162951536,
          8.910065241883684,
          8.090169943749476,
          7.071067811865471,
          5.877852522924734,
          4.539904997395479,
          3.090169943749478,
          1.5643446504023033,
          3.673940397442059e-15,
          -1.5643446504022962,
          -3.0901699437494705,
          -4.539904997395473,
          -5.877852522924728,
          -10,
          -9.876883405951379,
          -9.510565162951535,
          -8.910065241883679,
          -8.090169943749475,
          -7.071067811865475,
          -5.877852522924732,
          -4.539904997395468,
          -3.090169943749474,
          -1.5643446504023086,
          0,
          1.5643446504023086,
          3.090169943749474,
          4.539904997395468,
          5.877852522924732,
          7.071067811865475,
          8.090169943749475,
          8.910065241883679,
          9.510565162951535,
          9.876883405951379,
          10,
          9.876883405951379,
          9.510565162951536,
          8.910065241883679,
          8.090169943749475,
          7.0710678118654755,
          5.877852522924733,
          4.539904997395468,
          3.090169943749475,
          1.5643446504023097,
          1.2246467991473533e-15,
          -1.5643446504023073,
          -3.0901699437494727,
          -4.539904997395467,
          -5.87785252292473,
          -7.071067811865475,
          -8.090169943749473,
          -8.910065241883679,
          -9.510565162951535,
          -9.876883405951377,
          -10,
          -9.876883405951379,
          -9.510565162951536,
          -8.910065241883679,
          -8.090169943749476,
          -7.071067811865477,
          -5.877852522924734,
          -4.539904997395469,
          -3.0901699437494767,
          -1.5643446504023113,
          -2.4492935982947065e-15,
          1.5643446504022973,
          3.090169943749472,
          4.539904997395474,
          5.877852522924729,
          7.071067811865467,
          8.090169943749473,
          8.91006524188368,
          9.510565162951535,
          9.876883405951375,
          10,
          9.876883405951377,
          9.510565162951536,
          8.910065241883684,
          8.090169943749476,
          7.071067811865471,
          5.877852522924734,
          4.539904997395479,
          3.090169943749478,
          1.5643446504023033,
          3.673940397442059e-15,
          -1.5643446504022962,
          -3.0901699437494705,
          -4.539904997395473,
          -5.877852522924728,
          -10,
          -9.876883405951379,
          -9.510565162951535,
          -8.910065241883679,
          -8.090169943749475,
          -7.071067811865475,
          -5.877852522924732,
          -4.539904997395468,
          -3.090169943749474,
          -1.5643446504023086,
          0,
          1.5643446504023086,
          3.090169943749474,
          4.539904997395468,
          5.877852522924732,
          7.071067811865475,
          8.090169943749475,
          8.910065241883679,
          9.510565162951535,
          9.876883405951379,
          10,
          9.876883405951379,
          9.510565162951536,
          8.910065241883679,
          8.090169943749475,
          7.0710678118654755,
          5.877852522924733,
          4.539904997395468,
          3.090169943749475,
          1.5643446504023097,
          1.2246467991473533e-15,
          -1.5643446504023073,
          -3.0901699437494727,
          -4.539904997395467,
          -5.87785252292473,
          -7.071067811865475,
          -8.090169943749473,
          -8.910065241883679,
          -9.510565162951535,
          -9.876883405951377,
          -10,
          -9.876883405951379,
          -9.510565162951536,
          -8.910065241883679,
          -8.090169943749476,
          -7.071067811865477,
          -5.877852522924734,
          -4.539904997395469,
          -3.0901699437494767,
          -1.5643446504023113,
          -2.4492935982947065e-15,
          1.5643446504022973,
          3.090169943749472,
          4.539904997395474,
          5.877852522924729,
          7.071067811865467,
          8.090169943749473,
          8.91006524188368,
          9.510565162951535,
          9.876883405951375,
          10,
          9.876883405951377,
          9.510565162951536,
          8.910065241883684,
          8.090169943749476,
          7.071067811865471,
          5.877852522924734,
          4.539904997395479,
          3.090169943749478,
          1.5643446504023033,
          3.673940397442059e-15,
          -1.5643446504022962,
          -3.0901699437494705,
          -4.539904997395473,
          -5.877852522924728,
          -10,
          -9.876883405951379,
          -9.510565162951535,
          -8.910065241883679,
          -8.090169943749475,
          -7.071067811865475,
          -5.877852522924732,
          -4.539904997395468,
          -3.090169943749474,
          -1.5643446504023086,
          0,
          1.5643446504023086,
          3.090169943749474,
          4.539904997395468,
          5.877852522924732,
          7.071067811865475,
          8.090169943749475,
          8.910065241883679,
          9.510565162951535,
          9.876883405951379,
          10,
          9.876883405951379,
          9.510565162951536,
          8.910065241883679,
          8.090169943749475,
          7.0710678118654755,
          5.877852522924733,
          4.539904997395468,
          3.090169943749475,
          1.5643446504023097,
          1.2246467991473533e-15,
          -1.5643446504023073,
          -3.0901699437494727,
          -4.539904997395467,
          -5.87785252292473,
          -7.071067811865475,
          -8.090169943749473,
          -8.910065241883679,
          -9.510565162951535,
          -9.876883405951377,
          -10,
          -9.876883405951379,
          -9.510565162951536,
          -8.910065241883679,
          -8.090169943749476,
          -7.071067811865477,
          -5.877852522924734,
          -4.539904997395469,
          -3.0901699437494767,
          -1.5643446504023113,
          -2.4492935982947065e-15,
          1.5643446504022973,
          3.090169943749472,
          4.539904997395474,
          5.877852522924729,
          7.071067811865467,
          8.090169943749473,
          8.91006524188368,
          9.510565162951535,
          9.876883405951375,
          10,
          9.876883405951377,
          9.510565162951536,
          8.910065241883684,
          8.090169943749476,
          7.071067811865471,
          5.877852522924734,
          4.539904997395479,
          3.090169943749478,
          1.5643446504023033,
          3.673940397442059e-15,
          -1.5643446504022962,
          -3.0901699437494705,
          -4.539904997395473,
          -5.877852522924728,
          -10,
          -9.876883405951379,
          -9.510565162951535,
          -8.910065241883679,
          -8.090169943749475,
          -7.071067811865475,
          -5.877852522924732,
          -4.539904997395468,
          -3.090169943749474,
          -1.5643446504023086,
          0,
          1.5643446504023086,
          3.090169943749474,
          4.539904997395468,
          5.877852522924732,
          7.071067811865475,
          8.090169943749475,
          8.910065241883679,
          9.510565162951535,
          9.876883405951379,
          10,
          9.876883405951379,
          9.510565162951536,
          8.910065241883679,
          8.090169943749475,
          7.0710678118654755,
          5.877852522924733,
          4.539904997395468,
          3.090169943749475,
          1.5643446504023097,
          1.2246467991473533e-15,
          -1.5643446504023073,
          -3.0901699437494727,
          -4.539904997395467,
          -5.87785252292473,
          -7.071067811865475,
          -8.090169943749473,
          -8.910065241883679,
          -9.510565162951535,
          -9.876883405951377,
          -10,
          -9.876883405951379,
          -9.510565162951536,
          -8.910065241883679,
          -8.090169943749476,
          -7.071067811865477,
          -5.877852522924734,
          -4.539904997395469,
          -3.0901699437494767,
          -1.5643446504023113,
          -2.4492935982947065e-15,
          1.5643446504022973,
          3.090169943749472,
          4.539904997395474,
          5.877852522924729,
          7.071067811865467,
          8.090169943749473,
          8.91006524188368,
          9.510565162951535,
          9.876883405951375,
          10,
          9.876883405951377,
          9.510565162951536,
          8.910065241883684,
          8.090169943749476,
          7.071067811865471,
          5.877852522924734,
          4.539904997395479,
          3.090169943749478,
          1.5643446504023033,
          3.673940397442059e-15,
          -1.5643446504022962,
          -3.0901699437494705,
          -4.539904997395473,
          -5.877852522924728,
          -10,
          -9.876883405951379,
          -9.510565162951535,
          -8.910065241883679,
          -8.090169943749475,
          -7.071067811865475,
          -5.877852522924732,
          -4.539904997395468,
          -3.090169943749474,
          -1.5643446504023086,
          0,
          1.5643446504023086,
          3.090169943749474,
          4.539904997395468,
          5.877852522924732,
          7.071067811865475,
          8.090169943749475,
          8.910065241883679,
          9.510565162951535,
          9.876883405951379,
          10,
          9.876883405951379,
          9.510565162951536,
          8.910065241883679,
          8.090169943749475,
          7.0710678118654755,
          5.877852522924733,
          4.539904997395468,
          3.090169943749475,
          1.5643446504023097,
          1.2246467991473533e-15,
          -1.5643446504023073,
          -3.0901699437494727,
          -4.539904997395467,
          -5.87785252292473,
          -7.071067811865475,
          -8.090169943749473,
          -8.910065241883679,
          -9.510565162951535,
          -9.876883405951377,
          -10,
          -9.876883405951379,
          -9.510565162951536,
          -8.910065241883679,
          -8.090169943749476,
          -7.071067811865477,
          -5.877852522924734,
          -4.539904997395469,
          -3.0901699437494767,
          -1.5643446504023113,
          -2.4492935982947065e-15,
          1.5643446504022973,
          3.090169943749472,
          4.539904997395474,
          5.877852522924729,
          7.071067811865467,
          8.090169943749473,
          8.91006524188368,
          9.510565162951535,
          9.876883405951375,
          10,
          9.876883405951377,
          9.510565162951536,
          8.910065241883684,
          8.090169943749476,
          7.071067811865471,
          5.877852522924734,
          4.539904997395479,
          3.090169943749478,
          1.5643446504023033,
          3.673940397442059e-15,
          -1.5643446504022962,
          -3.0901699437494705,
          -4.539904997395473,
          -5.877852522924728,
          -10,
          -9.876883405951379,
          -9.510565162951535,
          -8.910065241883679,
          -8.090169943749475,
          -7.071067811865475,
          -5.877852522924732,
          -4.539904997395468,
          -3.090169943749474,
          -1.5643446504023086,
          0,
          1.5643446504023086,
          3.090169943749474,
          4.539904997395468,
          5.877852522924732,
          7.071067811865475,
          8.090169943749475,
          8.910065241883679,
          9.510565162951535,
          9.876883405951379,
          10,
          9.876883405951379,
          9.510565162951536,
          8.910065241883679,
          8.090169943749475,
          7.0710678118654755,
          5.877852522924733,
          4.539904997395468,
          3.090169943749475,
          1.5643446504023097,
          1.2246467991473533e-15,
          -1.5643446504023073,
          -3.0901699437494727,
          -4.539904997395467,
          -5.87785252292473,
          -7.071067811865475,
          -8.090169943749473,
          -8.910065241883679,
          -9.510565162951535,
          -9.876883405951377,
          -10,
          -9.876883405951379,
          -9.510565162951536,
          -8.910065241883679,
          -8.090169943749476,
          -7.071067811865477,
          -5.877852522924734,
          -4.539904997395469,
          -3.0901699437494767,
          -1.5643446504023113,
          -2.4492935982947065e-15,
          1.5643446504022973,
          3.090169943749472,
          4.539904997395474,
          5.877852522924729,
          7.071067811865467,
          8.090169943749473,
          8.91006524188368,
          9.510565162951535,
          9.876883405951375,
          10,
          9.876883405951377,
          9.510565162951536,
          8.910065241883684,
          8.090169943749476,
          7.071067811865471,
          5.877852522924734,
          4.539904997395479,
          3.090169943749478,
          1.5643446504023033,
          3.673940397442059e-15,
          -1.5643446504022962,
          -3.0901699437494705,
          -4.539904997395473,
          -5.877852522924728,
          -10,
          -9.876883405951379,
          -9.510565162951535,
          -8.910065241883679,
          -8.090169943749475,
          -7.071067811865475,
          -5.877852522924732,
          -4.539904997395468,
          -3.090169943749474,
          -1.5643446504023086,
          0,
          1.5643446504023086,
          3.090169943749474,
          4.539904997395468,
          5.877852522924732,
          7.071067811865475,
          8.090169943749475,
          8.910065241883679,
          9.510565162951535,
          9.876883405951379,
          10,
          9.876883405951379,
          9.510565162951536,
          8.910065241883679,
          8.090169943749475,
          7.0710678118654755,
          5.877852522924733,
          4.539904997395468,
          3.090169943749475,
          1.5643446504023097,
          1.2246467991473533e-15,
          -1.5643446504023073,
          -3.0901699437494727,
          -4.539904997395467,
          -5.87785252292473,
          -7.071067811865475,
          -8.090169943749473,
          -8.910065241883679,
          -9.510565162951535,
          -9.876883405951377,
          -10,
          -9.876883405951379,
          -9.510565162951536,
          -8.910065241883679,
          -8.090169943749476,
          -7.071067811865477,
          -5.877852522924734,
          -4.539904997395469,
          -3.0901699437494767,
          -1.5643446504023113,
          -2.4492935982947065e-15,
          1.5643446504022973,
          3.090169943749472,
          4.539904997395474,
          5.877852522924729,
          7.071067811865467,
          8.090169943749473,
          8.91006524188368,
          9.510565162951535,
          9.876883405951375,
          10,
          9.876883405951377,
          9.510565162951536,
          8.910065241883684,
          8.090169943749476,
          7.071067811865471,
          5.877852522924734,
          4.539904997395479,
          3.090169943749478,
          1.5643446504023033,
          3.673940397442059e-15,
          -1.5643446504022962,
          -3.0901699437494705,
          -4.539904997395473,
          -5.877852522924728,
          -10,
          -9.876883405951379,
          -9.510565162951535,
          -8.910065241883679,
          -8.090169943749475,
          -7.071067811865475,
          -5.877852522924732,
          -4.539904997395468,
          -3.090169943749474,
          -1.5643446504023086,
          0,
          1.5643446504023086,
          3.090169943749474,
          4.539904997395468,
          5.877852522924732,
          7.071067811865475,
          8.090169943749475,
          8.910065241883679,
          9.510565162951535,
          9.876883405951379,
          10,
          9.876883405951379,
          9.510565162951536,
          8.910065241883679,
          8.090169943749475,
          7.0710678118654755,
          5.877852522924733,
          4.539904997395468,
          3.090169943749475,
          1.5643446504023097,
          1.2246467991473533e-15,
          -1.5643446504023073,
          -3.0901699437494727,
          -4.539904997395467,
          -5.87785252292473,
          -7.071067811865475,
          -8.090169943749473,
          -8.910065241883679,
          -9.510565162951535,
          -9.876883405951377,
          -10,
          -9.876883405951379,
          -9.510565162951536,
          -8.910065241883679,
          -8.090169943749476,
          -7.071067811865477,
          -5.877852522924734,
          -4.539904997395469,
          -3.0901699437494767,
          -1.5643446504023113,
          -2.4492935982947065e-15,
          1.5643446504022973,
          3.090169943749472,
          4.539904997395474,
          5.877852522924729,
          7.071067811865467,
          8.090169943749473,
          8.91006524188368,
          9.510565162951535,
          9.876883405951375,
          10,
          9.876883405951377,
          9.510565162951536,
          8.910065241883684,
          8.090169943749476,
          7.071067811865471,
          5.877852522924734,
          4.539904997395479,
          3.090169943749478,
          1.5643446504023033,
          3.673940397442059e-15,
          -1.5643446504022962,
          -3.0901699437494705,
          -4.539904997395473,
          -5.877852522924728,
          -10,
          -9.876883405951379,
          -9.510565162951535,
          -8.910065241883679,
          -8.090169943749475,
          -7.071067811865475,
          -5.877852522924732,
          -4.539904997395468,
          -3.090169943749474,
          -1.5643446504023086,
          0,
          1.5643446504023086,
          3.090169943749474,
          4.539904997395468,
          5.877852522924732,
          7.071067811865475,
          8.090169943749475,
          8.910065241883679,
          9.510565162951535,
          9.876883405951379,
          10,
          9.876883405951379,
          9.510565162951536,
          8.910065241883679,
          8.090169943749475,
          7.0710678118654755,
          5.877852522924733,
          4.539904997395468,
          3.090169943749475,
          1.5643446504023097,
          1.2246467991473533e-15,
          -1.5643446504023073,
          -3.0901699437494727,
          -4.539904997395467,
          -5.87785252292473,
          -7.071067811865475,
          -8.090169943749473,
          -8.910065241883679,
          -9.510565162951535,
          -9.876883405951377,
          -10,
          -9.876883405951379,
          -9.510565162951536,
          -8.910065241883679,
          -8.090169943749476,
          -7.071067811865477,
          -5.877852522924734,
          -4.539904997395469,
          -3.0901699437494767,
          -1.5643446504023113,
          -2.4492935982947065e-15,
          1.5643446504022973,
          3.090169943749472,
          4.539904997395474,
          5.877852522924729,
          7.071067811865467,
          8.090169943749473,
          8.91006524188368,
          9.510565162951535,
          9.876883405951375,
          10,
          9.876883405951377,
          9.510565162951536,
          8.910065241883684,
          8.090169943749476,
          7.071067811865471,
          5.877852522924734,
          4.539904997395479,
          3.090169943749478,
          1.5643446504023033,
          3.673940397442059e-15,
          -1.5643446504022962,
          -3.0901699437494705,
          -4.539904997395473,
          -5.877852522924728,
          -10,
          -9.876883405951379,
          -9.510565162951535,
          -8.910065241883679,
          -8.090169943749475,
          -7.071067811865475,
          -5.877852522924732,
          -4.539904997395468,
          -3.090169943749474,
          -1.5643446504023086,
          0,
          1.5643446504023086,
          3.090169943749474,
          4.539904997395468,
          5.877852522924732,
          7.071067811865475,
          8.090169943749475,
          8.910065241883679,
          9.510565162951535,
          9.876883405951379,
          10,
          9.876883405951379,
          9.510565162951536,
          8.910065241883679,
          8.090169943749475,
          7.0710678118654755,
          5.877852522924733,
          4.539904997395468,
          3.090169943749475,
          1.5643446504023097,
          1.2246467991473533e-15,
          -1.5643446504023073,
          -3.0901699437494727,
          -4.539904997395467,
          -5.87785252292473,
          -7.071067811865475,
          -8.090169943749473,
          -8.910065241883679,
          -9.510565162951535,
          -9.876883405951377,
          -10,
          -9.876883405951379,
          -9.510565162951536,
          -8.910065241883679,
          -8.090169943749476,
          -7.071067811865477,
          -5.877852522924734,
          -4.539904997395469,
          -3.0901699437494767,
          -1.5643446504023113,
          -2.4492935982947065e-15,
          1.5643446504022973,
          3.090169943749472,
          4.539904997395474,
          5.877852522924729,
          7.071067811865467,
          8.090169943749473,
          8.91006524188368,
          9.510565162951535,
          9.876883405951375,
          10,
          9.876883405951377,
          9.510565162951536,
          8.910065241883684,
          8.090169943749476,
          7.071067811865471,
          5.877852522924734,
          4.539904997395479,
          3.090169943749478,
          1.5643446504023033,
          3.673940397442059e-15,
          -1.5643446504022962,
          -3.0901699437494705,
          -4.539904997395473,
          -5.877852522924728,
          -10,
          -9.876883405951379,
          -9.510565162951535,
          -8.910065241883679,
          -8.090169943749475,
          -7.071067811865475,
          -5.877852522924732,
          -4.539904997395468,
          -3.090169943749474,
          -1.5643446504023086,
          0,
          1.5643446504023086,
          3.090169943749474,
          4.539904997395468,
          5.877852522924732,
          7.071067811865475,
          8.090169943749475,
          8.910065241883679,
          9.510565162951535,
          9.876883405951379,
          10,
          9.876883405951379,
          9.510565162951536,
          8.910065241883679,
          8.090169943749475,
          7.0710678118654755,
          5.877852522924733,
          4.539904997395468,
          3.090169943749475,
          1.5643446504023097,
          1.2246467991473533e-15,
          -1.5643446504023073,
          -3.0901699437494727,
          -4.539904997395467,
          -5.87785252292473,
          -7.071067811865475,
          -8.090169943749473,
          -8.910065241883679,
          -9.510565162951535,
          -9.876883405951377,
          -10,
          -9.876883405951379,
          -9.510565162951536,
          -8.910065241883679,
          -8.090169943749476,
          -7.071067811865477,
          -5.877852522924734,
          -4.539904997395469,
          -3.0901699437494767,
          -1.5643446504023113,
          -2.4492935982947065e-15,
          1.5643446504022973,
          3.090169943749472,
          4.539904997395474,
          5.877852522924729,
          7.071067811865467,
          8.090169943749473,
          8.91006524188368,
          9.510565162951535,
          9.876883405951375,
          10,
          9.876883405951377,
          9.510565162951536,
          8.910065241883684,
          8.090169943749476,
          7.071067811865471,
          5.877852522924734,
          4.539904997395479,
          3.090169943749478,
          1.5643446504023033,
          3.673940397442059e-15,
          -1.5643446504022962,
          -3.0901699437494705,
          -4.539904997395473,
          -5.877852522924728,
          -10,
          -9.876883405951379,
          -9.510565162951535,
          -8.910065241883679,
          -8.090169943749475,
          -7.071067811865475,
          -5.877852522924732,
          -4.539904997395468,
          -3.090169943749474,
          -1.5643446504023086,
          0,
          1.5643446504023086,
          3.090169943749474,
          4.539904997395468,
          5.877852522924732,
          7.071067811865475,
          8.090169943749475,
          8.910065241883679,
          9.510565162951535,
          9.876883405951379,
          10,
          9.876883405951379,
          9.510565162951536,
          8.910065241883679,
          8.090169943749475,
          7.0710678118654755,
          5.877852522924733,
          4.539904997395468,
          3.090169943749475,
          1.5643446504023097,
          1.2246467991473533e-15,
          -1.5643446504023073,
          -3.0901699437494727,
          -4.539904997395467,
          -5.87785252292473,
          -7.071067811865475,
          -8.090169943749473,
          -8.910065241883679,
          -9.510565162951535,
          -9.876883405951377,
          -10,
          -9.876883405951379,
          -9.510565162951536,
          -8.910065241883679,
          -8.090169943749476,
          -7.071067811865477,
          -5.877852522924734,
          -4.539904997395469,
          -3.0901699437494767,
          -1.5643446504023113,
          -2.4492935982947065e-15,
          1.5643446504022973,
          3.090169943749472,
          4.539904997395474,
          5.877852522924729,
          7.071067811865467,
          8.090169943749473,
          8.91006524188368,
          9.510565162951535,
          9.876883405951375,
          10,
          9.876883405951377,
          9.510565162951536,
          8.910065241883684,
          8.090169943749476,
          7.071067811865471,
          5.877852522924734,
          4.539904997395479,
          3.090169943749478,
          1.5643446504023033,
          3.673940397442059e-15,
          -1.5643446504022962,
          -3.0901699437494705,
          -4.539904997395473,
          -5.877852522924728,
          -10,
          -9.876883405951379,
          -9.510565162951535,
          -8.910065241883679,
          -8.090169943749475,
          -7.071067811865475,
          -5.877852522924732,
          -4.539904997395468,
          -3.090169943749474,
          -1.5643446504023086,
          0,
          1.5643446504023086,
          3.090169943749474,
          4.539904997395468,
          5.877852522924732,
          7.071067811865475,
          8.090169943749475,
          8.910065241883679,
          9.510565162951535,
          9.876883405951379,
          10,
          9.876883405951379,
          9.510565162951536,
          8.910065241883679,
          8.090169943749475,
          7.0710678118654755,
          5.877852522924733,
          4.539904997395468,
          3.090169943749475,
          1.5643446504023097,
          1.2246467991473533e-15,
          -1.5643446504023073,
          -3.0901699437494727,
          -4.539904997395467,
          -5.87785252292473,
          -7.071067811865475,
          -8.090169943749473,
          -8.910065241883679,
          -9.510565162951535,
          -9.876883405951377,
          -10,
          -9.876883405951379,
          -9.510565162951536,
          -8.910065241883679,
          -8.090169943749476,
          -7.071067811865477,
          -5.877852522924734,
          -4.539904997395469,
          -3.0901699437494767,
          -1.5643446504023113,
          -2.4492935982947065e-15,
          1.5643446504022973,
          3.090169943749472,
          4.539904997395474,
          5.877852522924729,
          7.071067811865467,
          8.090169943749473,
          8.91006524188368,
          9.510565162951535,
          9.876883405951375,
          10,
          9.876883405951377,
          9.510565162951536,
          8.910065241883684,
          8.090169943749476,
          7.071067811865471,
          5.877852522924734,
          4.539904997395479,
          3.090169943749478,
          1.5643446504023033,
          3.673940397442059e-15,
          -1.5643446504022962,
          -3.0901699437494705,
          -4.539904997395473,
          -5.877852522924728,
          -10,
          -9.876883405951379,
          -9.510565162951535,
          -8.910065241883679,
          -8.090169943749475,
          -7.071067811865475,
          -5.877852522924732,
          -4.539904997395468,
          -3.090169943749474,
          -1.5643446504023086,
          0,
          1.5643446504023086,
          3.090169943749474,
          4.539904997395468,
          5.877852522924732,
          7.071067811865475,
          8.090169943749475,
          8.910065241883679,
          9.510565162951535,
          9.876883405951379,
          10,
          9.876883405951379,
          9.510565162951536,
          8.910065241883679,
          8.090169943749475,
          7.0710678118654755,
          5.877852522924733,
          4.539904997395468,
          3.090169943749475,
          1.5643446504023097,
          1.2246467991473533e-15,
          -1.5643446504023073,
          -3.0901699437494727,
          -4.539904997395467,
          -5.87785252292473,
          -7.071067811865475,
          -8.090169943749473,
          -8.910065241883679,
          -9.510565162951535,
          -9.876883405951377,
          -10,
          -9.876883405951379,
          -9.510565162951536,
          -8.910065241883679,
          -8.090169943749476,
          -7.071067811865477,
          -5.877852522924734,
          -4.539904997395469,
          -3.0901699437494767,
          -1.5643446504023113,
          -2.4492935982947065e-15,
          1.5643446504022973,
          3.090169943749472,
          4.539904997395474,
          5.877852522924729,
          7.071067811865467,
          8.090169943749473,
          8.91006524188368,
          9.510565162951535,
          9.876883405951375,
          10,
          9.876883405951377,
          9.510565162951536,
          8.910065241883684,
          8.090169943749476,
          7.071067811865471,
          5.877852522924734,
          4.539904997395479,
          3.090169943749478,
          1.5643446504023033,
          3.673940397442059e-15,
          -1.5643446504022962,
          -3.0901699437494705,
          -4.539904997395473,
          -5.877852522924728,
          -10,
          -9.876883405951379,
          -9.510565162951535,
          -8.910065241883679,
          -8.090169943749475,
          -7.071067811865475,
          -5.877852522924732,
          -4.539904997395468,
          -3.090169943749474,
          -1.5643446504023086,
          0,
          1.5643446504023086,
          3.090169943749474,
          4.539904997395468,
          5.877852522924732,
          7.071067811865475,
          8.090169943749475,
          8.910065241883679,
          9.510565162951535,
          9.876883405951379,
          10,
          9.876883405951379,
          9.510565162951536,
          8.910065241883679,
          8.090169943749475,
          7.0710678118654755,
          5.877852522924733,
          4.539904997395468,
          3.090169943749475,
          1.5643446504023097,
          1.2246467991473533e-15,
          -1.5643446504023073,
          -3.0901699437494727,
          -4.539904997395467,
          -5.87785252292473,
          -7.071067811865475,
          -8.090169943749473,
          -8.910065241883679,
          -9.510565162951535,
          -9.876883405951377,
          -10,
          -9.876883405951379,
          -9.510565162951536,
          -8.910065241883679,
          -8.090169943749476,
          -7.071067811865477,
          -5.877852522924734,
          -4.539904997395469,
          -3.0901699437494767,
          -1.5643446504023113,
          -2.4492935982947065e-15,
          1.5643446504022973,
          3.090169943749472,
          4.539904997395474,
          5.877852522924729,
          7.071067811865467,
          8.090169943749473,
          8.91006524188368,
          9.510565162951535,
          9.876883405951375,
          10,
          9.876883405951377,
          9.510565162951536,
          8.910065241883684,
          8.090169943749476,
          7.071067811865471,
          5.877852522924734,
          4.539904997395479,
          3.090169943749478,
          1.5643446504023033,
          3.673940397442059e-15,
          -1.5643446504022962,
          -3.0901699437494705,
          -4.539904997395473,
          -5.877852522924728
         ]
        }
       ],
       "layout": {
        "scene": {
         "camera": {
          "center": {
           "x": 0,
           "y": 0,
           "z": 0
          },
          "eye": {
           "x": 1.5,
           "y": -1.5,
           "z": 1.5
          },
          "up": {
           "x": 0,
           "y": 0,
           "z": 1
          }
         }
        },
        "template": {
         "data": {
          "bar": [
           {
            "error_x": {
             "color": "#2a3f5f"
            },
            "error_y": {
             "color": "#2a3f5f"
            },
            "marker": {
             "line": {
              "color": "#E5ECF6",
              "width": 0.5
             },
             "pattern": {
              "fillmode": "overlay",
              "size": 10,
              "solidity": 0.2
             }
            },
            "type": "bar"
           }
          ],
          "barpolar": [
           {
            "marker": {
             "line": {
              "color": "#E5ECF6",
              "width": 0.5
             },
             "pattern": {
              "fillmode": "overlay",
              "size": 10,
              "solidity": 0.2
             }
            },
            "type": "barpolar"
           }
          ],
          "carpet": [
           {
            "aaxis": {
             "endlinecolor": "#2a3f5f",
             "gridcolor": "white",
             "linecolor": "white",
             "minorgridcolor": "white",
             "startlinecolor": "#2a3f5f"
            },
            "baxis": {
             "endlinecolor": "#2a3f5f",
             "gridcolor": "white",
             "linecolor": "white",
             "minorgridcolor": "white",
             "startlinecolor": "#2a3f5f"
            },
            "type": "carpet"
           }
          ],
          "choropleth": [
           {
            "colorbar": {
             "outlinewidth": 0,
             "ticks": ""
            },
            "type": "choropleth"
           }
          ],
          "contour": [
           {
            "colorbar": {
             "outlinewidth": 0,
             "ticks": ""
            },
            "colorscale": [
             [
              0,
              "#0d0887"
             ],
             [
              0.1111111111111111,
              "#46039f"
             ],
             [
              0.2222222222222222,
              "#7201a8"
             ],
             [
              0.3333333333333333,
              "#9c179e"
             ],
             [
              0.4444444444444444,
              "#bd3786"
             ],
             [
              0.5555555555555556,
              "#d8576b"
             ],
             [
              0.6666666666666666,
              "#ed7953"
             ],
             [
              0.7777777777777778,
              "#fb9f3a"
             ],
             [
              0.8888888888888888,
              "#fdca26"
             ],
             [
              1,
              "#f0f921"
             ]
            ],
            "type": "contour"
           }
          ],
          "contourcarpet": [
           {
            "colorbar": {
             "outlinewidth": 0,
             "ticks": ""
            },
            "type": "contourcarpet"
           }
          ],
          "heatmap": [
           {
            "colorbar": {
             "outlinewidth": 0,
             "ticks": ""
            },
            "colorscale": [
             [
              0,
              "#0d0887"
             ],
             [
              0.1111111111111111,
              "#46039f"
             ],
             [
              0.2222222222222222,
              "#7201a8"
             ],
             [
              0.3333333333333333,
              "#9c179e"
             ],
             [
              0.4444444444444444,
              "#bd3786"
             ],
             [
              0.5555555555555556,
              "#d8576b"
             ],
             [
              0.6666666666666666,
              "#ed7953"
             ],
             [
              0.7777777777777778,
              "#fb9f3a"
             ],
             [
              0.8888888888888888,
              "#fdca26"
             ],
             [
              1,
              "#f0f921"
             ]
            ],
            "type": "heatmap"
           }
          ],
          "heatmapgl": [
           {
            "colorbar": {
             "outlinewidth": 0,
             "ticks": ""
            },
            "colorscale": [
             [
              0,
              "#0d0887"
             ],
             [
              0.1111111111111111,
              "#46039f"
             ],
             [
              0.2222222222222222,
              "#7201a8"
             ],
             [
              0.3333333333333333,
              "#9c179e"
             ],
             [
              0.4444444444444444,
              "#bd3786"
             ],
             [
              0.5555555555555556,
              "#d8576b"
             ],
             [
              0.6666666666666666,
              "#ed7953"
             ],
             [
              0.7777777777777778,
              "#fb9f3a"
             ],
             [
              0.8888888888888888,
              "#fdca26"
             ],
             [
              1,
              "#f0f921"
             ]
            ],
            "type": "heatmapgl"
           }
          ],
          "histogram": [
           {
            "marker": {
             "pattern": {
              "fillmode": "overlay",
              "size": 10,
              "solidity": 0.2
             }
            },
            "type": "histogram"
           }
          ],
          "histogram2d": [
           {
            "colorbar": {
             "outlinewidth": 0,
             "ticks": ""
            },
            "colorscale": [
             [
              0,
              "#0d0887"
             ],
             [
              0.1111111111111111,
              "#46039f"
             ],
             [
              0.2222222222222222,
              "#7201a8"
             ],
             [
              0.3333333333333333,
              "#9c179e"
             ],
             [
              0.4444444444444444,
              "#bd3786"
             ],
             [
              0.5555555555555556,
              "#d8576b"
             ],
             [
              0.6666666666666666,
              "#ed7953"
             ],
             [
              0.7777777777777778,
              "#fb9f3a"
             ],
             [
              0.8888888888888888,
              "#fdca26"
             ],
             [
              1,
              "#f0f921"
             ]
            ],
            "type": "histogram2d"
           }
          ],
          "histogram2dcontour": [
           {
            "colorbar": {
             "outlinewidth": 0,
             "ticks": ""
            },
            "colorscale": [
             [
              0,
              "#0d0887"
             ],
             [
              0.1111111111111111,
              "#46039f"
             ],
             [
              0.2222222222222222,
              "#7201a8"
             ],
             [
              0.3333333333333333,
              "#9c179e"
             ],
             [
              0.4444444444444444,
              "#bd3786"
             ],
             [
              0.5555555555555556,
              "#d8576b"
             ],
             [
              0.6666666666666666,
              "#ed7953"
             ],
             [
              0.7777777777777778,
              "#fb9f3a"
             ],
             [
              0.8888888888888888,
              "#fdca26"
             ],
             [
              1,
              "#f0f921"
             ]
            ],
            "type": "histogram2dcontour"
           }
          ],
          "mesh3d": [
           {
            "colorbar": {
             "outlinewidth": 0,
             "ticks": ""
            },
            "type": "mesh3d"
           }
          ],
          "parcoords": [
           {
            "line": {
             "colorbar": {
              "outlinewidth": 0,
              "ticks": ""
             }
            },
            "type": "parcoords"
           }
          ],
          "pie": [
           {
            "automargin": true,
            "type": "pie"
           }
          ],
          "scatter": [
           {
            "fillpattern": {
             "fillmode": "overlay",
             "size": 10,
             "solidity": 0.2
            },
            "type": "scatter"
           }
          ],
          "scatter3d": [
           {
            "line": {
             "colorbar": {
              "outlinewidth": 0,
              "ticks": ""
             }
            },
            "marker": {
             "colorbar": {
              "outlinewidth": 0,
              "ticks": ""
             }
            },
            "type": "scatter3d"
           }
          ],
          "scattercarpet": [
           {
            "marker": {
             "colorbar": {
              "outlinewidth": 0,
              "ticks": ""
             }
            },
            "type": "scattercarpet"
           }
          ],
          "scattergeo": [
           {
            "marker": {
             "colorbar": {
              "outlinewidth": 0,
              "ticks": ""
             }
            },
            "type": "scattergeo"
           }
          ],
          "scattergl": [
           {
            "marker": {
             "colorbar": {
              "outlinewidth": 0,
              "ticks": ""
             }
            },
            "type": "scattergl"
           }
          ],
          "scattermapbox": [
           {
            "marker": {
             "colorbar": {
              "outlinewidth": 0,
              "ticks": ""
             }
            },
            "type": "scattermapbox"
           }
          ],
          "scatterpolar": [
           {
            "marker": {
             "colorbar": {
              "outlinewidth": 0,
              "ticks": ""
             }
            },
            "type": "scatterpolar"
           }
          ],
          "scatterpolargl": [
           {
            "marker": {
             "colorbar": {
              "outlinewidth": 0,
              "ticks": ""
             }
            },
            "type": "scatterpolargl"
           }
          ],
          "scatterternary": [
           {
            "marker": {
             "colorbar": {
              "outlinewidth": 0,
              "ticks": ""
             }
            },
            "type": "scatterternary"
           }
          ],
          "surface": [
           {
            "colorbar": {
             "outlinewidth": 0,
             "ticks": ""
            },
            "colorscale": [
             [
              0,
              "#0d0887"
             ],
             [
              0.1111111111111111,
              "#46039f"
             ],
             [
              0.2222222222222222,
              "#7201a8"
             ],
             [
              0.3333333333333333,
              "#9c179e"
             ],
             [
              0.4444444444444444,
              "#bd3786"
             ],
             [
              0.5555555555555556,
              "#d8576b"
             ],
             [
              0.6666666666666666,
              "#ed7953"
             ],
             [
              0.7777777777777778,
              "#fb9f3a"
             ],
             [
              0.8888888888888888,
              "#fdca26"
             ],
             [
              1,
              "#f0f921"
             ]
            ],
            "type": "surface"
           }
          ],
          "table": [
           {
            "cells": {
             "fill": {
              "color": "#EBF0F8"
             },
             "line": {
              "color": "white"
             }
            },
            "header": {
             "fill": {
              "color": "#C8D4E3"
             },
             "line": {
              "color": "white"
             }
            },
            "type": "table"
           }
          ]
         },
         "layout": {
          "annotationdefaults": {
           "arrowcolor": "#2a3f5f",
           "arrowhead": 0,
           "arrowwidth": 1
          },
          "autotypenumbers": "strict",
          "coloraxis": {
           "colorbar": {
            "outlinewidth": 0,
            "ticks": ""
           }
          },
          "colorscale": {
           "diverging": [
            [
             0,
             "#8e0152"
            ],
            [
             0.1,
             "#c51b7d"
            ],
            [
             0.2,
             "#de77ae"
            ],
            [
             0.3,
             "#f1b6da"
            ],
            [
             0.4,
             "#fde0ef"
            ],
            [
             0.5,
             "#f7f7f7"
            ],
            [
             0.6,
             "#e6f5d0"
            ],
            [
             0.7,
             "#b8e186"
            ],
            [
             0.8,
             "#7fbc41"
            ],
            [
             0.9,
             "#4d9221"
            ],
            [
             1,
             "#276419"
            ]
           ],
           "sequential": [
            [
             0,
             "#0d0887"
            ],
            [
             0.1111111111111111,
             "#46039f"
            ],
            [
             0.2222222222222222,
             "#7201a8"
            ],
            [
             0.3333333333333333,
             "#9c179e"
            ],
            [
             0.4444444444444444,
             "#bd3786"
            ],
            [
             0.5555555555555556,
             "#d8576b"
            ],
            [
             0.6666666666666666,
             "#ed7953"
            ],
            [
             0.7777777777777778,
             "#fb9f3a"
            ],
            [
             0.8888888888888888,
             "#fdca26"
            ],
            [
             1,
             "#f0f921"
            ]
           ],
           "sequentialminus": [
            [
             0,
             "#0d0887"
            ],
            [
             0.1111111111111111,
             "#46039f"
            ],
            [
             0.2222222222222222,
             "#7201a8"
            ],
            [
             0.3333333333333333,
             "#9c179e"
            ],
            [
             0.4444444444444444,
             "#bd3786"
            ],
            [
             0.5555555555555556,
             "#d8576b"
            ],
            [
             0.6666666666666666,
             "#ed7953"
            ],
            [
             0.7777777777777778,
             "#fb9f3a"
            ],
            [
             0.8888888888888888,
             "#fdca26"
            ],
            [
             1,
             "#f0f921"
            ]
           ]
          },
          "colorway": [
           "#636efa",
           "#EF553B",
           "#00cc96",
           "#ab63fa",
           "#FFA15A",
           "#19d3f3",
           "#FF6692",
           "#B6E880",
           "#FF97FF",
           "#FECB52"
          ],
          "font": {
           "color": "#2a3f5f"
          },
          "geo": {
           "bgcolor": "white",
           "lakecolor": "white",
           "landcolor": "#E5ECF6",
           "showlakes": true,
           "showland": true,
           "subunitcolor": "white"
          },
          "hoverlabel": {
           "align": "left"
          },
          "hovermode": "closest",
          "mapbox": {
           "style": "light"
          },
          "paper_bgcolor": "white",
          "plot_bgcolor": "#E5ECF6",
          "polar": {
           "angularaxis": {
            "gridcolor": "white",
            "linecolor": "white",
            "ticks": ""
           },
           "bgcolor": "#E5ECF6",
           "radialaxis": {
            "gridcolor": "white",
            "linecolor": "white",
            "ticks": ""
           }
          },
          "scene": {
           "xaxis": {
            "backgroundcolor": "#E5ECF6",
            "gridcolor": "white",
            "gridwidth": 2,
            "linecolor": "white",
            "showbackground": true,
            "ticks": "",
            "zerolinecolor": "white"
           },
           "yaxis": {
            "backgroundcolor": "#E5ECF6",
            "gridcolor": "white",
            "gridwidth": 2,
            "linecolor": "white",
            "showbackground": true,
            "ticks": "",
            "zerolinecolor": "white"
           },
           "zaxis": {
            "backgroundcolor": "#E5ECF6",
            "gridcolor": "white",
            "gridwidth": 2,
            "linecolor": "white",
            "showbackground": true,
            "ticks": "",
            "zerolinecolor": "white"
           }
          },
          "shapedefaults": {
           "line": {
            "color": "#2a3f5f"
           }
          },
          "ternary": {
           "aaxis": {
            "gridcolor": "white",
            "linecolor": "white",
            "ticks": ""
           },
           "baxis": {
            "gridcolor": "white",
            "linecolor": "white",
            "ticks": ""
           },
           "bgcolor": "#E5ECF6",
           "caxis": {
            "gridcolor": "white",
            "linecolor": "white",
            "ticks": ""
           }
          },
          "title": {
           "x": 0.05
          },
          "xaxis": {
           "automargin": true,
           "gridcolor": "white",
           "linecolor": "white",
           "ticks": "",
           "title": {
            "standoff": 15
           },
           "zerolinecolor": "white",
           "zerolinewidth": 2
          },
          "yaxis": {
           "automargin": true,
           "gridcolor": "white",
           "linecolor": "white",
           "ticks": "",
           "title": {
            "standoff": 15
           },
           "zerolinecolor": "white",
           "zerolinewidth": 2
          }
         }
        }
       }
      }
     },
     "metadata": {},
     "output_type": "display_data"
    }
   ],
   "source": [
    "R = 10\n",
    "resolution = 20\n",
    "interval = math.pi * 2 / resolution\n",
    "phi_interval = math.pi / resolution  # A new interval for the vertical angle\n",
    "\n",
    "pts = []\n",
    "for i in range(resolution):\n",
    "    t = interval * i  # Angle around the circle\n",
    "    for j in range(75):\n",
    "        phi = phi_interval * j - math.pi / 2  # Vertical angle (from -pi/2 to pi/2)\n",
    "        x = R * math.cos(t) * math.cos(phi)\n",
    "        y = R * math.sin(t) * math.cos(phi)\n",
    "        z = R * math.sin(phi)  # z is determined by the vertical angle\n",
    "        pts.append([x, y, z])\n",
    "\n",
    "rendering3D(pts)"
   ]
  },
  {
   "cell_type": "code",
   "execution_count": null,
   "metadata": {},
   "outputs": [],
   "source": []
  },
  {
   "cell_type": "code",
   "execution_count": 17,
   "metadata": {},
   "outputs": [
    {
     "data": {
      "image/png": "[encoded data removed]",
      "text/plain": [
       "<Figure size 640x480 with 1 Axes>"
      ]
     },
     "metadata": {},
     "output_type": "display_data"
    }
   ],
   "source": [
    "p0 = [0, 0, 0]\n",
    "p1 = [1, 0, 0]\n",
    "\n",
    "pts = []\n",
    "for i in range(10):\n",
    "    t = i * 0.1\n",
    "    x = p0[0] + (p1[0] - p0[0]) * math.pow(t, 2)\n",
    "    y = p0[1] + (p1[1] - p0[1]) * math.pow(t, 2)\n",
    "    z = p0[2] + (p1[2] - p0[2]) * math.pow(t, 2)\n",
    "    p = [x,y,z]\n",
    "    pts.append(p)\n",
    "\n",
    "rendering2D(pts)"
   ]
  },
  {
   "cell_type": "code",
   "execution_count": 18,
   "metadata": {},
   "outputs": [
    {
     "data": {
      "image/png": "[encoded data removed]",
      "text/plain": [
       "<Figure size 640x480 with 1 Axes>"
      ]
     },
     "metadata": {},
     "output_type": "display_data"
    }
   ],
   "source": [
    "p0 = [0, 0, 0]\n",
    "p1 = [1, 0, 0]\n",
    "\n",
    "pts = []\n",
    "for i in range(10):\n",
    "    t = i * 0.1\n",
    "    x = p0[0] + (p1[0] - p0[0]) * t\n",
    "    y = p0[1] + (p1[1] - p0[1]) * t\n",
    "    z = p0[2] + (p1[2] - p0[2]) * t\n",
    "    p = [x,y,z]\n",
    "    pts.append(p)\n",
    "\n",
    "rendering2D(pts)"
   ]
  },
  {
   "cell_type": "markdown",
   "metadata": {},
   "source": [
    "Evaluate curve\n",
    "* Domain of curve [the starting point, the end point]\n",
    "* Closest point\n",
    "* Tangent\n",
    "* Length \n",
    "\n",
    "Osculating plane and the binormal\n",
    "Osculating Circle\n",
    "principal normal\n",
    "\n",
    "Curvature\n",
    "\n",
    "moving Frame\n",
    "\n",
    "torsion"
   ]
  },
  {
   "cell_type": "code",
   "execution_count": null,
   "metadata": {},
   "outputs": [],
   "source": []
  },
  {
   "cell_type": "code",
   "execution_count": null,
   "metadata": {},
   "outputs": [],
   "source": []
  },
  {
   "cell_type": "code",
   "execution_count": null,
   "metadata": {},
   "outputs": [],
   "source": []
  },
  {
   "cell_type": "code",
   "execution_count": null,
   "metadata": {},
   "outputs": [],
   "source": []
  },
  {
   "cell_type": "code",
   "execution_count": 9,
   "metadata": {},
   "outputs": [
    {
     "data": {
      "image/png": "[encoded data removed]",
      "text/plain": [
       "<Figure size 640x480 with 1 Axes>"
      ]
     },
     "metadata": {},
     "output_type": "display_data"
    }
   ],
   "source": [
    "import matplotlib.pyplot as plt\n",
    "import numpy as np\n",
    "\n",
    "# 벡터 정의 (예: 벡터 (2, 3))\n",
    "vector = np.array([2, 3])\n",
    "\n",
    "# 벡터를 그리기 위한 원점 설정\n",
    "origin = np.array([0, 0])\n",
    "\n",
    "# 플롯 설정\n",
    "plt.quiver(origin[0], origin[1], vector[0], vector[1], angles='xy', scale_units='xy', scale=1, color='b')\n",
    "\n",
    "# 축의 범위 설정\n",
    "plt.xlim(-5, 5)\n",
    "plt.ylim(-5, 5)\n",
    "\n",
    "# 축 비율을 동일하게 설정\n",
    "plt.gca().set_aspect('equal', adjustable='box')\n",
    "\n",
    "# 그리드 표시\n",
    "plt.grid(True)\n",
    "\n",
    "# 레이블 추가\n",
    "plt.title(\"2D Vector\")\n",
    "plt.xlabel(\"X-axis\")\n",
    "plt.ylabel(\"Y-axis\")\n",
    "\n",
    "# 그래프 출력\n",
    "plt.show()"
   ]
  },
  {
   "cell_type": "markdown",
   "metadata": {},
   "source": [
    "## Additional Reading and Resources\n",
    "* Rhino Grasshopper Python Challenge - https://computationaldesign.tistory.com/25\n",
    "* python documentation(3.x) - https://docs.python.org/3/\n",
    "* codecademy - https://www.codecademy.com/learn/learn-python-3\n",
    "* Think Python - https://www.greenteapress.com/thinkpython/thinkpython.pdf"
   ]
  },
  {
   "cell_type": "markdown",
   "metadata": {},
   "source": []
  }
 ],
 "metadata": {
  "anaconda-cloud": {},
  "colab": {
   "collapsed_sections": [
    "IXA3blepfn6_"
   ],
   "name": "Workshop_1_PythonBasic.ipynb",
   "provenance": [
    {
     "file_id": "167REEeyGBzQfegmXh289kbJjctbVVHVj",
     "timestamp": 1591310560561
    }
   ],
   "toc_visible": true
  },
  "kernelspec": {
   "display_name": "torch-2024",
   "language": "python",
   "name": "python3"
  },
  "language_info": {
   "codemirror_mode": {
    "name": "ipython",
    "version": 3
   },
   "file_extension": ".py",
   "mimetype": "text/x-python",
   "name": "python",
   "nbconvert_exporter": "python",
   "pygments_lexer": "ipython3",
   "version": "3.12.2"
  }
 },
 "nbformat": 4,
 "nbformat_minor": 0
}
