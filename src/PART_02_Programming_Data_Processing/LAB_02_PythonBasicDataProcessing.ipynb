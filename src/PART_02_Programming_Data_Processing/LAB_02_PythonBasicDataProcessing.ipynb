{
 "cells": [
  {
   "attachments": {},
   "cell_type": "markdown",
   "metadata": {},
   "source": [
    "# **Data in Design**\n",
    "\n",
    "Design Science, AI ML Data-Driven, Agent-based, Parametric, Generative, Algorithmic Design\n",
    "\n",
    "This course is designed for designers who aim to use data as design materials. Throughout the coursework, students will explore the foundational concepts of design data, such as vectors and rasters, across various scales—from urban and architectural levels to product design. The course emphasizes the integration of computational thinking into the design process, positioning it as a core methodology for utilizing data as a creative resource. Software and code are introduced as essential tools for this approach.\n",
    "\n",
    "-----\n",
    "\n",
    "#### Instructor : NJ Namju Lee / nj.namju@gmail.com  \n",
    "###### * Linkedin - https://www.linkedin.com/in/nj-namju-lee-926b3252/    * Git - https://github.com/NamjuLee  \n",
    "\n",
    "###### * Web - https://namjulee.github.io/njs-lab-public/\n",
    "\n",
    "###### * Video(English) - https://www.youtube.com/c/njnamjulee            * Writing(English) - https://medium.com/@nj-namju  \n",
    "\n",
    "###### * Video(Korean) - https://www.youtube.com/c/CodeforDesign          * Writing(Korean) - https://brunch.co.kr/@njnamju  \n",
    "-----\n",
    "\n",
    "Installation - https://namjulee.github.io/njs-lab-public/installation"
   ]
  },
  {
   "attachments": {},
   "cell_type": "markdown",
   "metadata": {
    "colab_type": "text",
    "id": "usSEinGXfn4G"
   },
   "source": [
    "--- \n",
    "\n",
    "PART 02 Programming Data Processing\n",
    "\n",
    "# LAB 02 Python basic Data Processing\n",
    "\n",
    "Basic Syntax"
   ]
  },
  {
   "cell_type": "markdown",
   "metadata": {},
   "source": [
    "## Series"
   ]
  },
  {
   "cell_type": "code",
   "execution_count": 1,
   "metadata": {},
   "outputs": [
    {
     "name": "stdout",
     "output_type": "stream",
     "text": [
      "[3, 13, 23, 33]\n"
     ]
    }
   ],
   "source": [
    "S = 3\n",
    "N = 10\n",
    "C = 4\n",
    "\n",
    "\n",
    "outList = [];\n",
    "for i in range(C):\n",
    "    result = S + ( i * N  )\n",
    "    outList.append(result);\n",
    "\n",
    "a = outList\n",
    "print(a)"
   ]
  },
  {
   "cell_type": "code",
   "execution_count": 2,
   "metadata": {},
   "outputs": [],
   "source": [
    "# your code here\n"
   ]
  },
  {
   "attachments": {},
   "cell_type": "markdown",
   "metadata": {},
   "source": [
    "## Domain"
   ]
  },
  {
   "cell_type": "code",
   "execution_count": 3,
   "metadata": {
    "colab": {
     "base_uri": "https://localhost:8080/",
     "height": 34
    },
    "colab_type": "code",
    "executionInfo": {
     "elapsed": 387,
     "status": "ok",
     "timestamp": 1593321633254,
     "user": {
      "displayName": "NJ Namju Lee",
      "photoUrl": "https://lh3.googleusercontent.com/a-/AOh14Gjvks2C9r68os2PwVEqH9Ixq984-B0ve7_m2TKX=s64",
      "userId": "16295147332366476859"
     },
     "user_tz": 420
    },
    "id": "mTlCmHAOfn4I",
    "outputId": "a882b9f5-8bc5-4a33-a469-847cb08d3aa2"
   },
   "outputs": [
    {
     "name": "stdout",
     "output_type": "stream",
     "text": [
      "[-5.6, -4.2749999999999995, -2.9499999999999997, -1.625, -0.2999999999999998, 1.0250000000000004, 2.3499999999999996, 3.6750000000000007, 5.0]\n"
     ]
    }
   ],
   "source": [
    "A = -5.6\n",
    "B = 5.0\n",
    "N = 8\n",
    "\n",
    "interval = (B - A) / N\n",
    "\n",
    "outList = [];\n",
    "for i in range(N + 1):\n",
    "    result = A + ( i * interval ) \n",
    "    outList.append(result);\n",
    "\n",
    "a = outList\n",
    "print(a)"
   ]
  },
  {
   "cell_type": "code",
   "execution_count": 4,
   "metadata": {
    "colab": {},
    "colab_type": "code",
    "id": "plAgegw-fn4N"
   },
   "outputs": [],
   "source": [
    "# your code here\n"
   ]
  },
  {
   "cell_type": "markdown",
   "metadata": {},
   "source": [
    "## Remap"
   ]
  },
  {
   "cell_type": "code",
   "execution_count": 5,
   "metadata": {
    "colab": {
     "base_uri": "https://localhost:8080/",
     "height": 85
    },
    "colab_type": "code",
    "executionInfo": {
     "elapsed": 434,
     "status": "ok",
     "timestamp": 1593321814828,
     "user": {
      "displayName": "NJ Namju Lee",
      "photoUrl": "https://lh3.googleusercontent.com/a-/AOh14Gjvks2C9r68os2PwVEqH9Ixq984-B0ve7_m2TKX=s64",
      "userId": "16295147332366476859"
     },
     "user_tz": 420
    },
    "id": "tv6KeiOafn4R",
    "outputId": "53f2c957-3e7f-4afe-9313-b5cb749eedc1"
   },
   "outputs": [
    {
     "name": "stdout",
     "output_type": "stream",
     "text": [
      "41.12\n"
     ]
    }
   ],
   "source": [
    "V = 8\n",
    "sMin = 0.0;\n",
    "sMax = 10.00\n",
    "tMin = 0;\n",
    "tMax = 51.4\n",
    "\n",
    "result  = (((V - sMin) * (tMax - tMin)) / (sMax - sMin)) + tMin;\n",
    "print(result)"
   ]
  },
  {
   "cell_type": "code",
   "execution_count": 6,
   "metadata": {
    "colab": {
     "base_uri": "https://localhost:8080/",
     "height": 34
    },
    "colab_type": "code",
    "executionInfo": {
     "elapsed": 468,
     "status": "ok",
     "timestamp": 1593311033597,
     "user": {
      "displayName": "NJ Namju Lee",
      "photoUrl": "https://lh3.googleusercontent.com/a-/AOh14Gjvks2C9r68os2PwVEqH9Ixq984-B0ve7_m2TKX=s64",
      "userId": "16295147332366476859"
     },
     "user_tz": 420
    },
    "id": "Ahm0mM4Gfn4W",
    "outputId": "d6c75238-fad7-481e-ebd9-04a8e752bb35"
   },
   "outputs": [],
   "source": [
    "# your code here\n",
    "\n"
   ]
  },
  {
   "cell_type": "markdown",
   "metadata": {},
   "source": [
    "## Random"
   ]
  },
  {
   "cell_type": "code",
   "execution_count": 7,
   "metadata": {},
   "outputs": [
    {
     "name": "stdout",
     "output_type": "stream",
     "text": [
      "0.47122730155920267\n"
     ]
    }
   ],
   "source": [
    "import random\n",
    "\n",
    "myNum = random.random()\n",
    "print(myNum)"
   ]
  },
  {
   "cell_type": "code",
   "execution_count": 8,
   "metadata": {},
   "outputs": [
    {
     "name": "stdout",
     "output_type": "stream",
     "text": [
      "-1.2188426219749844\n"
     ]
    }
   ],
   "source": [
    "theMin = -3\n",
    "theMax = 2\n",
    "\n",
    "myNum = (random.random() * (theMax- theMin)) + theMin\n",
    "print(myNum)"
   ]
  },
  {
   "cell_type": "code",
   "execution_count": 9,
   "metadata": {},
   "outputs": [],
   "source": [
    "# your code here\n",
    "\n",
    "\n"
   ]
  },
  {
   "cell_type": "code",
   "execution_count": 10,
   "metadata": {},
   "outputs": [
    {
     "name": "stdout",
     "output_type": "stream",
     "text": [
      "['D event', 'D event', 'D event', 'D event', 'D event', 'D event', 'C event', 'C event', 'C event', 'D event', 'A event', 'C event', 'D event', 'D event', 'C event', 'D event', 'D event', 'C event', 'D event', 'D event', 'D event', 'D event', 'D event', 'D event', 'D event', 'C event', 'C event', 'D event', 'C event', 'D event', 'D event', 'D event', 'C event', 'D event', 'D event', 'A event', 'D event', 'D event', 'D event', 'A event', 'D event', 'D event', 'D event', 'C event', 'D event', 'A event', 'D event', 'D event', 'C event', 'C event', 'A event', 'D event', 'D event', 'C event', 'D event', 'D event', 'D event', 'D event', 'D event', 'D event', 'D event', 'D event', 'C event', 'D event', 'D event', 'A event', 'D event', 'D event', 'D event', 'D event', 'D event', 'D event', 'D event', 'D event', 'D event', 'D event', 'D event', 'D event', 'D event', 'D event', 'D event', 'C event', 'C event', 'D event', 'D event', 'D event', 'C event', 'D event', 'D event', 'D event', 'C event', 'D event', 'D event', 'D event', 'D event', 'D event', 'D event', 'D event', 'D event', 'C event']\n"
     ]
    }
   ],
   "source": [
    "# random.seed(2)\n",
    "result = []\n",
    "for i in range(100):\n",
    "    rnd = random.random()\n",
    "    if rnd < 0.1:\n",
    "        result.append('A event')\n",
    "        \n",
    "        rnd2 = random.random()\n",
    "        if rnd2 < 0.1:\n",
    "            result.append('B event')\n",
    "        \n",
    "    elif 0.1 <= rnd < 0.3:\n",
    "        result.append('C event')\n",
    "    else:\n",
    "        result.append('D event')\n",
    "print(result)"
   ]
  },
  {
   "cell_type": "code",
   "execution_count": 11,
   "metadata": {},
   "outputs": [
    {
     "name": "stdout",
     "output_type": "stream",
     "text": [
      "D event: 74 times or %\n",
      "C event: 20 times or %\n",
      "A event: 6 times or %\n"
     ]
    }
   ],
   "source": [
    "from collections import Counter\n",
    "event_counts = Counter(result)\n",
    "\n",
    "# 결과 출력\n",
    "for event, count in event_counts.items():\n",
    "    print(f\"{event}: {count} times or %\")"
   ]
  },
  {
   "cell_type": "code",
   "execution_count": 12,
   "metadata": {},
   "outputs": [],
   "source": [
    "# your code here\n",
    "\n",
    "\n"
   ]
  },
  {
   "cell_type": "code",
   "execution_count": 13,
   "metadata": {},
   "outputs": [
    {
     "data": {
      "image/png": "[encoded data removed]",
      "text/plain": [
       "<Figure size 640x480 with 1 Axes>"
      ]
     },
     "metadata": {},
     "output_type": "display_data"
    }
   ],
   "source": [
    "mean = 3\n",
    "std = 13\n",
    "\n",
    "num = 1000\n",
    "\n",
    "data = []\n",
    "y = []\n",
    "\n",
    "\n",
    "for i in range(num):\n",
    "    d = random.normalvariate(mean, std)\n",
    "    data.append(d)\n",
    "    y.append(i* 0.001)\n",
    "\n",
    "a = data\n",
    "b = y\n",
    "\n",
    "\n",
    "\n",
    "import matplotlib.pyplot as plt\n",
    "\n",
    "plt.hist(data, bins=10, edgecolor='black')\n",
    "plt.title('Histogram of Data')\n",
    "plt.xlabel('Value')\n",
    "plt.ylabel('Frequency')\n",
    "plt.show()"
   ]
  },
  {
   "cell_type": "markdown",
   "metadata": {},
   "source": [
    "# item"
   ]
  },
  {
   "cell_type": "code",
   "execution_count": 14,
   "metadata": {},
   "outputs": [
    {
     "name": "stdout",
     "output_type": "stream",
     "text": [
      "c\n"
     ]
    }
   ],
   "source": [
    "i = 10\n",
    "L = ['a', 'b', 'c', 'd', 1, 2, 3, 4];\n",
    "W = True;\n",
    "\n",
    "if W == True:\n",
    "    print(L[int(i % len(L))]);\n",
    "else :\n",
    "    try:\n",
    "        print(L[i])\n",
    "    except:\n",
    "        print('out of range');"
   ]
  },
  {
   "cell_type": "code",
   "execution_count": 15,
   "metadata": {
    "colab": {},
    "colab_type": "code",
    "id": "4wOvZ1gofn4h"
   },
   "outputs": [],
   "source": [
    "# your code here\n",
    "\n",
    "\n"
   ]
  },
  {
   "cell_type": "markdown",
   "metadata": {
    "colab_type": "text",
    "id": "FSTvxn-Rfn4l"
   },
   "source": [
    "## Split strings"
   ]
  },
  {
   "cell_type": "code",
   "execution_count": 16,
   "metadata": {
    "colab": {
     "base_uri": "https://localhost:8080/",
     "height": 34
    },
    "colab_type": "code",
    "executionInfo": {
     "elapsed": 340,
     "status": "ok",
     "timestamp": 1593322117433,
     "user": {
      "displayName": "NJ Namju Lee",
      "photoUrl": "https://lh3.googleusercontent.com/a-/AOh14Gjvks2C9r68os2PwVEqH9Ixq984-B0ve7_m2TKX=s64",
      "userId": "16295147332366476859"
     },
     "user_tz": 420
    },
    "id": "SRseSy7zfn4m",
    "outputId": "c41878b9-49f6-42d6-a0ee-74f20fff6838"
   },
   "outputs": [
    {
     "data": {
      "text/plain": [
       "['Hello', ' This is NJ.']"
      ]
     },
     "execution_count": 16,
     "metadata": {},
     "output_type": "execute_result"
    }
   ],
   "source": [
    "T = 'Hello, This is NJ.'\n",
    "outList = [];\n",
    "for i in T.split(\",\"):\n",
    "    outList.append(i);\n",
    "\n",
    "a = outList;\n",
    "a"
   ]
  },
  {
   "cell_type": "code",
   "execution_count": 17,
   "metadata": {
    "colab": {},
    "colab_type": "code",
    "id": "SVdi1mBvfn4q"
   },
   "outputs": [],
   "source": [
    "# your code here\n",
    "\n",
    "\n"
   ]
  },
  {
   "cell_type": "markdown",
   "metadata": {},
   "source": [
    "## Reverse String data"
   ]
  },
  {
   "cell_type": "code",
   "execution_count": 18,
   "metadata": {
    "colab": {
     "base_uri": "https://localhost:8080/",
     "height": 34
    },
    "colab_type": "code",
    "executionInfo": {
     "elapsed": 313,
     "status": "ok",
     "timestamp": 1593322214222,
     "user": {
      "displayName": "NJ Namju Lee",
      "photoUrl": "https://lh3.googleusercontent.com/a-/AOh14Gjvks2C9r68os2PwVEqH9Ixq984-B0ve7_m2TKX=s64",
      "userId": "16295147332366476859"
     },
     "user_tz": 420
    },
    "id": "TXodNKFrfn4t",
    "outputId": "e2198a0b-4e1d-4c80-ffbe-bb245c4b5c47"
   },
   "outputs": [
    {
     "name": "stdout",
     "output_type": "stream",
     "text": [
      "dlroWolleh\n"
     ]
    }
   ],
   "source": [
    "newTextArray = [];\n",
    "txt = 'helloWorld';\n",
    "textOut = ''\n",
    "\n",
    "for i in txt:\n",
    "  newTextArray.append(i)\n",
    "\n",
    "for i in range( int(len(newTextArray) / 2)):\n",
    "  temp = newTextArray[i];\n",
    "  newTextArray[i] = newTextArray[len(newTextArray) - i - 1];\n",
    "  newTextArray[len(newTextArray) - i - 1] = temp;\n",
    "\n",
    "for i in newTextArray:\n",
    "  textOut+= i\n",
    "\n",
    "print(textOut)\n"
   ]
  },
  {
   "cell_type": "code",
   "execution_count": 19,
   "metadata": {},
   "outputs": [
    {
     "name": "stdout",
     "output_type": "stream",
     "text": [
      "dlroWolleh\n"
     ]
    }
   ],
   "source": [
    "txt = 'helloWorld';\n",
    "\n",
    "txtReverse = txt[::-1]\n",
    "\n",
    "print(txtReverse)"
   ]
  },
  {
   "cell_type": "code",
   "execution_count": 20,
   "metadata": {
    "colab": {},
    "colab_type": "code",
    "id": "RPjydCuPfn4w"
   },
   "outputs": [],
   "source": [
    "# your code here\n",
    "\n"
   ]
  },
  {
   "cell_type": "markdown",
   "metadata": {},
   "source": []
  },
  {
   "cell_type": "code",
   "execution_count": 33,
   "metadata": {},
   "outputs": [],
   "source": [
    "import random\n",
    "\n",
    "L = [i * 4 for i in range(100)]\n",
    "J = 0.5\n",
    "S = 1\n",
    "\n",
    "random.seed()\n",
    "\n",
    "dis = len(L) * J\n",
    "d = []\n",
    "\n",
    "indexList = []\n",
    "for i in range(len(L)):\n",
    "    minV = max(i - dis, 0)\n",
    "    maxV = min(i + dis, len(L))\n",
    "    val = random.uniform(minV, maxV)\n",
    "    d.append(val)\n",
    "    indexList.append(i)\n",
    "\n",
    "\n",
    "\n",
    "sortedData = sorted(zip(d, L))\n",
    "\n",
    "sortedData = [ val for (index, val) in sortedData] \n",
    "\n",
    "a = d\n",
    "\n",
    "b = sortedData\n",
    "data= b\n",
    "\n"
   ]
  },
  {
   "cell_type": "code",
   "execution_count": 34,
   "metadata": {},
   "outputs": [
    {
     "data": {
      "image/png": "[encoded data removed]",
      "text/plain": [
       "<Figure size 800x600 with 1 Axes>"
      ]
     },
     "metadata": {},
     "output_type": "display_data"
    }
   ],
   "source": [
    "plt.figure(figsize=(8, 6))\n",
    "plt.plot(range(len(data)), data, marker='o', color='blue', linestyle='-', markersize=6)\n",
    "plt.title('Line Plot with Data Points')\n",
    "plt.xlabel('Index')\n",
    "plt.ylabel('Value')\n",
    "plt.grid(True)\n",
    "plt.show()"
   ]
  },
  {
   "cell_type": "code",
   "execution_count": 35,
   "metadata": {},
   "outputs": [],
   "source": [
    "# your code here\n",
    "\n"
   ]
  },
  {
   "cell_type": "markdown",
   "metadata": {},
   "source": [
    "# GH Stack component"
   ]
  },
  {
   "cell_type": "code",
   "execution_count": 38,
   "metadata": {},
   "outputs": [
    {
     "name": "stdout",
     "output_type": "stream",
     "text": [
      "0\n",
      "1\n",
      "1\n",
      "1\n",
      "1\n",
      "2\n",
      "2\n",
      "3\n",
      "4\n",
      "4\n",
      "4\n",
      "4\n",
      "5\n",
      "5\n",
      "6\n"
     ]
    },
    {
     "data": {
      "text/plain": [
       "[0, 1, 1, 1, 1, 2, 2, 3, 4, 4, 4, 4, 5, 5, 6]"
      ]
     },
     "execution_count": 38,
     "metadata": {},
     "output_type": "execute_result"
    }
   ],
   "source": [
    "D = [i for i in range(7)]\n",
    "S = [1, 4, 2]\n",
    "\n",
    "subIndex = 0\n",
    "d = []\n",
    "\n",
    "for i in range(len(D)):\n",
    "    val = D[i]\n",
    "    \n",
    "    if subIndex == len(S):\n",
    "        subIndex = 0\n",
    "    \n",
    "    \n",
    "    for j in range(S[subIndex]):\n",
    "        print(val)\n",
    "        d.append(val)\n",
    "    \n",
    "    subIndex += 1\n",
    "\n",
    "a  = d\n",
    "a"
   ]
  },
  {
   "cell_type": "markdown",
   "metadata": {},
   "source": [
    "## Fibonacci numbers"
   ]
  },
  {
   "cell_type": "code",
   "execution_count": 39,
   "metadata": {},
   "outputs": [
    {
     "name": "stdout",
     "output_type": "stream",
     "text": [
      "0\n",
      "1\n",
      "2\n",
      "3\n",
      "4\n",
      "5\n",
      "6\n"
     ]
    },
    {
     "data": {
      "text/plain": [
       "[3, 6, 9, 15, 24, 39, 63, 102, 165]"
      ]
     },
     "execution_count": 39,
     "metadata": {},
     "output_type": "execute_result"
    }
   ],
   "source": [
    "A = 3\n",
    "B = 6\n",
    "N = 7\n",
    "\n",
    "d = [A, B]\n",
    "\n",
    "for i in range(N):\n",
    "    print(i)\n",
    "    result = d[-2] + d[-1]\n",
    "    d.append(result)\n",
    "\n",
    "a = d\n",
    "a"
   ]
  },
  {
   "cell_type": "code",
   "execution_count": 40,
   "metadata": {},
   "outputs": [],
   "source": [
    "# your code here\n",
    "\n"
   ]
  },
  {
   "cell_type": "markdown",
   "metadata": {},
   "source": [
    "## Cull index"
   ]
  },
  {
   "cell_type": "code",
   "execution_count": 46,
   "metadata": {},
   "outputs": [
    {
     "data": {
      "text/plain": [
       "[0, 1, 3, 4, 5, 6, 7, 8, 9]"
      ]
     },
     "execution_count": 46,
     "metadata": {},
     "output_type": "execute_result"
    }
   ],
   "source": [
    "L = [i for i in range(10)]\n",
    "I = 2\n",
    "\n",
    "d = []\n",
    "for i in range(len(L)):\n",
    "    \n",
    "    if i == I:\n",
    "        continue\n",
    "    \n",
    "    data = L[i]\n",
    "    d.append(data)\n",
    "\n",
    "a = d\n",
    "a"
   ]
  },
  {
   "cell_type": "markdown",
   "metadata": {},
   "source": [
    "# Random reduce"
   ]
  },
  {
   "cell_type": "code",
   "execution_count": 55,
   "metadata": {},
   "outputs": [
    {
     "name": "stdout",
     "output_type": "stream",
     "text": [
      "[0, 1, 3, 5, 6, 9]\n"
     ]
    }
   ],
   "source": [
    "L = [i for i in range(10)]\n",
    "R = 4\n",
    "S = 0\n",
    "\n",
    "random.seed(S)\n",
    "\n",
    "if R == 0:\n",
    "    a = L[:]\n",
    "else:\n",
    "    indexRandom = []\n",
    "    listLength = len(L)\n",
    "    count = 0\n",
    "    while True:\n",
    "        \n",
    "        index = int(random.random() * listLength)\n",
    "        \n",
    "        if index not in indexRandom:\n",
    "            indexRandom.append(index)\n",
    "        \n",
    "        if len(indexRandom) >= R:\n",
    "            break\n",
    "        \n",
    "        if count >= 100:\n",
    "            break\n",
    "        count += 1\n",
    "    \n",
    "    # print(indexRandom)\n",
    "    # print(count)\n",
    "    \n",
    "    \n",
    "    d = []\n",
    "    for i in range(len(L)):\n",
    "        \n",
    "        needAppend = True\n",
    "        for j in indexRandom:\n",
    "            if i == j:\n",
    "                needAppend = False\n",
    "                break\n",
    "        if needAppend:\n",
    "            d.append(L[i])\n",
    "    \n",
    "    a = d\n",
    "\n",
    "    print(a)"
   ]
  },
  {
   "cell_type": "markdown",
   "metadata": {},
   "source": [
    "## Index Partition"
   ]
  },
  {
   "cell_type": "markdown",
   "metadata": {},
   "source": []
  },
  {
   "cell_type": "code",
   "execution_count": 59,
   "metadata": {},
   "outputs": [
    {
     "name": "stdout",
     "output_type": "stream",
     "text": [
      "h\n",
      "e\n",
      "l\n",
      "l\n",
      "o\n",
      " \n",
      "w\n",
      "o\n",
      "r\n",
      "l\n",
      "d\n"
     ]
    },
    {
     "data": {
      "text/plain": [
       "[['h', 'e', 'l'], ['l', 'o'], [' '], ['w', 'o', 'r'], ['l', 'd'], []]"
      ]
     },
     "execution_count": 59,
     "metadata": {},
     "output_type": "execute_result"
    }
   ],
   "source": [
    "L = 'hello world'\n",
    "S = [3, 2, 1]\n",
    "\n",
    "indexOut = 0\n",
    "indexin = 0\n",
    "\n",
    "ListOut = []\n",
    "ListIn = []\n",
    "\n",
    "for i in range(len(L)):\n",
    "    char = L[i]\n",
    "    ListIn.append(char)\n",
    "    print(char)\n",
    "    indexin += 1\n",
    "    if (indexin == S[indexOut]):\n",
    "        indexin = 0\n",
    "        indexOut += 1\n",
    "        indexOut = indexOut % len(S)\n",
    "        ListOut.append(ListIn)\n",
    "        ListIn = []\n",
    "    if i == len(L) -1:\n",
    "        ListOut.append(ListIn)\n",
    "\n",
    "a = ListOut\n",
    "a"
   ]
  },
  {
   "cell_type": "code",
   "execution_count": 60,
   "metadata": {},
   "outputs": [],
   "source": [
    "# your code here\n",
    "\n",
    "\n"
   ]
  },
  {
   "cell_type": "markdown",
   "metadata": {},
   "source": [
    "## Replace"
   ]
  },
  {
   "cell_type": "code",
   "execution_count": 64,
   "metadata": {},
   "outputs": [
    {
     "name": "stdout",
     "output_type": "stream",
     "text": [
      "h\n",
      "e\n",
      "l\n",
      "l\n",
      "o\n",
      " \n",
      "w\n",
      "o\n",
      "r\n",
      "l\n",
      "d\n"
     ]
    },
    {
     "data": {
      "text/plain": [
       "['h', 'e', 'l', 1, 3, 5, 7, 9, 'r', 'l', 'd']"
      ]
     },
     "execution_count": 64,
     "metadata": {},
     "output_type": "execute_result"
    }
   ],
   "source": [
    "L = list('hello world')\n",
    "I = [1,3,5,7,9]\n",
    "i = 3\n",
    "\n",
    "d = []\n",
    "\n",
    "switchNeeded = False\n",
    "indexInner = 0\n",
    "\n",
    "for index in range(len(L)):\n",
    "    char = L[index]\n",
    "    print(char)\n",
    "    if i == index :\n",
    "        switchNeeded = True\n",
    "    \n",
    "    if switchNeeded:\n",
    "        d.append(I[indexInner])\n",
    "        if (len(I) -1 == indexInner):\n",
    "            switchNeeded = False\n",
    "        indexInner += 1\n",
    "        \n",
    "    else:\n",
    "        d.append(char)\n",
    "\n",
    "a = d\n",
    "a"
   ]
  },
  {
   "cell_type": "code",
   "execution_count": 65,
   "metadata": {},
   "outputs": [
    {
     "data": {
      "text/plain": [
       "['h', 'e', 'l', 1, 3, 5, 7, 9, 'r', 'l', 'd']"
      ]
     },
     "execution_count": 65,
     "metadata": {},
     "output_type": "execute_result"
    }
   ],
   "source": [
    "d = L[:]\n",
    "d[ i : i + len(I)]  = I\n",
    "\n",
    "a = d\n",
    "a"
   ]
  },
  {
   "cell_type": "code",
   "execution_count": 66,
   "metadata": {},
   "outputs": [],
   "source": [
    "# your code here\n",
    "\n",
    "\n"
   ]
  },
  {
   "cell_type": "markdown",
   "metadata": {},
   "source": [
    "## Multiplication table"
   ]
  },
  {
   "cell_type": "code",
   "execution_count": 28,
   "metadata": {},
   "outputs": [],
   "source": [
    "# 2 X 1 =  2\n",
    "# 2 X 2 =  4\n",
    "# 2 X 3 =  6\n",
    "# 2 X 4 =  8\n",
    "# ...\n",
    "# ...\n",
    "# 9 X 5 =  45\n",
    "# 9 X 6 =  54\n",
    "# 9 X 7 =  63\n",
    "# 9 X 8 =  72\n",
    "# 9 X 9 =  81"
   ]
  },
  {
   "cell_type": "code",
   "execution_count": 6,
   "metadata": {},
   "outputs": [],
   "source": [
    "# your code here\n",
    "\n",
    "\n"
   ]
  },
  {
   "cell_type": "code",
   "execution_count": 3,
   "metadata": {},
   "outputs": [
    {
     "data": {
      "text/plain": [
       "76555555567"
      ]
     },
     "execution_count": 3,
     "metadata": {},
     "output_type": "execute_result"
    }
   ],
   "source": [
    "# for(let y = -5 ; y < 6; ++y) {\n",
    "# let row = '';\n",
    "# for(let x = -5 ; x < 6; ++x) {\n",
    "# let dis = Math.abs(Math.floor(Math.sqrt(x * x + y * y)));\n",
    "# row+= `${dis}`\n",
    "# }\n",
    "# console.log(row);\n",
    "# }\n",
    "###\n",
    "76555555567\n",
    "65544444556\n",
    "55433333455\n",
    "54322222345\n",
    "54321112345\n",
    "54321012345\n",
    "54321112345\n",
    "54322222345\n",
    "55433333455\n",
    "65544444556\n",
    "76555555567\n",
    "###"
   ]
  },
  {
   "cell_type": "code",
   "execution_count": 4,
   "metadata": {},
   "outputs": [],
   "source": [
    "# your code here\n",
    "\n",
    "\n"
   ]
  },
  {
   "cell_type": "markdown",
   "metadata": {},
   "source": [
    "## Randerer"
   ]
  },
  {
   "cell_type": "code",
   "execution_count": 67,
   "metadata": {},
   "outputs": [],
   "source": [
    "# https://plotly.com/python-api-reference/\n",
    "import plotly.graph_objects as go\n",
    "\n",
    "def rendering(pts, line=False):\n",
    "\n",
    "    fig = go.Figure()\n",
    "    fig.add_trace(go.Scatter3d(\n",
    "        x=[p[0] for p in pts], \n",
    "        y=[p[1] for p in pts], \n",
    "        z=[p[2] for p in pts], \n",
    "        mode='lines+markers' if line else 'markers',\n",
    "        name='Vector',\n",
    "        marker=dict(color='blue', size=3),\n",
    "        line=dict(color='red', width=2),\n",
    "        showlegend=False \n",
    "    ))\n",
    "    fig.show()\n"
   ]
  },
  {
   "cell_type": "code",
   "execution_count": 71,
   "metadata": {},
   "outputs": [
    {
     "data": {
      "application/vnd.plotly.v1+json": {
       "config": {
        "plotlyServerURL": "https://plot.ly"
       },
       "data": [
        {
         "line": {
          "color": "red",
          "width": 2
         },
         "marker": {
          "color": "blue",
          "size": 3
         },
         "mode": "markers",
         "name": "Vector",
         "showlegend": false,
         "type": "scatter3d",
         "x": [
          0,
          1,
          2,
          3,
          4,
          5,
          6,
          7,
          8,
          9
         ],
         "y": [
          0,
          0,
          0,
          0,
          0,
          0,
          0,
          0,
          0,
          0
         ],
         "z": [
          0,
          0,
          0,
          0,
          0,
          0,
          0,
          0,
          0,
          0
         ]
        }
       ],
       "layout": {
        "template": {
         "data": {
          "bar": [
           {
            "error_x": {
             "color": "#2a3f5f"
            },
            "error_y": {
             "color": "#2a3f5f"
            },
            "marker": {
             "line": {
              "color": "#E5ECF6",
              "width": 0.5
             },
             "pattern": {
              "fillmode": "overlay",
              "size": 10,
              "solidity": 0.2
             }
            },
            "type": "bar"
           }
          ],
          "barpolar": [
           {
            "marker": {
             "line": {
              "color": "#E5ECF6",
              "width": 0.5
             },
             "pattern": {
              "fillmode": "overlay",
              "size": 10,
              "solidity": 0.2
             }
            },
            "type": "barpolar"
           }
          ],
          "carpet": [
           {
            "aaxis": {
             "endlinecolor": "#2a3f5f",
             "gridcolor": "white",
             "linecolor": "white",
             "minorgridcolor": "white",
             "startlinecolor": "#2a3f5f"
            },
            "baxis": {
             "endlinecolor": "#2a3f5f",
             "gridcolor": "white",
             "linecolor": "white",
             "minorgridcolor": "white",
             "startlinecolor": "#2a3f5f"
            },
            "type": "carpet"
           }
          ],
          "choropleth": [
           {
            "colorbar": {
             "outlinewidth": 0,
             "ticks": ""
            },
            "type": "choropleth"
           }
          ],
          "contour": [
           {
            "colorbar": {
             "outlinewidth": 0,
             "ticks": ""
            },
            "colorscale": [
             [
              0,
              "#0d0887"
             ],
             [
              0.1111111111111111,
              "#46039f"
             ],
             [
              0.2222222222222222,
              "#7201a8"
             ],
             [
              0.3333333333333333,
              "#9c179e"
             ],
             [
              0.4444444444444444,
              "#bd3786"
             ],
             [
              0.5555555555555556,
              "#d8576b"
             ],
             [
              0.6666666666666666,
              "#ed7953"
             ],
             [
              0.7777777777777778,
              "#fb9f3a"
             ],
             [
              0.8888888888888888,
              "#fdca26"
             ],
             [
              1,
              "#f0f921"
             ]
            ],
            "type": "contour"
           }
          ],
          "contourcarpet": [
           {
            "colorbar": {
             "outlinewidth": 0,
             "ticks": ""
            },
            "type": "contourcarpet"
           }
          ],
          "heatmap": [
           {
            "colorbar": {
             "outlinewidth": 0,
             "ticks": ""
            },
            "colorscale": [
             [
              0,
              "#0d0887"
             ],
             [
              0.1111111111111111,
              "#46039f"
             ],
             [
              0.2222222222222222,
              "#7201a8"
             ],
             [
              0.3333333333333333,
              "#9c179e"
             ],
             [
              0.4444444444444444,
              "#bd3786"
             ],
             [
              0.5555555555555556,
              "#d8576b"
             ],
             [
              0.6666666666666666,
              "#ed7953"
             ],
             [
              0.7777777777777778,
              "#fb9f3a"
             ],
             [
              0.8888888888888888,
              "#fdca26"
             ],
             [
              1,
              "#f0f921"
             ]
            ],
            "type": "heatmap"
           }
          ],
          "heatmapgl": [
           {
            "colorbar": {
             "outlinewidth": 0,
             "ticks": ""
            },
            "colorscale": [
             [
              0,
              "#0d0887"
             ],
             [
              0.1111111111111111,
              "#46039f"
             ],
             [
              0.2222222222222222,
              "#7201a8"
             ],
             [
              0.3333333333333333,
              "#9c179e"
             ],
             [
              0.4444444444444444,
              "#bd3786"
             ],
             [
              0.5555555555555556,
              "#d8576b"
             ],
             [
              0.6666666666666666,
              "#ed7953"
             ],
             [
              0.7777777777777778,
              "#fb9f3a"
             ],
             [
              0.8888888888888888,
              "#fdca26"
             ],
             [
              1,
              "#f0f921"
             ]
            ],
            "type": "heatmapgl"
           }
          ],
          "histogram": [
           {
            "marker": {
             "pattern": {
              "fillmode": "overlay",
              "size": 10,
              "solidity": 0.2
             }
            },
            "type": "histogram"
           }
          ],
          "histogram2d": [
           {
            "colorbar": {
             "outlinewidth": 0,
             "ticks": ""
            },
            "colorscale": [
             [
              0,
              "#0d0887"
             ],
             [
              0.1111111111111111,
              "#46039f"
             ],
             [
              0.2222222222222222,
              "#7201a8"
             ],
             [
              0.3333333333333333,
              "#9c179e"
             ],
             [
              0.4444444444444444,
              "#bd3786"
             ],
             [
              0.5555555555555556,
              "#d8576b"
             ],
             [
              0.6666666666666666,
              "#ed7953"
             ],
             [
              0.7777777777777778,
              "#fb9f3a"
             ],
             [
              0.8888888888888888,
              "#fdca26"
             ],
             [
              1,
              "#f0f921"
             ]
            ],
            "type": "histogram2d"
           }
          ],
          "histogram2dcontour": [
           {
            "colorbar": {
             "outlinewidth": 0,
             "ticks": ""
            },
            "colorscale": [
             [
              0,
              "#0d0887"
             ],
             [
              0.1111111111111111,
              "#46039f"
             ],
             [
              0.2222222222222222,
              "#7201a8"
             ],
             [
              0.3333333333333333,
              "#9c179e"
             ],
             [
              0.4444444444444444,
              "#bd3786"
             ],
             [
              0.5555555555555556,
              "#d8576b"
             ],
             [
              0.6666666666666666,
              "#ed7953"
             ],
             [
              0.7777777777777778,
              "#fb9f3a"
             ],
             [
              0.8888888888888888,
              "#fdca26"
             ],
             [
              1,
              "#f0f921"
             ]
            ],
            "type": "histogram2dcontour"
           }
          ],
          "mesh3d": [
           {
            "colorbar": {
             "outlinewidth": 0,
             "ticks": ""
            },
            "type": "mesh3d"
           }
          ],
          "parcoords": [
           {
            "line": {
             "colorbar": {
              "outlinewidth": 0,
              "ticks": ""
             }
            },
            "type": "parcoords"
           }
          ],
          "pie": [
           {
            "automargin": true,
            "type": "pie"
           }
          ],
          "scatter": [
           {
            "fillpattern": {
             "fillmode": "overlay",
             "size": 10,
             "solidity": 0.2
            },
            "type": "scatter"
           }
          ],
          "scatter3d": [
           {
            "line": {
             "colorbar": {
              "outlinewidth": 0,
              "ticks": ""
             }
            },
            "marker": {
             "colorbar": {
              "outlinewidth": 0,
              "ticks": ""
             }
            },
            "type": "scatter3d"
           }
          ],
          "scattercarpet": [
           {
            "marker": {
             "colorbar": {
              "outlinewidth": 0,
              "ticks": ""
             }
            },
            "type": "scattercarpet"
           }
          ],
          "scattergeo": [
           {
            "marker": {
             "colorbar": {
              "outlinewidth": 0,
              "ticks": ""
             }
            },
            "type": "scattergeo"
           }
          ],
          "scattergl": [
           {
            "marker": {
             "colorbar": {
              "outlinewidth": 0,
              "ticks": ""
             }
            },
            "type": "scattergl"
           }
          ],
          "scattermapbox": [
           {
            "marker": {
             "colorbar": {
              "outlinewidth": 0,
              "ticks": ""
             }
            },
            "type": "scattermapbox"
           }
          ],
          "scatterpolar": [
           {
            "marker": {
             "colorbar": {
              "outlinewidth": 0,
              "ticks": ""
             }
            },
            "type": "scatterpolar"
           }
          ],
          "scatterpolargl": [
           {
            "marker": {
             "colorbar": {
              "outlinewidth": 0,
              "ticks": ""
             }
            },
            "type": "scatterpolargl"
           }
          ],
          "scatterternary": [
           {
            "marker": {
             "colorbar": {
              "outlinewidth": 0,
              "ticks": ""
             }
            },
            "type": "scatterternary"
           }
          ],
          "surface": [
           {
            "colorbar": {
             "outlinewidth": 0,
             "ticks": ""
            },
            "colorscale": [
             [
              0,
              "#0d0887"
             ],
             [
              0.1111111111111111,
              "#46039f"
             ],
             [
              0.2222222222222222,
              "#7201a8"
             ],
             [
              0.3333333333333333,
              "#9c179e"
             ],
             [
              0.4444444444444444,
              "#bd3786"
             ],
             [
              0.5555555555555556,
              "#d8576b"
             ],
             [
              0.6666666666666666,
              "#ed7953"
             ],
             [
              0.7777777777777778,
              "#fb9f3a"
             ],
             [
              0.8888888888888888,
              "#fdca26"
             ],
             [
              1,
              "#f0f921"
             ]
            ],
            "type": "surface"
           }
          ],
          "table": [
           {
            "cells": {
             "fill": {
              "color": "#EBF0F8"
             },
             "line": {
              "color": "white"
             }
            },
            "header": {
             "fill": {
              "color": "#C8D4E3"
             },
             "line": {
              "color": "white"
             }
            },
            "type": "table"
           }
          ]
         },
         "layout": {
          "annotationdefaults": {
           "arrowcolor": "#2a3f5f",
           "arrowhead": 0,
           "arrowwidth": 1
          },
          "autotypenumbers": "strict",
          "coloraxis": {
           "colorbar": {
            "outlinewidth": 0,
            "ticks": ""
           }
          },
          "colorscale": {
           "diverging": [
            [
             0,
             "#8e0152"
            ],
            [
             0.1,
             "#c51b7d"
            ],
            [
             0.2,
             "#de77ae"
            ],
            [
             0.3,
             "#f1b6da"
            ],
            [
             0.4,
             "#fde0ef"
            ],
            [
             0.5,
             "#f7f7f7"
            ],
            [
             0.6,
             "#e6f5d0"
            ],
            [
             0.7,
             "#b8e186"
            ],
            [
             0.8,
             "#7fbc41"
            ],
            [
             0.9,
             "#4d9221"
            ],
            [
             1,
             "#276419"
            ]
           ],
           "sequential": [
            [
             0,
             "#0d0887"
            ],
            [
             0.1111111111111111,
             "#46039f"
            ],
            [
             0.2222222222222222,
             "#7201a8"
            ],
            [
             0.3333333333333333,
             "#9c179e"
            ],
            [
             0.4444444444444444,
             "#bd3786"
            ],
            [
             0.5555555555555556,
             "#d8576b"
            ],
            [
             0.6666666666666666,
             "#ed7953"
            ],
            [
             0.7777777777777778,
             "#fb9f3a"
            ],
            [
             0.8888888888888888,
             "#fdca26"
            ],
            [
             1,
             "#f0f921"
            ]
           ],
           "sequentialminus": [
            [
             0,
             "#0d0887"
            ],
            [
             0.1111111111111111,
             "#46039f"
            ],
            [
             0.2222222222222222,
             "#7201a8"
            ],
            [
             0.3333333333333333,
             "#9c179e"
            ],
            [
             0.4444444444444444,
             "#bd3786"
            ],
            [
             0.5555555555555556,
             "#d8576b"
            ],
            [
             0.6666666666666666,
             "#ed7953"
            ],
            [
             0.7777777777777778,
             "#fb9f3a"
            ],
            [
             0.8888888888888888,
             "#fdca26"
            ],
            [
             1,
             "#f0f921"
            ]
           ]
          },
          "colorway": [
           "#636efa",
           "#EF553B",
           "#00cc96",
           "#ab63fa",
           "#FFA15A",
           "#19d3f3",
           "#FF6692",
           "#B6E880",
           "#FF97FF",
           "#FECB52"
          ],
          "font": {
           "color": "#2a3f5f"
          },
          "geo": {
           "bgcolor": "white",
           "lakecolor": "white",
           "landcolor": "#E5ECF6",
           "showlakes": true,
           "showland": true,
           "subunitcolor": "white"
          },
          "hoverlabel": {
           "align": "left"
          },
          "hovermode": "closest",
          "mapbox": {
           "style": "light"
          },
          "paper_bgcolor": "white",
          "plot_bgcolor": "#E5ECF6",
          "polar": {
           "angularaxis": {
            "gridcolor": "white",
            "linecolor": "white",
            "ticks": ""
           },
           "bgcolor": "#E5ECF6",
           "radialaxis": {
            "gridcolor": "white",
            "linecolor": "white",
            "ticks": ""
           }
          },
          "scene": {
           "xaxis": {
            "backgroundcolor": "#E5ECF6",
            "gridcolor": "white",
            "gridwidth": 2,
            "linecolor": "white",
            "showbackground": true,
            "ticks": "",
            "zerolinecolor": "white"
           },
           "yaxis": {
            "backgroundcolor": "#E5ECF6",
            "gridcolor": "white",
            "gridwidth": 2,
            "linecolor": "white",
            "showbackground": true,
            "ticks": "",
            "zerolinecolor": "white"
           },
           "zaxis": {
            "backgroundcolor": "#E5ECF6",
            "gridcolor": "white",
            "gridwidth": 2,
            "linecolor": "white",
            "showbackground": true,
            "ticks": "",
            "zerolinecolor": "white"
           }
          },
          "shapedefaults": {
           "line": {
            "color": "#2a3f5f"
           }
          },
          "ternary": {
           "aaxis": {
            "gridcolor": "white",
            "linecolor": "white",
            "ticks": ""
           },
           "baxis": {
            "gridcolor": "white",
            "linecolor": "white",
            "ticks": ""
           },
           "bgcolor": "#E5ECF6",
           "caxis": {
            "gridcolor": "white",
            "linecolor": "white",
            "ticks": ""
           }
          },
          "title": {
           "x": 0.05
          },
          "xaxis": {
           "automargin": true,
           "gridcolor": "white",
           "linecolor": "white",
           "ticks": "",
           "title": {
            "standoff": 15
           },
           "zerolinecolor": "white",
           "zerolinewidth": 2
          },
          "yaxis": {
           "automargin": true,
           "gridcolor": "white",
           "linecolor": "white",
           "ticks": "",
           "title": {
            "standoff": 15
           },
           "zerolinecolor": "white",
           "zerolinewidth": 2
          }
         }
        }
       }
      }
     },
     "metadata": {},
     "output_type": "display_data"
    }
   ],
   "source": [
    "pts = []\n",
    "for x in range(10):\n",
    "    pts.append([x, 0, 0])\n",
    "\n",
    "rendering(pts)"
   ]
  },
  {
   "cell_type": "code",
   "execution_count": null,
   "metadata": {},
   "outputs": [],
   "source": [
    "pts = []\n",
    "for y in range(10):\n",
    "    for x in range(10):\n",
    "        pts.append([x, y, 0])\n",
    "\n",
    "rendering(pts)"
   ]
  },
  {
   "cell_type": "code",
   "execution_count": 72,
   "metadata": {},
   "outputs": [
    {
     "data": {
      "image/png": "[encoded data removed]",
      "text/plain": [
       "<Figure size 640x480 with 1 Axes>"
      ]
     },
     "metadata": {},
     "output_type": "display_data"
    }
   ],
   "source": [
    "import matplotlib.pyplot as plt\n",
    "import numpy as np\n",
    "\n",
    "# 벡터 정의 (예: 벡터 (2, 3))\n",
    "vector = np.array([2, 3])\n",
    "\n",
    "# 벡터를 그리기 위한 원점 설정\n",
    "origin = np.array([0, 0])\n",
    "\n",
    "# 플롯 설정\n",
    "plt.quiver(origin[0], origin[1], vector[0], vector[1], angles='xy', scale_units='xy', scale=1, color='b')\n",
    "\n",
    "# 축의 범위 설정\n",
    "plt.xlim(-5, 5)\n",
    "plt.ylim(-5, 5)\n",
    "\n",
    "# 축 비율을 동일하게 설정\n",
    "plt.gca().set_aspect('equal', adjustable='box')\n",
    "\n",
    "# 그리드 표시\n",
    "plt.grid(True)\n",
    "\n",
    "# 레이블 추가\n",
    "plt.title(\"2D Vector\")\n",
    "plt.xlabel(\"X-axis\")\n",
    "plt.ylabel(\"Y-axis\")\n",
    "\n",
    "# 그래프 출력\n",
    "plt.show()"
   ]
  },
  {
   "cell_type": "code",
   "execution_count": 74,
   "metadata": {},
   "outputs": [
    {
     "data": {
      "image/png": "[encoded data removed]",
      "text/plain": [
       "<Figure size 640x480 with 1 Axes>"
      ]
     },
     "metadata": {},
     "output_type": "display_data"
    }
   ],
   "source": [
    "import matplotlib.pyplot as plt\n",
    "import numpy as np\n",
    "\n",
    "# 랜덤 2D 포인트 클라우드 생성 (예: 1000개의 포인트)\n",
    "n_points = 1000\n",
    "x = np.random.randn(n_points)\n",
    "y = np.random.randn(n_points)\n",
    "\n",
    "# 2D 포인트 클라우드 플로팅\n",
    "plt.scatter(x, y, c='r', marker='o')\n",
    "\n",
    "# 축 레이블 추가\n",
    "plt.xlabel('X Label')\n",
    "plt.ylabel('Y Label')\n",
    "\n",
    "# 제목 추가\n",
    "plt.title('2D Point Cloud')\n",
    "\n",
    "# 그래프 출력\n",
    "plt.show()\n"
   ]
  },
  {
   "cell_type": "markdown",
   "metadata": {},
   "source": [
    "## Additional Reading and Resources\n",
    "* Rhino Grasshopper Python Challenge - https://computationaldesign.tistory.com/25\n",
    "* python documentation(3.x) - https://docs.python.org/3/\n",
    "* codecademy - https://www.codecademy.com/learn/learn-python-3\n",
    "* Think Python - https://www.greenteapress.com/thinkpython/thinkpython.pdf"
   ]
  },
  {
   "cell_type": "markdown",
   "metadata": {},
   "source": []
  }
 ],
 "metadata": {
  "anaconda-cloud": {},
  "colab": {
   "collapsed_sections": [
    "IXA3blepfn6_"
   ],
   "name": "Workshop_1_PythonBasic.ipynb",
   "provenance": [
    {
     "file_id": "167REEeyGBzQfegmXh289kbJjctbVVHVj",
     "timestamp": 1591310560561
    }
   ],
   "toc_visible": true
  },
  "kernelspec": {
   "display_name": "torch-2024",
   "language": "python",
   "name": "python3"
  },
  "language_info": {
   "codemirror_mode": {
    "name": "ipython",
    "version": 3
   },
   "file_extension": ".py",
   "mimetype": "text/x-python",
   "name": "python",
   "nbconvert_exporter": "python",
   "pygments_lexer": "ipython3",
   "version": "3.12.2"
  }
 },
 "nbformat": 4,
 "nbformat_minor": 0
}
